{
 "cells": [
  {
   "cell_type": "markdown",
   "metadata": {},
   "source": [
    "# Scraping images from flipkart"
   ]
  },
  {
   "cell_type": "markdown",
   "metadata": {},
   "source": [
    "Step 1: import the libraries and get the URL of the webpage"
   ]
  },
  {
   "cell_type": "code",
   "execution_count": 1,
   "metadata": {},
   "outputs": [],
   "source": [
    "from selenium import webdriver\n",
    "import os"
   ]
  },
  {
   "cell_type": "code",
   "execution_count": 2,
   "metadata": {},
   "outputs": [],
   "source": [
    "driver= webdriver.Chrome('E:\\\\chrome_driver\\\\chromedriver.exe')"
   ]
  },
  {
   "cell_type": "code",
   "execution_count": 3,
   "metadata": {},
   "outputs": [],
   "source": [
    "my_page= driver.get('https://www.flipkart.com/clothing-and-accessories/topwear/tshirt/men-tshirt/pr?sid=clo,ash,ank,edy&otracker=categorytree&otracker=nmenu_sub_Men_0_T-Shirts')"
   ]
  },
  {
   "cell_type": "markdown",
   "metadata": {},
   "source": [
    "Step 2: Making the directory to store images"
   ]
  },
  {
   "cell_type": "code",
   "execution_count": 4,
   "metadata": {},
   "outputs": [],
   "source": [
    "# Optional step\n",
    "def make_directory(dirname):\n",
    "    current_path= os.getcwd()\n",
    "    path= os.path.join(current_path, dirname)\n",
    "    if not os.path.exists(path):\n",
    "        os.makedirs(path)"
   ]
  },
  {
   "cell_type": "code",
   "execution_count": 5,
   "metadata": {},
   "outputs": [],
   "source": [
    "make_directory(\"T-Shirts\")"
   ]
  },
  {
   "cell_type": "markdown",
   "metadata": {},
   "source": [
    "Step 3: Scraping URLs of images"
   ]
  },
  {
   "cell_type": "code",
   "execution_count": 6,
   "metadata": {},
   "outputs": [],
   "source": [
    "images= driver.find_elements_by_xpath(\"//img[@class='_3togXc']\")"
   ]
  },
  {
   "cell_type": "code",
   "execution_count": 7,
   "metadata": {},
   "outputs": [
    {
     "name": "stdout",
     "output_type": "stream",
     "text": [
      "40\n"
     ]
    }
   ],
   "source": [
    "print(len(images))"
   ]
  },
  {
   "cell_type": "code",
   "execution_count": 8,
   "metadata": {},
   "outputs": [
    {
     "data": {
      "text/plain": [
       "<selenium.webdriver.remote.webelement.WebElement (session=\"067262284d22e2f67895b7172f651611\", element=\"db6bd232-489e-48e1-94f9-aa508265fb40\")>"
      ]
     },
     "execution_count": 8,
     "metadata": {},
     "output_type": "execute_result"
    }
   ],
   "source": [
    "images[0]"
   ]
  },
  {
   "cell_type": "code",
   "execution_count": 9,
   "metadata": {},
   "outputs": [
    {
     "name": "stdout",
     "output_type": "stream",
     "text": [
      "https://rukminim1.flixcart.com/image/329/395/k76ihe80/t-shirt/a/g/f/l-sporty-casuals-gray-black-wrath-original-imafpghk9gbhqvrn.jpeg?q=50\n",
      "https://rukminim1.flixcart.com/image/329/395/k73nlow0/t-shirt/r/c/h/xl-dashing-guy-teal-blue-wrath-original-imafpe8ysfwhjbzz.jpeg?q=50\n",
      "https://rukminim1.flixcart.com/image/329/395/jm3ro280/t-shirt/9/h/f/m-style-tshirt-try-this-original-imaf8zxukgz3cjhq.jpeg?q=50\n",
      "https://rukminim1.flixcart.com/image/329/395/k40798w0/t-shirt/r/x/a/xxl-4054-xxl-fastcolors-original-imafny3vwstwzyvh.jpeg?q=50\n",
      "https://rukminim1.flixcart.com/image/329/395/jtn9bww0/t-shirt/5/g/g/m-hm-1001-black-red-helmont-original-imafdfvvr8hqdu65.jpeg?q=50\n",
      "https://rukminim1.flixcart.com/image/329/395/jza5uvk0/t-shirt/s/n/n/l-striped-try-this-original-imafj8mfhxhmfxtm.jpeg?q=50\n",
      "https://rukminim1.flixcart.com/image/329/395/kdoup3k0-0/t-shirt/9/q/v/l-4180-4181-4182-fastcolors-original-imafuj6gmgg6zfuv.jpeg?q=50\n",
      "https://rukminim1.flixcart.com/image/329/395/k40798w0/t-shirt/4/g/6/l-fc4131-fastcolors-original-imafny3wkfpmhny8.jpeg?q=50\n",
      "https://rukminim1.flixcart.com/image/329/395/k40798w0/t-shirt/m/j/h/xxl-4070-xxl-fastcolors-original-imafnyyh8cvzbyep.jpeg?q=50\n",
      "https://rukminim1.flixcart.com/image/329/395/k3khevk0/t-shirt/m/6/7/l-aff-1001-mustard-black-adiba-fashion-factory-original-imafmn8a7me5gej4.jpeg?q=50\n",
      "https://rukminim1.flixcart.com/image/329/395/k868how0/t-shirt/g/e/f/xl-4058-fastcolors-original-imafq9fnzbyr723w.jpeg?q=50\n",
      "https://rukminim1.flixcart.com/image/329/395/k7531jk0/t-shirt/z/c/a/s-rh-roundnck-x-hlfslv-blk-org-skin-rockhard-original-imafpfvkgtxeuz77.jpeg?q=50\n",
      "https://rukminim1.flixcart.com/image/329/395/k5vcya80/t-shirt/m/d/2/l-kd286287-kay-dee-original-imafzejhaahtyncr.jpeg?q=50\n",
      "https://rukminim1.flixcart.com/image/329/395/k76ihe80/t-shirt/f/g/n/s-sporty-casuals-green-black-wrath-original-imafpghkguzzwuy7.jpeg?q=50\n",
      "https://rukminim1.flixcart.com/image/329/395/k5y7tzk0/t-shirt/g/z/3/m-4057-m-fastcolors-original-imafzgqpv5cf3arp.jpeg?q=50\n",
      "https://rukminim1.flixcart.com/image/329/395/jlgwmfk0/t-shirt/g/w/9/l-blubrdr01-diwazzo-original-imaf8h3gzhgnuw7h.jpeg?q=50\n",
      "https://rukminim1.flixcart.com/image/329/395/jufu4y80/t-shirt/r/b/b/xxl-jrkcollerplain-jorkk-original-imaffkqweypt2gbh.jpeg?q=50\n",
      "https://rukminim1.flixcart.com/image/329/395/kbxzbm80/t-shirt/u/y/n/l-4131-4132-fastcolors-original-imaft67ezxatnpxz.jpeg?q=50\n",
      "https://rukminim1.flixcart.com/image/329/395/k7dnonk0/t-shirt/x/h/a/xl-nyc-maroon-smartees-original-imafphzydf7pkgrc.jpeg?q=50\n",
      "https://rukminim1.flixcart.com/image/329/395/k76ihe80/t-shirt/p/y/m/xxl-effortless-casuals-teal-blue-wrath-original-imafpghkkw3d4xnz.jpeg?q=50\n",
      "https://rukminim1.flixcart.com/image/329/395/k30h8y80/t-shirt/u/z/s/s-shp275282-shapphr-original-imafjvg4nngzwrfw.jpeg?q=50\n",
      "https://rukminim1.flixcart.com/image/329/395/jp780i80/t-shirt/u/8/t/s-tnvhdfulabstract1-tripr-original-imafbdarnwhfh7uu.jpeg?q=50\n",
      "https://rukminim1.flixcart.com/image/329/395/jtn9bww0/t-shirt/5/f/c/s-hm-1001-maroon-black-helmont-original-imafdfvvz65ab7vm.jpeg?q=50\n",
      "https://rukminim1.flixcart.com/image/329/395/k2w6xe80/t-shirt/k/a/z/xl-camstrpyel-half-whigre-urbano-fashion-original-imafm5cmyqz9ugwy.jpeg?q=50\n",
      "https://rukminim1.flixcart.com/image/329/395/k4bms280/t-shirt/5/b/t/m-11-v-neck-try-this-original-imaf969m4due9wbm.jpeg?q=50\n",
      "https://rukminim1.flixcart.com/image/329/395/kafol8w0/t-shirt/4/b/t/m-fc4129-fastcolors-original-imafsyc9h9gjztxv.jpeg?q=50\n",
      "https://rukminim1.flixcart.com/image/329/395/jrxtea80/t-shirt/b/e/e/l-lifeo58-lifeidea-original-imafdmg5ueypzthh.jpeg?q=50\n",
      "https://rukminim1.flixcart.com/image/329/395/kdoup3k0-0/t-shirt/1/z/q/m-4180-4182-fastcolors-original-imafuj6gr6ssrpx3.jpeg?q=50\n",
      "https://rukminim1.flixcart.com/image/329/395/kbxzbm80/t-shirt/b/w/d/m-4054-4128-fastcolors-original-imaft67dvjbhq7jf.jpeg?q=50\n",
      "https://rukminim1.flixcart.com/image/329/395/jw84ya80/t-shirt/6/6/j/l-in-cn-fs-sqlines-darkgrey-l-inkovy-original-imafgymgpczyjwpm.jpeg?q=50\n",
      "https://rukminim1.flixcart.com/image/329/395/kd69z0w0/t-shirt/u/t/q/xl-togr-blhdful-believer-tripr-original-imafu4ybfwdqhqfm.jpeg?q=50\n",
      "https://rukminim1.flixcart.com/image/329/395/jt4olu80/t-shirt/v/7/v/xl-t-shirt-0068-eg-original-imafejrfpzjkxvkq.jpeg?q=50\n",
      "https://rukminim1.flixcart.com/image/329/395/k547l3k0/t-shirt/e/2/a/s-beltlytshirt-beltly-original-imafng7dzynapyja.jpeg?q=50\n",
      "https://rukminim1.flixcart.com/image/329/395/t-shirt/g/d/g/inkovy-hood-half-black-inkovy-l-original-imae92tyhytpxwzb.jpeg?q=50\n",
      "https://rukminim1.flixcart.com/image/329/395/jz8qf0w0/t-shirt/q/n/w/l-4126-l-fastcolors-original-imafj2eea5yzdgtu.jpeg?q=50\n",
      "https://rukminim1.flixcart.com/image/329/395/kcgk1ow0/t-shirt/d/i/z/xl-hsb11-mrn-trends-tower-original-imaftkustrjqthgy.jpeg?q=50\n",
      "https://rukminim1.flixcart.com/image/329/395/k40798w0/t-shirt/m/f/p/m-fc4132-fastcolors-original-imafny3wn686zxre.jpeg?q=50\n",
      "https://rukminim1.flixcart.com/image/329/395/jz05rww0/shirt/7/m/s/s-marroon-sst-try-this-original-imafghg2xpkgbhtv.jpeg?q=50\n",
      "https://rukminim1.flixcart.com/image/329/395/k7qinbk0/t-shirt/r/g/r/s-rt-slevattitude-org-nvy-ronit-s-trend-original-imafpwnyhqhxf8he.jpeg?q=50\n",
      "https://rukminim1.flixcart.com/image/329/395/jh0vb0w0/t-shirt/a/m/3/l-inkovy-hood-half-camoskyblue-inkovy-original-imaf546uy4zvfaen.jpeg?q=50\n"
     ]
    }
   ],
   "source": [
    "urls= []\n",
    "for image in images:\n",
    "    source= image.get_attribute('src')\n",
    "    urls.append(source)\n",
    "    print(source)"
   ]
  },
  {
   "cell_type": "code",
   "execution_count": 10,
   "metadata": {},
   "outputs": [
    {
     "data": {
      "text/plain": [
       "40"
      ]
     },
     "execution_count": 10,
     "metadata": {},
     "output_type": "execute_result"
    }
   ],
   "source": [
    "len(urls)"
   ]
  },
  {
   "cell_type": "markdown",
   "metadata": {},
   "source": [
    "Step 4: Using the URLs to download images"
   ]
  },
  {
   "cell_type": "code",
   "execution_count": 11,
   "metadata": {},
   "outputs": [],
   "source": [
    "import shutil\n",
    "import requests"
   ]
  },
  {
   "cell_type": "code",
   "execution_count": 12,
   "metadata": {},
   "outputs": [
    {
     "name": "stdout",
     "output_type": "stream",
     "text": [
      "Downloading 1 of 40 images from page 1\n",
      "Downloading 2 of 40 images from page 1\n",
      "Downloading 3 of 40 images from page 1\n",
      "Downloading 4 of 40 images from page 1\n",
      "Downloading 5 of 40 images from page 1\n",
      "Downloading 6 of 40 images from page 1\n",
      "Downloading 7 of 40 images from page 1\n",
      "Downloading 8 of 40 images from page 1\n",
      "Downloading 9 of 40 images from page 1\n",
      "Downloading 10 of 40 images from page 1\n",
      "Downloading 11 of 40 images from page 1\n",
      "Downloading 12 of 40 images from page 1\n",
      "Downloading 13 of 40 images from page 1\n",
      "Downloading 14 of 40 images from page 1\n",
      "Downloading 15 of 40 images from page 1\n",
      "Downloading 16 of 40 images from page 1\n",
      "Downloading 17 of 40 images from page 1\n",
      "Downloading 18 of 40 images from page 1\n",
      "Downloading 19 of 40 images from page 1\n",
      "Downloading 20 of 40 images from page 1\n",
      "Downloading 21 of 40 images from page 1\n",
      "Downloading 22 of 40 images from page 1\n",
      "Downloading 23 of 40 images from page 1\n",
      "Downloading 24 of 40 images from page 1\n",
      "Downloading 25 of 40 images from page 1\n",
      "Downloading 26 of 40 images from page 1\n",
      "Downloading 27 of 40 images from page 1\n",
      "Downloading 28 of 40 images from page 1\n",
      "Downloading 29 of 40 images from page 1\n",
      "Downloading 30 of 40 images from page 1\n",
      "Downloading 31 of 40 images from page 1\n",
      "Downloading 32 of 40 images from page 1\n",
      "Downloading 33 of 40 images from page 1\n",
      "Downloading 34 of 40 images from page 1\n",
      "Downloading 35 of 40 images from page 1\n",
      "Downloading 36 of 40 images from page 1\n",
      "Downloading 37 of 40 images from page 1\n",
      "Downloading 38 of 40 images from page 1\n",
      "Downloading 39 of 40 images from page 1\n",
      "Downloading 40 of 40 images from page 1\n"
     ]
    }
   ],
   "source": [
    "page=1\n",
    "for index, link in enumerate(urls):\n",
    "    print(\"Downloading {0} of {1} images from page 1\".format(index+1, len(urls)))\n",
    "    response= requests.get(link)\n",
    "    with open('T-Shirts/img_{0}{1}.jpeg'.format(index, page), \"wb\") as file:\n",
    "        file.write(response.content)"
   ]
  },
  {
   "cell_type": "markdown",
   "metadata": {},
   "source": [
    "Step 5: Moving to the next page"
   ]
  },
  {
   "cell_type": "code",
   "execution_count": 14,
   "metadata": {},
   "outputs": [],
   "source": [
    "# Now we find the 'Next' button using x_path and using selenium we click it\n",
    "next_page= driver.find_element_by_xpath(\"//a[@class='_3fVaIS']\").click()"
   ]
  },
  {
   "cell_type": "code",
   "execution_count": 15,
   "metadata": {},
   "outputs": [],
   "source": [
    "# Following the same steps from step 3 onwards.\n",
    "images= driver.find_elements_by_xpath(\"//img[@class='_3togXc']\")"
   ]
  },
  {
   "cell_type": "code",
   "execution_count": 16,
   "metadata": {},
   "outputs": [
    {
     "name": "stdout",
     "output_type": "stream",
     "text": [
      "https://rukminim1.flixcart.com/image/329/395/kd4uj680/t-shirt/k/m/u/s-joy-503-white-joycotts-original-imafu3wpvduzsygk.jpeg?q=50\n",
      "https://rukminim1.flixcart.com/image/329/395/k4bms280/t-shirt/2/v/s/l-c11-try-this-original-imafghgrcwdqfjes.jpeg?q=50\n",
      "https://rukminim1.flixcart.com/image/329/395/jt4olu80/t-shirt/h/z/n/xl-ar175184-shapphr-original-imafegzhfv9hbf3c.jpeg?q=50\n",
      "https://rukminim1.flixcart.com/image/329/395/k19lvgw0/t-shirt/h/x/b/m-camo-raglan-green-rezalia-original-imaf6sz4azjukyzg.jpeg?q=50\n",
      "https://rukminim1.flixcart.com/image/329/395/k2z1t3k0/t-shirt/h/h/t/xl-shp275282-shapphr-original-imafjvg4jgembdsj.jpeg?q=50\n",
      "https://rukminim1.flixcart.com/image/329/395/k3lwuq80/t-shirt/h/v/c/xl-tsrt-118-xl-reya-original-imafmz7zyqgppwkh.jpeg?q=50\n",
      "https://rukminim1.flixcart.com/image/329/395/jufu4y80/t-shirt/d/x/d/xxl-jrkcollerplain-jorkk-original-imaffkqwnbgdzzyu.jpeg?q=50\n",
      "https://rukminim1.flixcart.com/image/329/395/kavefm80/t-shirt/u/y/z/m-shp307313-shapphr-original-imafsczmqtjvjjjb.jpeg?q=50\n",
      "https://rukminim1.flixcart.com/image/329/395/k868how0/t-shirt/f/u/h/s-fc4071-fastcolors-original-imafq9fnp6cytcry.jpeg?q=50\n",
      "https://rukminim1.flixcart.com/image/329/395/jj6130w0/t-shirt/c/m/t/s-inkovy-crew-full-raglan-camoskyblue-inkovy-original-imaf6sz3grfyrg63.jpeg?q=50\n",
      "https://rukminim1.flixcart.com/image/329/395/kcjexe80/t-shirt/z/3/z/xxl-tblogr-blylrnful-r5-tripr-original-imaftnf3ysmybnbh.jpeg?q=50\n",
      "https://rukminim1.flixcart.com/image/329/395/k2z1t3k0/t-shirt/z/r/7/s-shp275282-shapphr-original-imafjvg4vef8fgfq.jpeg?q=50\n",
      "https://rukminim1.flixcart.com/image/329/395/kavefm80/t-shirt/y/6/h/s-bul-bsp015-013-017-bullmer-original-imafsc47hdfcea5t.jpeg?q=50\n",
      "https://rukminim1.flixcart.com/image/329/395/kb3z2q80/t-shirt/c/n/h/xl-mtc32-wrath-original-imafsjhr37greemf.jpeg?q=50\n",
      "https://rukminim1.flixcart.com/image/329/395/k5y7tzk0/shirt/j/6/v/l-t-1003-lawful-casual-original-imafj7yx99xnrbft.jpeg?q=50\n",
      "https://rukminim1.flixcart.com/image/329/395/kbxzbm80/t-shirt/v/b/j/xl-4044-4054-fastcolors-original-imaft63pdunjaprk.jpeg?q=50\n",
      "https://rukminim1.flixcart.com/image/329/395/jw0zr0w0/t-shirt/g/u/q/s-daredevil-party-wear-wrath-original-imafgsggwmdabfx4.jpeg?q=50\n",
      "https://rukminim1.flixcart.com/image/329/395/jtvtz0w0/t-shirt/m/q/f/xl-haif-fine-white-one-nb-nicky-boy-original-imaff2nenyyrgzce.jpeg?q=50\n",
      "https://rukminim1.flixcart.com/image/329/395/k4bms280/t-shirt/x/4/g/s-died-yarn-tshirt-try-this-original-imaf8ytcnvzmf8t5.jpeg?q=50\n",
      "https://rukminim1.flixcart.com/image/329/395/j6i7ma80/t-shirt/s/8/n/s-inkovy-patch-lightblue-inkovy-original-imaewyh89hfbyfn5.jpeg?q=50\n",
      "https://rukminim1.flixcart.com/image/329/395/jyt0knk0/t-shirt/m/y/w/m-tshirt8182-the-eg-store-original-imafgxnu5brghyzq.jpeg?q=50\n",
      "https://rukminim1.flixcart.com/image/329/395/k3khevk0/t-shirt/x/t/f/s-aff-1021blackred-adiba-fashion-factory-original-imafmn8anyjh3nvc.jpeg?q=50\n",
      "https://rukminim1.flixcart.com/image/329/395/k62i5jk0/t-shirt/e/t/9/3xl-trdblhdful-orgl-tripr-original-imafzhvtcmpf3zzq.jpeg?q=50\n",
      "https://rukminim1.flixcart.com/image/329/395/kd69z0w0/t-shirt/b/t/p/l-o-8220005-060-red-chief-original-imafu4zzry9zvjag.jpeg?q=50\n",
      "https://rukminim1.flixcart.com/image/329/395/kbxzbm80/t-shirt/m/z/y/m-4070-4071-fastcolors-original-imaft67exwhayhhe.jpeg?q=50\n",
      "https://rukminim1.flixcart.com/image/329/395/k6i7zww0/t-shirt/b/p/w/xxl-5tsrt-100-101-reya-original-imafmqdradk7zzdh.jpeg?q=50\n",
      "https://rukminim1.flixcart.com/image/329/395/k4bms280/t-shirt/q/r/e/l-togo-try-this-original-imafghayjeh5xrb7.jpeg?q=50\n",
      "https://rukminim1.flixcart.com/image/329/395/k2z1t3k0/t-shirt/g/h/x/m-shp275282-shapphr-original-imafjw99udpf7ujy.jpeg?q=50\n",
      "https://rukminim1.flixcart.com/image/329/395/k44hksw0/t-shirt/m/t/r/m-dv24solidmustard-diversify-original-imafkbzvhcn3vgs7.jpeg?q=50\n",
      "https://rukminim1.flixcart.com/image/329/395/t-shirt/a/s/u/izinc-hood-full-maroon-izinc-l-original-imaeds9yuh4mgzmb.jpeg?q=50\n",
      "https://rukminim1.flixcart.com/image/329/395/k3lwuq80/t-shirt/y/c/g/xxl-tsrt-116-xxl-reya-original-imafmz7zbcahtsfj.jpeg?q=50\n",
      "https://rukminim1.flixcart.com/image/329/395/jz05rww0/t-shirt/s/t/p/xl-blue-chex-try-this-original-imafj3eysyvftt7f.jpeg?q=50\n",
      "https://rukminim1.flixcart.com/image/329/395/k0lbdzk0/t-shirt/2/r/b/m-525-526-combo-london-hills-original-imafkch5udqhfjxm.jpeg?q=50\n",
      "https://rukminim1.flixcart.com/image/329/395/j7gi6q80/t-shirt/q/m/n/l-inkovy-contrast-lightblue-inkovy-original-imaexzttduvw3ezq.jpeg?q=50\n",
      "https://rukminim1.flixcart.com/image/329/395/jz05rww0/t-shirt/u/y/3/l-died-yarn-try-this-original-imafj3dsj69kxrez.jpeg?q=50\n",
      "https://rukminim1.flixcart.com/image/329/395/k6dxocw0/t-shirt/7/z/5/3xl-t16-seven-rocks-original-imafzusqusxzcknz.jpeg?q=50\n",
      "https://rukminim1.flixcart.com/image/329/395/k3lwuq80/t-shirt/h/v/c/xl-tsrt-118-xl-reya-original-imafmz7zyqgppwkh.jpeg?q=50\n",
      "https://rukminim1.flixcart.com/image/329/395/k7ksvww0/t-shirt/x/e/p/l-feathers-black-smartees-original-imafps9knhqkfzgk.jpeg?q=50\n",
      "https://rukminim1.flixcart.com/image/329/395/jhgl5e80/t-shirt/u/q/g/xl-lh-t-462-61-51-58-london-hills-original-imaf5h62brmpvuea.jpeg?q=50\n",
      "https://rukminim1.flixcart.com/image/329/395/k7c88sw0/t-shirt/y/8/g/l-inkovy-crew-full-flybird1-lightblue-inkovy-original-imafph2kwgejwwpy.jpeg?q=50\n"
     ]
    }
   ],
   "source": [
    "urls= []\n",
    "for image in images:\n",
    "    source= image.get_attribute('src')\n",
    "    urls.append(source)\n",
    "    print(source)"
   ]
  },
  {
   "cell_type": "code",
   "execution_count": 17,
   "metadata": {
    "scrolled": false
   },
   "outputs": [
    {
     "name": "stdout",
     "output_type": "stream",
     "text": [
      "Downloading 1 of 40 images from page 2\n",
      "Downloading 2 of 40 images from page 2\n",
      "Downloading 3 of 40 images from page 2\n",
      "Downloading 4 of 40 images from page 2\n",
      "Downloading 5 of 40 images from page 2\n",
      "Downloading 6 of 40 images from page 2\n",
      "Downloading 7 of 40 images from page 2\n",
      "Downloading 8 of 40 images from page 2\n",
      "Downloading 9 of 40 images from page 2\n",
      "Downloading 10 of 40 images from page 2\n",
      "Downloading 11 of 40 images from page 2\n",
      "Downloading 12 of 40 images from page 2\n",
      "Downloading 13 of 40 images from page 2\n",
      "Downloading 14 of 40 images from page 2\n",
      "Downloading 15 of 40 images from page 2\n",
      "Downloading 16 of 40 images from page 2\n",
      "Downloading 17 of 40 images from page 2\n",
      "Downloading 18 of 40 images from page 2\n",
      "Downloading 19 of 40 images from page 2\n",
      "Downloading 20 of 40 images from page 2\n",
      "Downloading 21 of 40 images from page 2\n",
      "Downloading 22 of 40 images from page 2\n",
      "Downloading 23 of 40 images from page 2\n",
      "Downloading 24 of 40 images from page 2\n",
      "Downloading 25 of 40 images from page 2\n",
      "Downloading 26 of 40 images from page 2\n",
      "Downloading 27 of 40 images from page 2\n",
      "Downloading 28 of 40 images from page 2\n",
      "Downloading 29 of 40 images from page 2\n",
      "Downloading 30 of 40 images from page 2\n",
      "Downloading 31 of 40 images from page 2\n",
      "Downloading 32 of 40 images from page 2\n",
      "Downloading 33 of 40 images from page 2\n",
      "Downloading 34 of 40 images from page 2\n",
      "Downloading 35 of 40 images from page 2\n",
      "Downloading 36 of 40 images from page 2\n",
      "Downloading 37 of 40 images from page 2\n",
      "Downloading 38 of 40 images from page 2\n",
      "Downloading 39 of 40 images from page 2\n",
      "Downloading 40 of 40 images from page 2\n"
     ]
    }
   ],
   "source": [
    "# Changing for page 2\n",
    "page=2\n",
    "for index, link in enumerate(urls):\n",
    "    print(\"Downloading {0} of {1} images from page 2\".format(index+1, len(urls)))\n",
    "    response= requests.get(link)\n",
    "    with open('T-Shirts/img_{0}{1}.jpeg'.format(index, page), \"wb\") as file:\n",
    "        file.write(response.content)"
   ]
  },
  {
   "cell_type": "markdown",
   "metadata": {},
   "source": [
    "Step 6: Moving to the next page"
   ]
  },
  {
   "cell_type": "code",
   "execution_count": 19,
   "metadata": {},
   "outputs": [],
   "source": [
    "# Now we find the 'Next' button using x_path and using selenium we click it\n",
    "next_page= driver.find_element_by_xpath(\"//a[@class='_3fVaIS']\").click()"
   ]
  },
  {
   "cell_type": "code",
   "execution_count": 23,
   "metadata": {},
   "outputs": [],
   "source": [
    "# Following the same steps from step 3 onwards.\n",
    "images= driver.find_elements_by_xpath(\"//img[@class='_3togXc']\")"
   ]
  },
  {
   "cell_type": "code",
   "execution_count": 24,
   "metadata": {},
   "outputs": [
    {
     "name": "stdout",
     "output_type": "stream",
     "text": [
      "https://rukminim1.flixcart.com/image/329/395/k2z1t3k0/t-shirt/m/a/s/xl-shp275282-shapphr-original-imafjw9pgpfyycmh.jpeg?q=50\n",
      "https://rukminim1.flixcart.com/image/329/395/kbxzbm80/t-shirt/j/e/y/l-4054-4127-fastcolors-original-imaft67dsf4kwzgh.jpeg?q=50\n",
      "https://rukminim1.flixcart.com/image/329/395/kdbzqfk0/t-shirt/l/l/a/l-tbt-try-this-original-imafu9kkhptg7xuh.jpeg?q=50\n",
      "https://rukminim1.flixcart.com/image/329/395/t-shirt/c/u/t/hood-full-darkgrey-inkovy-l-original-imaedp5qbhps4vzy.jpeg?q=50\n",
      "https://rukminim1.flixcart.com/image/329/395/ju4em4w0/t-shirt/g/h/q/xxl-tgyrdganesh-tripr-original-imaffahmjwf2gbb4.jpeg?q=50\n",
      "https://rukminim1.flixcart.com/image/329/395/k4bms280/t-shirt/k/f/j/m-bathteck-try-this-original-imafgt57nvhnry4r.jpeg?q=50\n",
      "https://rukminim1.flixcart.com/image/329/395/jx9aefk0/t-shirt/q/q/z/l-rzl-2strp-rnd-hf-mrn-rezalia-original-imafhqsmznhbbycq.jpeg?q=50\n",
      "https://rukminim1.flixcart.com/image/329/395/kbgu1e80/t-shirt/a/g/r/xxl-4057-58-129c-fastcolors-original-imafssj79pgpkyry.jpeg?q=50\n",
      "https://rukminim1.flixcart.com/image/329/395/jnm2efk0/t-shirt/t/e/f/l-jdb-mens-fs-rnck-tucks-navy-just-dress-better-original-imafa9c9kgdavh5m.jpeg?q=50\n",
      "https://rukminim1.flixcart.com/image/329/395/kc3p30w0/t-shirt/k/v/s/s-in-cn-fs-castripe-black-l-inkovy-original-imaftaxzdkukzgsf.jpeg?q=50\n",
      "https://rukminim1.flixcart.com/image/329/395/jw6pifk0/t-shirt/e/v/z/m-61ywn-lewel-original-imafgxd7dfg7uub2.jpeg?q=50\n",
      "https://rukminim1.flixcart.com/image/329/395/jw0zr0w0/t-shirt/e/t/m/xxl-daredevil-party-wear-wrath-original-imafgsggdhrwt3sa.jpeg?q=50\n",
      "https://rukminim1.flixcart.com/image/329/395/kb89ea80/t-shirt/4/g/d/m-465-466-blue-mustard-london-hills-original-imafshrzdyrmvgzb.jpeg?q=50\n",
      "https://rukminim1.flixcart.com/image/329/395/jfsknm80/t-shirt/v/y/n/s-inkovy-crew-full-shoesprint-black-inkovy-original-imaf46r5uk2tvtr9.jpeg?q=50\n",
      "https://rukminim1.flixcart.com/image/329/395/jz4g3gw0/t-shirt/5/u/t/s-hood-4010-katso-original-imafj6thnwcfmayz.jpeg?q=50\n",
      "https://rukminim1.flixcart.com/image/329/395/kavefm80/t-shirt/d/h/9/m-bul-bsp015-012-021-bullmer-original-imafsbwxjfeztfqv.jpeg?q=50\n",
      "https://rukminim1.flixcart.com/image/329/395/kasjjww0/t-shirt/z/h/6/l-fc4173-fastcolors-original-imafsaynpjcnumkg.jpeg?q=50\n",
      "https://rukminim1.flixcart.com/image/329/395/k6jnfrk0/t-shirt/7/u/y/m-poly-511-12-14-tqh-original-imafzz5cf2v6fywv.jpeg?q=50\n",
      "https://rukminim1.flixcart.com/image/329/395/k2z1t3k0/t-shirt/g/e/x/s-shp275282-shapphr-original-imafjvg3ym6gfqvn.jpeg?q=50\n",
      "https://rukminim1.flixcart.com/image/329/395/jfsknm80/t-shirt/z/w/n/l-inkovy-crew-full-85print-black-inkovy-original-imaf46r5gh8fgjhj.jpeg?q=50\n",
      "https://rukminim1.flixcart.com/image/329/395/k3lwuq80/t-shirt/y/c/g/xxl-tsrt-116-xxl-reya-original-imafmz7zbcahtsfj.jpeg?q=50\n",
      "https://rukminim1.flixcart.com/image/329/395/k7xnukw0/t-shirt/q/g/u/m-tnvwm-rdblhdful-orgl-tripr-original-imafq2cefdxcg3bn.jpeg?q=50\n",
      "https://rukminim1.flixcart.com/image/329/395/k3ncakw0/t-shirt/g/g/h/l-men-fw18-hood-fs-olive-black-watched-maniac-original-imafmq32sk8jpq7s.jpeg?q=50\n",
      "https://rukminim1.flixcart.com/image/329/395/t-shirt/t/a/j/inkovy-roundneck-sleeveless-black-inkovy-xl-original-imae92ty6cgfn2ra.jpeg?q=50\n",
      "https://rukminim1.flixcart.com/image/329/395/k58hwnk0/t-shirt/z/h/e/l-maroonshoulderblack-wearza-original-imafnyh73qmy6nuf.jpeg?q=50\n",
      "https://rukminim1.flixcart.com/image/329/395/k3lwuq80/t-shirt/y/c/g/xxl-tsrt-116-xxl-reya-original-imafmz7zbcahtsfj.jpeg?q=50\n",
      "https://rukminim1.flixcart.com/image/329/395/jxapua80/t-shirt/b/h/n/xl-wredwhiteblue-rf-wearza-original-imafgx2gqzmy7x23.jpeg?q=50\n",
      "https://rukminim1.flixcart.com/image/329/395/k5y7tzk0/shirt/s/t/x/xl-t-1005-lawful-casual-original-imafj7ygr2zpyzz7.jpeg?q=50\n",
      "https://rukminim1.flixcart.com/image/329/395/jtn9bww0/t-shirt/j/w/7/m-hm-1001-blue-grey-helmont-original-imafdfvvpffwfrxu.jpeg?q=50\n",
      "https://rukminim1.flixcart.com/image/329/395/jvif0y80/t-shirt/k/p/w/m-inkovy-crew-full-zigzag-grey1-inkovy-original-imaffh8fwr6uwnpw.jpeg?q=50\n",
      "https://rukminim1.flixcart.com/image/329/395/kbfeljk0/t-shirt/g/3/g/s-4057-4058-fastcolors-original-imafss57hzfxrmja.jpeg?q=50\n",
      "https://rukminim1.flixcart.com/image/329/395/jr6o13k0/t-shirt/b/h/j/s-trdhdfulabstract1-tripr-original-imafcmyhpqhmxy7k.jpeg?q=50\n",
      "https://rukminim1.flixcart.com/image/329/395/k547l3k0/t-shirt/c/w/s/xl-fas3000orgwhtnvy-fascista-original-imafnunyryfgfgyn.jpeg?q=50\n",
      "https://rukminim1.flixcart.com/image/329/395/t-shirt/y/q/e/roundneck-full-darkgrey-inkovy-l-original-imaedp5qg3h8zgvz.jpeg?q=50\n",
      "https://rukminim1.flixcart.com/image/329/395/kcauaa80/t-shirt/y/t/a/s-ss18-hs-drop-tail-gry-nvy-strip-maniac-original-imaf3ruzppfgfegh.jpeg?q=50\n",
      "https://rukminim1.flixcart.com/image/329/395/k4vmxzk0/t-shirt/k/y/e/m-16panel-navy-mhrn-uzee-original-imafnzyqymuh9fbp.jpeg?q=50\n",
      "https://rukminim1.flixcart.com/image/329/395/k79dd3k0/t-shirt/t/5/9/5xl-rc24rodengrey-roden-original-imafpjnbyzkwtmxz.jpeg?q=50\n",
      "https://rukminim1.flixcart.com/image/329/395/k3670cw0/t-shirt/y/y/c/s-rlc-attitud-ronit-leading-clothing-original-imafmd4zekuwrsfb.jpeg?q=50\n",
      "https://rukminim1.flixcart.com/image/329/395/jtn9bww0/t-shirt/y/c/c/s-hm-1001-grey-red-helmont-original-imafdfvvyetxvgbf.jpeg?q=50\n",
      "https://rukminim1.flixcart.com/image/329/395/kc3p30w0/t-shirt/h/o/f/m-in-cn-fs-castripe-black-l-inkovy-original-imaftaxzgnzjum2d.jpeg?q=50\n"
     ]
    }
   ],
   "source": [
    "urls= []\n",
    "for image in images:\n",
    "    source= image.get_attribute('src')\n",
    "    urls.append(source)\n",
    "    print(source)"
   ]
  },
  {
   "cell_type": "code",
   "execution_count": 25,
   "metadata": {
    "scrolled": false
   },
   "outputs": [
    {
     "name": "stdout",
     "output_type": "stream",
     "text": [
      "Downloading 1 of 40 images from page 3\n",
      "Downloading 2 of 40 images from page 3\n",
      "Downloading 3 of 40 images from page 3\n",
      "Downloading 4 of 40 images from page 3\n",
      "Downloading 5 of 40 images from page 3\n",
      "Downloading 6 of 40 images from page 3\n",
      "Downloading 7 of 40 images from page 3\n",
      "Downloading 8 of 40 images from page 3\n",
      "Downloading 9 of 40 images from page 3\n",
      "Downloading 10 of 40 images from page 3\n",
      "Downloading 11 of 40 images from page 3\n",
      "Downloading 12 of 40 images from page 3\n",
      "Downloading 13 of 40 images from page 3\n",
      "Downloading 14 of 40 images from page 3\n",
      "Downloading 15 of 40 images from page 3\n",
      "Downloading 16 of 40 images from page 3\n",
      "Downloading 17 of 40 images from page 3\n",
      "Downloading 18 of 40 images from page 3\n",
      "Downloading 19 of 40 images from page 3\n",
      "Downloading 20 of 40 images from page 3\n",
      "Downloading 21 of 40 images from page 3\n",
      "Downloading 22 of 40 images from page 3\n",
      "Downloading 23 of 40 images from page 3\n",
      "Downloading 24 of 40 images from page 3\n",
      "Downloading 25 of 40 images from page 3\n",
      "Downloading 26 of 40 images from page 3\n",
      "Downloading 27 of 40 images from page 3\n",
      "Downloading 28 of 40 images from page 3\n",
      "Downloading 29 of 40 images from page 3\n",
      "Downloading 30 of 40 images from page 3\n",
      "Downloading 31 of 40 images from page 3\n",
      "Downloading 32 of 40 images from page 3\n",
      "Downloading 33 of 40 images from page 3\n",
      "Downloading 34 of 40 images from page 3\n",
      "Downloading 35 of 40 images from page 3\n",
      "Downloading 36 of 40 images from page 3\n",
      "Downloading 37 of 40 images from page 3\n",
      "Downloading 38 of 40 images from page 3\n",
      "Downloading 39 of 40 images from page 3\n",
      "Downloading 40 of 40 images from page 3\n"
     ]
    }
   ],
   "source": [
    "# Changing for page 3\n",
    "page=3\n",
    "for index, link in enumerate(urls):\n",
    "    print(\"Downloading {0} of {1} images from page 3\".format(index+1, len(urls)))\n",
    "    response= requests.get(link)\n",
    "    with open('T-Shirts/img_{0}{1}.jpeg'.format(index, page), \"wb\") as file:\n",
    "        file.write(response.content)"
   ]
  },
  {
   "cell_type": "code",
   "execution_count": 26,
   "metadata": {},
   "outputs": [],
   "source": [
    "# Now we find the 'Next' button using x_path and using selenium we click it\n",
    "next_page= driver.find_element_by_xpath(\"//a[@class='_3fVaIS']\").click()"
   ]
  },
  {
   "cell_type": "code",
   "execution_count": 27,
   "metadata": {},
   "outputs": [],
   "source": [
    "# Following the same steps from step 3 onwards.\n",
    "images= driver.find_elements_by_xpath(\"//img[@class='_3togXc']\")"
   ]
  },
  {
   "cell_type": "code",
   "execution_count": 28,
   "metadata": {},
   "outputs": [
    {
     "name": "stdout",
     "output_type": "stream",
     "text": [
      "https://rukminim1.flixcart.com/image/329/395/k01b8280/t-shirt/5/t/5/4xl-twthdful-just-tripr-original-imafjxcbxuenppat.jpeg?q=50\n",
      "https://rukminim1.flixcart.com/image/329/395/j4fwpzk0/t-shirt/c/p/x/xl-kurta-b-m-uzee-original-imaeuyh2hmukykuz.jpeg?q=50\n",
      "https://rukminim1.flixcart.com/image/329/395/kb6tyfk0/t-shirt/e/b/y/xl-4109-fastcolors-original-imafsh5mdfkuv6e3.jpeg?q=50\n",
      "https://rukminim1.flixcart.com/image/329/395/kay9bbk0/t-shirt/w/z/w/xxl-daredevil-party-wear-wrath-original-imafse3zeddfkywe.jpeg?q=50\n",
      "https://rukminim1.flixcart.com/image/329/395/jtn9bww0/t-shirt/w/y/6/xl-hm-1001-anthra-black-helmont-original-imafdfvvzrzu3nz8.jpeg?q=50\n",
      "https://rukminim1.flixcart.com/image/329/395/k547l3k0/t-shirt/u/h/8/m-beltlytshirt-beltly-original-imafng7dy2rez8g7.jpeg?q=50\n",
      "https://rukminim1.flixcart.com/image/329/395/k4ohqq80/t-shirt/t/f/9/s-tmrblgyvnful-d22-tripr-original-imafnjy2fhb3zmfw.jpeg?q=50\n",
      "https://rukminim1.flixcart.com/image/329/395/k547l3k0/t-shirt/g/t/p/l-beltlytshirt-beltly-original-imafnhg6wetzq4nk.jpeg?q=50\n",
      "https://rukminim1.flixcart.com/image/329/395/jwmfcsw0/t-shirt/p/f/d/xxl-awt1020ol-aelomart-original-imaf7qdtbzggxbpu.jpeg?q=50\n",
      "https://rukminim1.flixcart.com/image/329/395/k7285u80/t-shirt/h/6/f/m-earned-stripes-teal-wrath-original-imafpe6ykydcgzmj.jpeg?q=50\n",
      "https://rukminim1.flixcart.com/image/329/395/k2xmd8w0/t-shirt/8/9/y/l-shp275282-shapphr-original-imafjw8qjf9mdncj.jpeg?q=50\n",
      "https://rukminim1.flixcart.com/image/329/395/k5si2kw0/t-shirt/s/p/y/l-9030-sarfira-original-imafzeejaewv5e3s.jpeg?q=50\n",
      "https://rukminim1.flixcart.com/image/329/395/k3lwuq80/t-shirt/h/v/c/xl-tsrt-118-xl-reya-original-imafmz7zyqgppwkh.jpeg?q=50\n",
      "https://rukminim1.flixcart.com/image/329/395/k76ihe80/t-shirt/c/a/f/xxl-dude-in-black-maroon-wrath-original-imafpgph3bhuzyuk.jpeg?q=50\n",
      "https://rukminim1.flixcart.com/image/329/395/k7qinbk0/t-shirt/4/y/w/l-peacock-blue-ringer-tshirt-diwazzo-original-imafpw45yhhw4f2z.jpeg?q=50\n",
      "https://rukminim1.flixcart.com/image/329/395/k0r15e80/t-shirt/f/m/w/m-combo-t-158-159-138-scatchite-original-imafkgqm8mzhdyqf.jpeg?q=50\n",
      "https://rukminim1.flixcart.com/image/329/395/kcp4osw0/t-shirt/x/a/d/3xl-tylrnjustrelax-blrnquarant-tripr-original-imaftrdwpfcqkqs8.jpeg?q=50\n",
      "https://rukminim1.flixcart.com/image/329/395/kcjexe80/t-shirt/z/6/6/m-pack-2-502-black-mustard-joycotts-original-imaftmhfbwwbxyrq.jpeg?q=50\n",
      "https://rukminim1.flixcart.com/image/329/395/jyt0knk0/t-shirt/p/y/f/xxl-4127-xxl-1-fastcolors-original-imafgxqnkhhzvbh9.jpeg?q=50\n",
      "https://rukminim1.flixcart.com/image/329/395/k02qnww0/t-shirt/u/s/w/xxl-ts915802-ghpc-original-imafjy58abtjf5pa.jpeg?q=50\n",
      "https://rukminim1.flixcart.com/image/329/395/jx7uykw0/t-shirt/t/u/f/m-rzl-rnd-hf-blk-rezalia-original-imafhqb2ajhceazp.jpeg?q=50\n",
      "https://rukminim1.flixcart.com/image/329/395/kb6tyfk0/t-shirt/j/m/g/4xl-tbl-rdhdful-just-tripr-original-imafsh9ekxf5qzvm.jpeg?q=50\n",
      "https://rukminim1.flixcart.com/image/329/395/k47cgi80/t-shirt/k/e/t/xxl-ax1h-actimaxx-original-imaf7pdxn8mzfe4j.jpeg?q=50\n",
      "https://rukminim1.flixcart.com/image/329/395/t-shirt/y/b/s/inkovy-henley-full-black-inkovy-m-original-imae6efgnqacckzz.jpeg?q=50\n",
      "https://rukminim1.flixcart.com/image/329/395/jjbqufk0/t-shirt/3/z/m/xl-men-aw18-fs-rn-aop-navy-pocket-maniac-original-imaf6wmmajyfr8ea.jpeg?q=50\n",
      "https://rukminim1.flixcart.com/image/329/395/k7f34i80/t-shirt/w/z/d/m-two-strp-black-smartees-original-imafpntvwhrkhwpu.jpeg?q=50\n",
      "https://rukminim1.flixcart.com/image/329/395/ju1jqfk0/t-shirt/u/z/4/l-men-ss19-rgln-hs-white-ylw-blk-strp-maniac-original-imaff9e8dpqzhwgu.jpeg?q=50\n",
      "https://rukminim1.flixcart.com/image/329/395/k3lwuq80/t-shirt/h/v/c/xl-tsrt-118-xl-reya-original-imafmz7zyqgppwkh.jpeg?q=50\n",
      "https://rukminim1.flixcart.com/image/329/395/k687wy80/t-shirt/r/x/d/xxl-men-ss19-rn-hs-yellow-blk-vstripes-maniac-original-imafezn6rsnsgyrw.jpeg?q=50\n",
      "https://rukminim1.flixcart.com/image/329/395/j7gi6q80/t-shirt/h/e/8/l-inkovy-contrast-maroon-inkovy-original-imaexzttzw5zffnz.jpeg?q=50\n",
      "https://rukminim1.flixcart.com/image/329/395/jlcmavk0/t-shirt/n/z/d/xl-jdb-mens-fs-rnck-tucks-white-just-dress-better-original-imaf8g5kbvgpfygb.jpeg?q=50\n",
      "https://rukminim1.flixcart.com/image/329/395/k3ncakw0/t-shirt/m/2/z/l-men-fw18-hood-fs-white-black-watched-maniac-original-imafmq32datun2qj.jpeg?q=50\n",
      "https://rukminim1.flixcart.com/image/329/395/kavefm80/t-shirt/j/h/h/s-bul-bsp018-013-006-bullmer-original-imafsbwxbnmnuxdr.jpeg?q=50\n",
      "https://rukminim1.flixcart.com/image/329/395/jvif0y80/t-shirt/x/n/f/l-inkovy-crew-full-zigzag-darkgrey1-inkovy-original-imaffh8fcgmjwjtf.jpeg?q=50\n",
      "https://rukminim1.flixcart.com/image/329/395/kajywsw0/t-shirt/a/u/b/m-wnevystrippocket-wearza-original-imafs3b7gfchavrh.jpeg?q=50\n",
      "https://rukminim1.flixcart.com/image/329/395/kd7pevk0/t-shirt/t/z/v/xl-16960-0420-levi-s-original-imafu66cgdkxk8rz.jpeg?q=50\n",
      "https://rukminim1.flixcart.com/image/329/395/juu4jgw0/t-shirt/t/f/b/m-jc-19-rn-hs-burgundy-blk-06-jump-cuts-original-imaffvz7mwy2cvn8.jpeg?q=50\n",
      "https://rukminim1.flixcart.com/image/329/395/k6l2vm80/t-shirt/j/b/w/xxl-t19-seven-rocks-original-imafpymmqxpbpqpb.jpeg?q=50\n",
      "https://rukminim1.flixcart.com/image/329/395/k6pd7680/t-shirt/s/f/4/s-fnx-1012peacock-fenoix-original-imafp3t7hj9dmgdu.jpeg?q=50\n",
      "https://rukminim1.flixcart.com/image/329/395/jiovssw0/t-shirt/e/n/9/s-inkovy-crew-full-crowbird-lightblue-inkovy-original-imaf6ftehfx6yeuw.jpeg?q=50\n"
     ]
    }
   ],
   "source": [
    "urls= []\n",
    "for image in images:\n",
    "    source= image.get_attribute('src')\n",
    "    urls.append(source)\n",
    "    print(source)"
   ]
  },
  {
   "cell_type": "code",
   "execution_count": 29,
   "metadata": {},
   "outputs": [
    {
     "name": "stdout",
     "output_type": "stream",
     "text": [
      "Downloading 1 of 40 images from page 4\n",
      "Downloading 2 of 40 images from page 4\n",
      "Downloading 3 of 40 images from page 4\n",
      "Downloading 4 of 40 images from page 4\n",
      "Downloading 5 of 40 images from page 4\n",
      "Downloading 6 of 40 images from page 4\n",
      "Downloading 7 of 40 images from page 4\n",
      "Downloading 8 of 40 images from page 4\n",
      "Downloading 9 of 40 images from page 4\n",
      "Downloading 10 of 40 images from page 4\n",
      "Downloading 11 of 40 images from page 4\n",
      "Downloading 12 of 40 images from page 4\n",
      "Downloading 13 of 40 images from page 4\n",
      "Downloading 14 of 40 images from page 4\n",
      "Downloading 15 of 40 images from page 4\n",
      "Downloading 16 of 40 images from page 4\n",
      "Downloading 17 of 40 images from page 4\n",
      "Downloading 18 of 40 images from page 4\n",
      "Downloading 19 of 40 images from page 4\n",
      "Downloading 20 of 40 images from page 4\n",
      "Downloading 21 of 40 images from page 4\n",
      "Downloading 22 of 40 images from page 4\n",
      "Downloading 23 of 40 images from page 4\n",
      "Downloading 24 of 40 images from page 4\n",
      "Downloading 25 of 40 images from page 4\n",
      "Downloading 26 of 40 images from page 4\n",
      "Downloading 27 of 40 images from page 4\n",
      "Downloading 28 of 40 images from page 4\n",
      "Downloading 29 of 40 images from page 4\n",
      "Downloading 30 of 40 images from page 4\n",
      "Downloading 31 of 40 images from page 4\n",
      "Downloading 32 of 40 images from page 4\n",
      "Downloading 33 of 40 images from page 4\n",
      "Downloading 34 of 40 images from page 4\n",
      "Downloading 35 of 40 images from page 4\n",
      "Downloading 36 of 40 images from page 4\n",
      "Downloading 37 of 40 images from page 4\n",
      "Downloading 38 of 40 images from page 4\n",
      "Downloading 39 of 40 images from page 4\n",
      "Downloading 40 of 40 images from page 4\n"
     ]
    }
   ],
   "source": [
    "# Changing for page 4\n",
    "page=4\n",
    "for index, link in enumerate(urls):\n",
    "    print(\"Downloading {0} of {1} images from page 4\".format(index+1, len(urls)))\n",
    "    response= requests.get(link)\n",
    "    with open('T-Shirts/img_{0}{1}.jpeg'.format(index, page), \"wb\") as file:\n",
    "        file.write(response.content)"
   ]
  },
  {
   "cell_type": "code",
   "execution_count": 30,
   "metadata": {},
   "outputs": [],
   "source": [
    "# Now we find the 'Next' button using x_path and using selenium we click it\n",
    "next_page= driver.find_element_by_xpath(\"//a[@class='_3fVaIS']\").click()"
   ]
  },
  {
   "cell_type": "code",
   "execution_count": 31,
   "metadata": {},
   "outputs": [],
   "source": [
    "# Following the same steps from step 3 onwards.\n",
    "images= driver.find_elements_by_xpath(\"//img[@class='_3togXc']\")"
   ]
  },
  {
   "cell_type": "code",
   "execution_count": 32,
   "metadata": {},
   "outputs": [
    {
     "name": "stdout",
     "output_type": "stream",
     "text": [
      "https://rukminim1.flixcart.com/image/329/395/k547l3k0/t-shirt/h/y/h/xl-beltlytshirt-beltly-original-imafng7dzydtrv95.jpeg?q=50\n",
      "https://rukminim1.flixcart.com/image/329/395/k6mibgw0/t-shirt/j/t/j/l-city-new-white-hs-smartees-original-imafpyx9nxjzhhae.jpeg?q=50\n",
      "https://rukminim1.flixcart.com/image/329/395/jp02t8w0/t-shirt/g/t/z/l-25rwn-lewel-original-imafbbjwskwhtamw.jpeg?q=50\n",
      "https://rukminim1.flixcart.com/image/329/395/k0y6cnk0/t-shirt/n/e/m/m-mp101hs19002-kps-clothing-original-imafkhfz3ruekd4f.jpeg?q=50\n",
      "https://rukminim1.flixcart.com/image/329/395/k6ci8i80/t-shirt/h/t/3/s-kd286287-kay-dee-original-imafzegjgjeet685.jpeg?q=50\n",
      "https://rukminim1.flixcart.com/image/329/395/k4bms280/t-shirt/z/z/n/xl-092-henley-try-this-original-imafghb9gpxgaarg.jpeg?q=50\n",
      "https://rukminim1.flixcart.com/image/329/395/jy3anbk0/t-shirt/e/v/3/s-1jugurfdotstp-og-jugular-original-imafgchfpukfyzsj.jpeg?q=50\n",
      "https://rukminim1.flixcart.com/image/329/395/jyj0how0/t-shirt/w/p/n/m-weft-vneck-half-maroon-black-weft-original-imafgr6uu4uphzp9.jpeg?q=50\n",
      "https://rukminim1.flixcart.com/image/329/395/jwxuvm80/t-shirt/c/n/g/s-1jgrfdotstpwh-nvy-jugular-original-imafhhajsn6yzg2a.jpeg?q=50\n",
      "https://rukminim1.flixcart.com/image/329/395/jsge4cw0/t-shirt/n/g/g/m-sm292-vivid-bharti-original-imafeyv68x6qu23z.jpeg?q=50\n",
      "https://rukminim1.flixcart.com/image/329/395/k7dnonk0/t-shirt/a/a/f/m-feathers-white-smartees-original-imafpm4yxwzfj55q.jpeg?q=50\n",
      "https://rukminim1.flixcart.com/image/329/395/k66sh3k0/t-shirt/a/p/m/l-gpb01-try-this-original-imafzpcgzgetfgpb.jpeg?q=50\n",
      "https://rukminim1.flixcart.com/image/329/395/k2krekw0/t-shirt/h/f/8/m-triple-navy-mhrn-panel-uzee-original-imafhwjzayxpdbmb.jpeg?q=50\n",
      "https://rukminim1.flixcart.com/image/329/395/kb3z2q80/t-shirt/b/n/w/m-mtc30-wrath-original-imafsjhrzkfdnhyb.jpeg?q=50\n",
      "https://rukminim1.flixcart.com/image/329/395/jv44mfk0/t-shirt/v/s/c/m-1jgrfdotstpgrn-blk-jugular-original-imafg2chtdcyzye4.jpeg?q=50\n",
      "https://rukminim1.flixcart.com/image/329/395/jxhv1jk0/t-shirt/n/d/f/xl-rzl-rnd-full-patti-blk-rezalia-original-imafhy6jbygfeh5t.jpeg?q=50\n",
      "https://rukminim1.flixcart.com/image/329/395/jr9iwsw0/t-shirt/v/c/d/s-tnv-rnfulabstract1-tripr-original-imafd2huzeffqyyr.jpeg?q=50\n",
      "https://rukminim1.flixcart.com/image/329/395/jwjkh3k0/t-shirt/m/x/2/s-effortless-charm-triple-color-blocked-wrath-original-imafh798ghhpne9z.jpeg?q=50\n",
      "https://rukminim1.flixcart.com/image/329/395/jykfxjk0/t-shirt/e/c/t/xl-nil-yellow-smartees-original-imafgsbf3sn8msbz.jpeg?q=50\n",
      "https://rukminim1.flixcart.com/image/329/395/kd69z0w0/t-shirt/x/e/e/l-8220185-057-red-chief-original-imafu4zcftnbvkgf.jpeg?q=50\n",
      "https://rukminim1.flixcart.com/image/329/395/k1gr2q80/t-shirt/b/r/4/s-shp268274-shapphr-original-imafhfaazfsdexau.jpeg?q=50\n",
      "https://rukminim1.flixcart.com/image/329/395/k6ci8i80/shirt/y/u/p/s-s16-seven-rocks-original-imafzrht9zjkpdb3.jpeg?q=50\n",
      "https://rukminim1.flixcart.com/image/329/395/k547l3k0/t-shirt/j/v/j/s-beltlytshirt-beltly-original-imafng7dkmekq6mf.jpeg?q=50\n",
      "https://rukminim1.flixcart.com/image/329/395/kd7pevk0/t-shirt/p/4/e/4xl-trb-blhdful-believer-tripr-original-imafu66hhxdgkuse.jpeg?q=50\n",
      "https://rukminim1.flixcart.com/image/329/395/jfr57rk0/t-shirt/f/g/d/s-mens-ss18-fs-hood-face-mask-black-maniac-original-imaf45zhadzwcgug.jpeg?q=50\n",
      "https://rukminim1.flixcart.com/image/329/395/jmz7csw0/t-shirt/q/z/m/s-tsh-b102-veirdo-original-imaf9rr3qqp5he9d.jpeg?q=50\n",
      "https://rukminim1.flixcart.com/image/329/395/k6jnfrk0/t-shirt/k/h/3/xl-fw18-fs-rgln-white-red-nvy-tape-maniac-original-imafzzh6zvj9tsd9.jpeg?q=50\n",
      "https://rukminim1.flixcart.com/image/329/395/kb89ea80/t-shirt/n/7/a/xl-tnv-mr-og-rnabstract1-tripr-original-imafsmg5kc2y4h8f.jpeg?q=50\n",
      "https://rukminim1.flixcart.com/image/329/395/kavefm80/t-shirt/z/m/a/xl-bul-bsp018-006-002-bullmer-original-imafsbwxpxezytxf.jpeg?q=50\n",
      "https://rukminim1.flixcart.com/image/329/395/kcm9t3k0/t-shirt/s/x/j/xl-raw-306-maroon-rawhit-original-imaftpn9bacpyenz.jpeg?q=50\n",
      "https://rukminim1.flixcart.com/image/329/395/jwpa8i80/t-shirt/z/t/r/m-mens-ss18-rn-fs-checked-tshirt-olive-maniac-original-imafhb9rudbetw4g.jpeg?q=50\n",
      "https://rukminim1.flixcart.com/image/329/395/k01b8280/t-shirt/k/c/h/s-jdb-mens-h-s-r-n-combo-minimalist-clothing-original-imafjsnf6hg7yxfs.jpeg?q=50\n",
      "https://rukminim1.flixcart.com/image/329/395/k41mp3k0/t-shirt/k/s/d/xl-rlc-ngpc-blue-ronit-leading-clothing-original-imafnfmsaezgsugb.jpeg?q=50\n",
      "https://rukminim1.flixcart.com/image/329/395/k73nlow0/t-shirt/y/y/5/xxl-minimal-charm-turquoise-wrath-original-imafpe8y9sh7vntf.jpeg?q=50\n",
      "https://rukminim1.flixcart.com/image/329/395/kd4uj680/t-shirt/x/e/2/l-black-weft-original-imafu3zndutbvtkd.jpeg?q=50\n",
      "https://rukminim1.flixcart.com/image/329/395/kcc9q4w0/t-shirt/0/m/o/l-ss17-hs-drop-tail-black-navy-maniac-original-imaf3jjzczyygnzv.jpeg?q=50\n",
      "https://rukminim1.flixcart.com/image/329/395/k5y7tzk0/shirt/g/h/j/s-t-1146-lawful-casual-original-imafnyv4mxhustzt.jpeg?q=50\n",
      "https://rukminim1.flixcart.com/image/329/395/k6pd7680/t-shirt/h/c/y/xxl-t-237-scatchite-original-imafp46kztzmhbhx.jpeg?q=50\n",
      "https://rukminim1.flixcart.com/image/329/395/k3ncakw0pkrrdj/t-shirt/w/d/a/m-st-198-dagcros-original-imafjatapvxhgx57.jpeg?q=50\n",
      "https://rukminim1.flixcart.com/image/329/395/k0tw13k0/t-shirt/2/w/h/s-mp101hs19008-kps-clothing-original-imafkjjykvpx4cte.jpeg?q=50\n"
     ]
    }
   ],
   "source": [
    "urls= []\n",
    "for image in images:\n",
    "    source= image.get_attribute('src')\n",
    "    urls.append(source)\n",
    "    print(source)"
   ]
  },
  {
   "cell_type": "code",
   "execution_count": 33,
   "metadata": {},
   "outputs": [
    {
     "name": "stdout",
     "output_type": "stream",
     "text": [
      "Downloading 1 of 40 images from page 5\n",
      "Downloading 2 of 40 images from page 5\n",
      "Downloading 3 of 40 images from page 5\n",
      "Downloading 4 of 40 images from page 5\n",
      "Downloading 5 of 40 images from page 5\n",
      "Downloading 6 of 40 images from page 5\n",
      "Downloading 7 of 40 images from page 5\n",
      "Downloading 8 of 40 images from page 5\n",
      "Downloading 9 of 40 images from page 5\n",
      "Downloading 10 of 40 images from page 5\n",
      "Downloading 11 of 40 images from page 5\n",
      "Downloading 12 of 40 images from page 5\n",
      "Downloading 13 of 40 images from page 5\n",
      "Downloading 14 of 40 images from page 5\n",
      "Downloading 15 of 40 images from page 5\n",
      "Downloading 16 of 40 images from page 5\n",
      "Downloading 17 of 40 images from page 5\n",
      "Downloading 18 of 40 images from page 5\n",
      "Downloading 19 of 40 images from page 5\n",
      "Downloading 20 of 40 images from page 5\n",
      "Downloading 21 of 40 images from page 5\n",
      "Downloading 22 of 40 images from page 5\n",
      "Downloading 23 of 40 images from page 5\n",
      "Downloading 24 of 40 images from page 5\n",
      "Downloading 25 of 40 images from page 5\n",
      "Downloading 26 of 40 images from page 5\n",
      "Downloading 27 of 40 images from page 5\n",
      "Downloading 28 of 40 images from page 5\n",
      "Downloading 29 of 40 images from page 5\n",
      "Downloading 30 of 40 images from page 5\n",
      "Downloading 31 of 40 images from page 5\n",
      "Downloading 32 of 40 images from page 5\n",
      "Downloading 33 of 40 images from page 5\n",
      "Downloading 34 of 40 images from page 5\n",
      "Downloading 35 of 40 images from page 5\n",
      "Downloading 36 of 40 images from page 5\n",
      "Downloading 37 of 40 images from page 5\n",
      "Downloading 38 of 40 images from page 5\n",
      "Downloading 39 of 40 images from page 5\n",
      "Downloading 40 of 40 images from page 5\n"
     ]
    }
   ],
   "source": [
    "# Changing for page 5\n",
    "page=5\n",
    "for index, link in enumerate(urls):\n",
    "    print(\"Downloading {0} of {1} images from page 5\".format(index+1, len(urls)))\n",
    "    response= requests.get(link)\n",
    "    with open('T-Shirts/img_{0}{1}.jpeg'.format(index, page), \"wb\") as file:\n",
    "        file.write(response.content)"
   ]
  }
 ],
 "metadata": {
  "kernelspec": {
   "display_name": "Python 3",
   "language": "python",
   "name": "python3"
  },
  "language_info": {
   "codemirror_mode": {
    "name": "ipython",
    "version": 3
   },
   "file_extension": ".py",
   "mimetype": "text/x-python",
   "name": "python",
   "nbconvert_exporter": "python",
   "pygments_lexer": "ipython3",
   "version": "3.7.7"
  }
 },
 "nbformat": 4,
 "nbformat_minor": 4
}
