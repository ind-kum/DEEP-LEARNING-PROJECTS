{
  "nbformat": 4,
  "nbformat_minor": 0,
  "metadata": {
    "colab": {
      "name": "Callback.ipynb",
      "provenance": [],
      "collapsed_sections": [],
      "authorship_tag": "ABX9TyPK13QfZWNpFw9F9yaVh1an",
      "include_colab_link": true
    },
    "kernelspec": {
      "name": "python3",
      "display_name": "Python 3"
    },
    "language_info": {
      "name": "python"
    }
  },
  "cells": [
    {
      "cell_type": "markdown",
      "metadata": {
        "id": "view-in-github",
        "colab_type": "text"
      },
      "source": [
        "<a href=\"https://colab.research.google.com/github/ind-kum/DEEP-LEARNING-PROJECTS/blob/master/Callback.ipynb\" target=\"_parent\"><img src=\"https://colab.research.google.com/assets/colab-badge.svg\" alt=\"Open In Colab\"/></a>"
      ]
    },
    {
      "cell_type": "code",
      "metadata": {
        "id": "T65SoQn4j7CH"
      },
      "source": [
        "from keras.datasets import mnist\n",
        "from keras.utils import np_utils\n",
        "import keras\n",
        "from keras.datasets import mnist\n",
        "from keras.models import Sequential\n",
        "from keras.layers import Dense, Dropout, Flatten\n",
        "from keras.layers import Conv2D, MaxPooling2D\n",
        "from keras import backend as K\n",
        "from keras.callbacks import ModelCheckpoint, EarlyStopping, ReduceLROnPlateau\n",
        "import os"
      ],
      "execution_count": 1,
      "outputs": []
    },
    {
      "cell_type": "code",
      "metadata": {
        "id": "AFimAQzFwN9R"
      },
      "source": [
        "# Training Parameters\n",
        "batch_size = 64\n",
        "epochs = 10\n",
        "\n",
        "# Loads the MINST dataset\n",
        "(x_train, y_train,), (x_test, y_test) = mnist.load_data()"
      ],
      "execution_count": 2,
      "outputs": []
    },
    {
      "cell_type": "code",
      "metadata": {
        "id": "YRZu5kn0AI9M"
      },
      "source": [
        "# Lets store the number of rows and columns\n",
        "img_rows = x_train[0].shape[0]\n",
        "img_cols = x_train[1].shape[0]"
      ],
      "execution_count": 3,
      "outputs": []
    },
    {
      "cell_type": "code",
      "metadata": {
        "id": "meUGMTRNAqSa"
      },
      "source": [
        "# Getting out date in the right \"shape\" needed for keras\n",
        "# we need to add a 4th dimention to our date thereby changing our\n",
        "# Our original image shape of (60000,28,28) to (60000,28,28,1)\n",
        "x_train = x_train.reshape(x_train.shape[0], img_rows, img_cols, 1)\n",
        "x_test = x_test.reshape(x_test.shape[0], img_rows, img_cols, 1)"
      ],
      "execution_count": 4,
      "outputs": []
    },
    {
      "cell_type": "code",
      "metadata": {
        "id": "xHna_FTEBZjO"
      },
      "source": [
        "# store our image type to float32 data type\n",
        "input_shape = (img_rows, img_cols, 1)"
      ],
      "execution_count": 5,
      "outputs": []
    },
    {
      "cell_type": "code",
      "metadata": {
        "id": "OngJ7UQzCRY_"
      },
      "source": [
        "# change out image type to fload32 data type\n",
        "x_train = x_train.astype('float32')\n",
        "x_test = x_test.astype('float32')"
      ],
      "execution_count": 6,
      "outputs": []
    },
    {
      "cell_type": "code",
      "metadata": {
        "colab": {
          "base_uri": "https://localhost:8080/"
        },
        "id": "4mT--pZqCjH8",
        "outputId": "ffb54a67-c634-4ec4-db92-cf068859518e"
      },
      "source": [
        "#  Normalise our data byu changing the range from (0 to 255) to (0 to 1)\n",
        "x_train /= 255\n",
        "x_test /= 255\n",
        "\n",
        "print('x_train shape:', x_train.shape)\n",
        "print(x_train.shape[0], 'train samples')\n",
        "print(x_test.shape[0], 'test samples')"
      ],
      "execution_count": 7,
      "outputs": [
        {
          "output_type": "stream",
          "text": [
            "x_train shape: (60000, 28, 28, 1)\n",
            "60000 train samples\n",
            "10000 test samples\n"
          ],
          "name": "stdout"
        }
      ]
    },
    {
      "cell_type": "code",
      "metadata": {
        "id": "2YJcoPIaFrgA"
      },
      "source": [
        "# Now we one hot encode outputs\n",
        "y_train = np_utils.to_categorical(y_train)\n",
        "y_test = np_utils.to_categorical(y_test)"
      ],
      "execution_count": 8,
      "outputs": []
    },
    {
      "cell_type": "code",
      "metadata": {
        "colab": {
          "base_uri": "https://localhost:8080/"
        },
        "id": "a6g9--sXF88G",
        "outputId": "c5934faa-ac21-4fff-cd00-42a412820e42"
      },
      "source": [
        "# Let's count the number columns in out hot encoded matrix\n",
        "print (\"Number of Classes: \" + str(y_test.shape[1]))\n",
        "\n",
        "num_classes = y_test.shape[1]\n",
        "num_pixels = x_train.shape[1] * x_train.shape[2]"
      ],
      "execution_count": 9,
      "outputs": [
        {
          "output_type": "stream",
          "text": [
            "Number of Classes: 10\n"
          ],
          "name": "stdout"
        }
      ]
    },
    {
      "cell_type": "code",
      "metadata": {
        "colab": {
          "base_uri": "https://localhost:8080/"
        },
        "id": "yHzVr2vlGcLA",
        "outputId": "f25e0e6e-856f-4d8e-d0b6-f2b7a3abf7fc"
      },
      "source": [
        "# create model\n",
        "model = Sequential()\n",
        "\n",
        "model.add(Conv2D(32, kernel_size=(3, 3),\n",
        "                 activation='relu',\n",
        "                 input_shape=input_shape))\n",
        "model.add(Conv2D(64, (3, 3), activation='relu'))\n",
        "model.add(MaxPooling2D(pool_size=(2, 2)))\n",
        "model.add(Dropout(0.25))\n",
        "model.add(Flatten())\n",
        "model.add(Dense(128, activation='relu'))\n",
        "model.add(Dropout(0.5))\n",
        "model.add(Dense(num_classes, activation='softmax'))\n",
        "\n",
        "model.compile(loss = 'categorical_crossentropy',\n",
        "             optimizer = keras.optimizers.Adadelta(),\n",
        "             metrics = ['accuracy'])\n",
        "\n",
        "print(model.summary())"
      ],
      "execution_count": 10,
      "outputs": [
        {
          "output_type": "stream",
          "text": [
            "Model: \"sequential\"\n",
            "_________________________________________________________________\n",
            "Layer (type)                 Output Shape              Param #   \n",
            "=================================================================\n",
            "conv2d (Conv2D)              (None, 26, 26, 32)        320       \n",
            "_________________________________________________________________\n",
            "conv2d_1 (Conv2D)            (None, 24, 24, 64)        18496     \n",
            "_________________________________________________________________\n",
            "max_pooling2d (MaxPooling2D) (None, 12, 12, 64)        0         \n",
            "_________________________________________________________________\n",
            "dropout (Dropout)            (None, 12, 12, 64)        0         \n",
            "_________________________________________________________________\n",
            "flatten (Flatten)            (None, 9216)              0         \n",
            "_________________________________________________________________\n",
            "dense (Dense)                (None, 128)               1179776   \n",
            "_________________________________________________________________\n",
            "dropout_1 (Dropout)          (None, 128)               0         \n",
            "_________________________________________________________________\n",
            "dense_1 (Dense)              (None, 10)                1290      \n",
            "=================================================================\n",
            "Total params: 1,199,882\n",
            "Trainable params: 1,199,882\n",
            "Non-trainable params: 0\n",
            "_________________________________________________________________\n",
            "None\n"
          ],
          "name": "stdout"
        }
      ]
    },
    {
      "cell_type": "code",
      "metadata": {
        "id": "sAveglQaHo4r"
      },
      "source": [
        "# Let's create ModelCheckpoint\n",
        "checkpoint = ModelCheckpoint(r\"C:\\Users\\INDROCKS\\MNIST_Checkpoint.h5\",\n",
        "                             moniter=\"val_loss\",\n",
        "                             mode=\"min\",\n",
        "                             save_best_only = True,\n",
        "                             verbose=1)\n",
        "\n",
        "# Let's create EarlyStopping\n",
        "earlystop = EarlyStopping(monitor = 'val_loss', # value being monitored for improvement\n",
        "                          min_delta = 0, #Abs value and it the min change erequired before we stop\n",
        "                          patience = 3, #Number of epochs we wait before stopping\n",
        "                          verbose = 1,\n",
        "                          restore_best_weights = True)  #keeps the best weights once stopped\n",
        "\n",
        "# Let's Reduce the learning rate\n",
        "reduce_lr = ReduceLROnPlateau(monitor = 'val_loss',\n",
        "                             factor = 0.2,\n",
        "                             patience = 3,\n",
        "                             verbose = 1,\n",
        "                             min_delta = 0.0001)\n",
        "# we put our call backs into a callback list\n",
        "callbacks = [earlystop, checkpoint, reduce_lr]"
      ],
      "execution_count": null,
      "outputs": []
    },
    {
      "cell_type": "code",
      "metadata": {
        "colab": {
          "base_uri": "https://localhost:8080/"
        },
        "id": "IhQp0ZNFIrqh",
        "outputId": "e2264653-1f9a-42eb-a4e0-4c18ca16869d"
      },
      "source": [
        "history = model.fit(x_train, y_train,\n",
        "                    batch_size = batch_size,\n",
        "                    epochs = epochs,\n",
        "                    verbose = 1,\n",
        "                    callbacks = callbacks,\n",
        "                    validation_data = (x_test, y_test))\n",
        "\n",
        "score = model.evaluate(x_test, y_test, verbose=1)\n",
        "print('Test loss:', score[0])\n",
        "print('Test accuracy:', score[1])"
      ],
      "execution_count": 12,
      "outputs": [
        {
          "output_type": "stream",
          "text": [
            "Epoch 1/10\n",
            "938/938 [==============================] - 106s 113ms/step - loss: 2.2931 - accuracy: 0.1370 - val_loss: 2.2341 - val_accuracy: 0.5435\n",
            "\n",
            "Epoch 00001: val_loss improved from inf to 2.23405, saving model to C:\\Users\\INDROCKS\\MNIST_Checkpoint.h5\n",
            "Epoch 2/10\n",
            "938/938 [==============================] - 106s 113ms/step - loss: 2.2223 - accuracy: 0.3250 - val_loss: 2.1345 - val_accuracy: 0.6843\n",
            "\n",
            "Epoch 00002: val_loss improved from 2.23405 to 2.13451, saving model to C:\\Users\\INDROCKS\\MNIST_Checkpoint.h5\n",
            "Epoch 3/10\n",
            "938/938 [==============================] - 105s 112ms/step - loss: 2.1183 - accuracy: 0.4701 - val_loss: 1.9803 - val_accuracy: 0.7441\n",
            "\n",
            "Epoch 00003: val_loss improved from 2.13451 to 1.98034, saving model to C:\\Users\\INDROCKS\\MNIST_Checkpoint.h5\n",
            "Epoch 4/10\n",
            "938/938 [==============================] - 107s 114ms/step - loss: 1.9599 - accuracy: 0.5549 - val_loss: 1.7459 - val_accuracy: 0.7792\n",
            "\n",
            "Epoch 00004: val_loss improved from 1.98034 to 1.74593, saving model to C:\\Users\\INDROCKS\\MNIST_Checkpoint.h5\n",
            "Epoch 5/10\n",
            "938/938 [==============================] - 110s 118ms/step - loss: 1.7370 - accuracy: 0.6072 - val_loss: 1.4416 - val_accuracy: 0.8060\n",
            "\n",
            "Epoch 00005: val_loss improved from 1.74593 to 1.44163, saving model to C:\\Users\\INDROCKS\\MNIST_Checkpoint.h5\n",
            "Epoch 6/10\n",
            "938/938 [==============================] - 107s 114ms/step - loss: 1.4744 - accuracy: 0.6462 - val_loss: 1.1457 - val_accuracy: 0.8243\n",
            "\n",
            "Epoch 00006: val_loss improved from 1.44163 to 1.14565, saving model to C:\\Users\\INDROCKS\\MNIST_Checkpoint.h5\n",
            "Epoch 7/10\n",
            "938/938 [==============================] - 107s 114ms/step - loss: 1.2403 - accuracy: 0.6788 - val_loss: 0.9233 - val_accuracy: 0.8356\n",
            "\n",
            "Epoch 00007: val_loss improved from 1.14565 to 0.92327, saving model to C:\\Users\\INDROCKS\\MNIST_Checkpoint.h5\n",
            "Epoch 8/10\n",
            "938/938 [==============================] - 107s 114ms/step - loss: 1.0645 - accuracy: 0.7046 - val_loss: 0.7738 - val_accuracy: 0.8448\n",
            "\n",
            "Epoch 00008: val_loss improved from 0.92327 to 0.77382, saving model to C:\\Users\\INDROCKS\\MNIST_Checkpoint.h5\n",
            "Epoch 9/10\n",
            "938/938 [==============================] - 106s 113ms/step - loss: 0.9505 - accuracy: 0.7269 - val_loss: 0.6742 - val_accuracy: 0.8540\n",
            "\n",
            "Epoch 00009: val_loss improved from 0.77382 to 0.67418, saving model to C:\\Users\\INDROCKS\\MNIST_Checkpoint.h5\n",
            "Epoch 10/10\n",
            "938/938 [==============================] - 106s 113ms/step - loss: 0.8686 - accuracy: 0.7421 - val_loss: 0.6068 - val_accuracy: 0.8600\n",
            "\n",
            "Epoch 00010: val_loss improved from 0.67418 to 0.60676, saving model to C:\\Users\\INDROCKS\\MNIST_Checkpoint.h5\n",
            "313/313 [==============================] - 5s 15ms/step - loss: 0.6068 - accuracy: 0.8600\n",
            "Test loss: 0.6067653298377991\n",
            "Test accuracy: 0.8600000143051147\n"
          ],
          "name": "stdout"
        }
      ]
    },
    {
      "cell_type": "code",
      "metadata": {
        "colab": {
          "base_uri": "https://localhost:8080/",
          "height": 279
        },
        "id": "eO75Kl8nI-Eh",
        "outputId": "f908ef6d-e89b-4627-d06b-3ddb52812c28"
      },
      "source": [
        "# plotting out loss charts\n",
        "import matplotlib.pyplot as plt\n",
        "\n",
        "history_dict = history.history\n",
        "\n",
        "loss_values = history_dict['loss']\n",
        "val_loss_values = history_dict['val_loss']\n",
        "epochs = range(1, len(loss_values) + 1)\n",
        "\n",
        "line1 = plt.plot(epochs, val_loss_values, label='Validation/Test Loss')\n",
        "line2 = plt.plot(epochs, loss_values, label='Training Loss')\n",
        "plt.setp(line1, linewidth=2.0, marker = '+', markersize=10.0)\n",
        "plt.setp(line2, linewidth=2.0, marker = '4', markersize=10.0)\n",
        "plt.xlabel('Epochs')\n",
        "plt.ylabel('Loss')\n",
        "plt.grid(True)\n",
        "plt.legend()\n",
        "plt.show()"
      ],
      "execution_count": 13,
      "outputs": [
        {
          "output_type": "display_data",
          "data": {
            "image/png": "[encoded data removed]",
            "text/plain": [
              "<Figure size 432x288 with 1 Axes>"
            ]
          },
          "metadata": {
            "tags": [],
            "needs_background": "light"
          }
        }
      ]
    },
    {
      "cell_type": "code",
      "metadata": {
        "colab": {
          "base_uri": "https://localhost:8080/",
          "height": 279
        },
        "id": "G-aKZ7iFMtGm",
        "outputId": "b91d9176-6e2f-41d0-d899-7d2790e48584"
      },
      "source": [
        "# Plotting the accuracy charts\n",
        "import matplotlib.pyplot as plt\n",
        "\n",
        "history_dict = history.history\n",
        "\n",
        "acc_values = history_dict['accuracy']\n",
        "val_acc_values = history_dict['val_accuracy']\n",
        "epochs = range(1, len(loss_values) + 1)\n",
        "\n",
        "line1 = plt.plot(epochs, val_acc_values, label='Validation/Test Accuracy')\n",
        "line2 = plt.plot(epochs, acc_values, label='Training Accuracy')\n",
        "plt.setp(line1, linewidth=2.0, marker = '+', markersize=10.0)\n",
        "plt.setp(line2, linewidth=2.0, marker = '4', markersize=10.0)\n",
        "plt.xlabel('Epochs')\n",
        "plt.ylabel('Accuracy')\n",
        "plt.grid(True)\n",
        "plt.legend()\n",
        "plt.show()"
      ],
      "execution_count": 14,
      "outputs": [
        {
          "output_type": "display_data",
          "data": {
            "image/png": "[encoded data removed]",
            "text/plain": [
              "<Figure size 432x288 with 1 Axes>"
            ]
          },
          "metadata": {
            "tags": [],
            "needs_background": "light"
          }
        }
      ]
    }
  ]
}