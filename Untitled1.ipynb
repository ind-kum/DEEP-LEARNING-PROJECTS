{
 "cells": [
  {
   "cell_type": "code",
   "execution_count": 1,
   "metadata": {},
   "outputs": [],
   "source": [
    "import cv2\n",
    "import numpy as np\n",
    "def rotate1(images):\n",
    "    rotation_matrix = cv2.getRotationMatrix2D((width/2, height/2), -30, .75)\n",
    "    rotated_image = cv2.warpAffine(img, rotation_matrix, (width, height))\n",
    "    return rotated(image, rotated_image)\n",
    "\n",
    "def rotate2(images):\n",
    "    rotation_matrix = cv2.getRotationMatrix2D((width/2, height/2), 30, .75)\n",
    "    rotated_image = cv2.warpAffine(img, rotation_matrix, (width, height))\n",
    "    return rotated(image, rotated_image)\n",
    "\n",
    "def fliping(images):\n",
    "    flipped = cv2.flip(image, 1)\n",
    "    return flipped(image, flipped)\n",
    "\n",
    "def sharpening(images):\n",
    "    kernel_sharpening = np.array([[-1,-1,-1],\n",
    "                                  [-1,10,-1],\n",
    "                                  [-1,-1,-1]])\n",
    "    sharped = cv2.filter2D(image, -1, kernel_sharpening)\n",
    "    return sharped(image, sharped)\n",
    "\n",
    "def brightness_increasing(image):\n",
    "    M = np.ones(image.shape, dtype = \"uint8\") * 75\n",
    "    increased = cv2.add(image, M)\n",
    "    return increased(image, increased)\n",
    "\n",
    "def brightness_decreasing(image):\n",
    "    subtracted = cv2.subtract(image, M)\n",
    "    return decreased(image, subtracted)"
   ]
  },
  {
   "cell_type": "code",
   "execution_count": 3,
   "metadata": {},
   "outputs": [
    {
     "ename": "error",
     "evalue": "OpenCV(4.3.0) C:\\projects\\opencv-python\\opencv\\modules\\imgcodecs\\src\\loadsave.cpp:667: error: (-2:Unspecified error) could not find a writer for the specified extension in function 'cv::imwrite_'\n",
     "output_type": "error",
     "traceback": [
      "\u001b[1;31m---------------------------------------------------------------------------\u001b[0m",
      "\u001b[1;31merror\u001b[0m                                     Traceback (most recent call last)",
      "\u001b[1;32m<ipython-input-3-372059b16239>\u001b[0m in \u001b[0;36m<module>\u001b[1;34m\u001b[0m\n\u001b[0;32m     15\u001b[0m \u001b[1;33m\u001b[0m\u001b[0m\n\u001b[0;32m     16\u001b[0m     \u001b[0mgenerated_images\u001b[0m\u001b[1;33m=\u001b[0m\u001b[0mcv2\u001b[0m\u001b[1;33m.\u001b[0m\u001b[0mcvtColor\u001b[0m\u001b[1;33m(\u001b[0m\u001b[0mgenerated_images\u001b[0m\u001b[1;33m,\u001b[0m \u001b[0mcv2\u001b[0m\u001b[1;33m.\u001b[0m\u001b[0mCOLOR_BGR2RGB\u001b[0m\u001b[1;33m)\u001b[0m\u001b[1;33m\u001b[0m\u001b[1;33m\u001b[0m\u001b[0m\n\u001b[1;32m---> 17\u001b[1;33m     \u001b[0mcv2\u001b[0m\u001b[1;33m.\u001b[0m\u001b[0mimwrite\u001b[0m\u001b[1;33m(\u001b[0m\u001b[0maugmented_path\u001b[0m\u001b[1;33m,\u001b[0m \u001b[0mgenerated_images\u001b[0m\u001b[1;33m)\u001b[0m\u001b[1;33m\u001b[0m\u001b[1;33m\u001b[0m\u001b[0m\n\u001b[0m\u001b[0;32m     18\u001b[0m     \u001b[0mi\u001b[0m \u001b[1;33m=\u001b[0m\u001b[0mi\u001b[0m\u001b[1;33m+\u001b[0m\u001b[1;36m1\u001b[0m\u001b[1;33m\u001b[0m\u001b[1;33m\u001b[0m\u001b[0m\n",
      "\u001b[1;31merror\u001b[0m: OpenCV(4.3.0) C:\\projects\\opencv-python\\opencv\\modules\\imgcodecs\\src\\loadsave.cpp:667: error: (-2:Unspecified error) could not find a writer for the specified extension in function 'cv::imwrite_'\n"
     ]
    }
   ],
   "source": [
    "import os, random\n",
    "images_path=\"E:/T-Shirts&Shirts/train/T-Shirts\"\n",
    "augmented_path=\"./preview\"\n",
    "images=[]\n",
    "\n",
    "for im in os.listdir(images_path):     \n",
    "    images.append(os.path.join(images_path,im))\n",
    "    \n",
    "images_to_generate=600\n",
    "i=1\n",
    "while i<=images_to_generate:    \n",
    "    image=random.choice(images)\n",
    "    original_image = cv2.imread(image)\n",
    "    generated_images=original_image\n",
    "    \n",
    "    generated_images=cv2.cvtColor(generated_images, cv2.COLOR_BGR2RGB)\n",
    "    cv2.imwrite(augmented_path, generated_images)\n",
    "    i =i+1"
   ]
  },
  {
   "cell_type": "code",
   "execution_count": null,
   "metadata": {},
   "outputs": [],
   "source": []
  }
 ],
 "metadata": {
  "kernelspec": {
   "display_name": "Python 3",
   "language": "python",
   "name": "python3"
  },
  "language_info": {
   "codemirror_mode": {
    "name": "ipython",
    "version": 3
   },
   "file_extension": ".py",
   "mimetype": "text/x-python",
   "name": "python",
   "nbconvert_exporter": "python",
   "pygments_lexer": "ipython3",
   "version": "3.7.7"
  }
 },
 "nbformat": 4,
 "nbformat_minor": 4
}
