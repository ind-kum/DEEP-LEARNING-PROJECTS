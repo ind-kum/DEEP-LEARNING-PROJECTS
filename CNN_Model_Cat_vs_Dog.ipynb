{
 "cells": [
  {
   "cell_type": "code",
   "execution_count": 1,
   "metadata": {},
   "outputs": [],
   "source": [
    "from tensorflow.compat.v1 import ConfigProto\n",
    "from tensorflow.compat.v1 import InteractiveSession\n",
    "\n",
    "config = ConfigProto()\n",
    "config.gpu_options.per_process_gpu_memory_fraction = 0.5\n",
    "config.gpu_options.allow_growth = True\n",
    "session = InteractiveSession(config=config)"
   ]
  },
  {
   "cell_type": "code",
   "execution_count": 2,
   "metadata": {},
   "outputs": [],
   "source": [
    "# Importing the libraries\n",
    "import tensorflow as tf\n",
    "from tensorflow.keras.preprocessing.image import ImageDataGenerator"
   ]
  },
  {
   "cell_type": "code",
   "execution_count": 3,
   "metadata": {},
   "outputs": [
    {
     "data": {
      "text/plain": [
       "'2.4.1'"
      ]
     },
     "execution_count": 3,
     "metadata": {},
     "output_type": "execute_result"
    }
   ],
   "source": [
    "tf.__version__"
   ]
  },
  {
   "cell_type": "code",
   "execution_count": 4,
   "metadata": {},
   "outputs": [],
   "source": [
    "# Part 1 - Data Preprocessing\n",
    "\n",
    "# Preprocessing the Training set\n",
    "train_datagen = ImageDataGenerator(rescale = 1./255,\n",
    "                                   shear_range = 0.2,\n",
    "                                   zoom_range = 0.2,\n",
    "                                   horizontal_flip = True)"
   ]
  },
  {
   "cell_type": "code",
   "execution_count": 5,
   "metadata": {},
   "outputs": [
    {
     "name": "stdout",
     "output_type": "stream",
     "text": [
      "Found 1442 images belonging to 2 classes.\n",
      "Found 600 images belonging to 2 classes.\n"
     ]
    }
   ],
   "source": [
    "training_set = train_datagen.flow_from_directory('E:/dog_vs_cat/train',\n",
    "                                                 target_size = (64, 64),\n",
    "                                                 batch_size = 32,\n",
    "                                                 class_mode = 'binary')\n",
    "\n",
    "# Preprocessing the Test set\n",
    "test_datagen = ImageDataGenerator(rescale = 1./255)\n",
    "test_set = test_datagen.flow_from_directory('E:/dog_vs_cat/test',\n",
    "                                            target_size = (64, 64),\n",
    "                                            batch_size = 32,\n",
    "                                            class_mode = 'binary')"
   ]
  },
  {
   "cell_type": "code",
   "execution_count": 6,
   "metadata": {},
   "outputs": [],
   "source": [
    "from tensorflow.keras.layers import Conv2D"
   ]
  },
  {
   "cell_type": "code",
   "execution_count": 7,
   "metadata": {},
   "outputs": [],
   "source": [
    "#Conv2D(padding=\"same\")"
   ]
  },
  {
   "cell_type": "code",
   "execution_count": 8,
   "metadata": {},
   "outputs": [],
   "source": [
    "# Part 2 - Building the CNN\n",
    "\n",
    "# Initialising the CNN\n",
    "cnn = tf.keras.models.Sequential()\n",
    "\n",
    "# Step 1 - Convolution\n",
    "cnn.add(tf.keras.layers.Conv2D(filters=32,padding=\"same\",kernel_size=3, activation='relu', input_shape=[64, 64, 3]))\n",
    "\n",
    "# Step 2 - Pooling\n",
    "cnn.add(tf.keras.layers.MaxPool2D(pool_size=2, strides=2))\n",
    "\n",
    "# Adding a second convolutional layer\n",
    "cnn.add(tf.keras.layers.Conv2D(filters=32,padding='same',kernel_size=3, activation='relu'))\n",
    "cnn.add(tf.keras.layers.MaxPool2D(pool_size=2, strides=2))\n",
    "\n",
    "# Step 3 - Flattening\n",
    "cnn.add(tf.keras.layers.Flatten())\n",
    "\n",
    "# Step 4 - Full Connection\n",
    "cnn.add(tf.keras.layers.Dense(units=128, activation='relu'))\n",
    "\n",
    "# Step 5 - Output Layer\n",
    "cnn.add(tf.keras.layers.Dense(units=1, activation='sigmoid'))"
   ]
  },
  {
   "cell_type": "code",
   "execution_count": 9,
   "metadata": {},
   "outputs": [
    {
     "name": "stdout",
     "output_type": "stream",
     "text": [
      "Model: \"sequential\"\n",
      "_________________________________________________________________\n",
      "Layer (type)                 Output Shape              Param #   \n",
      "=================================================================\n",
      "conv2d (Conv2D)              (None, 64, 64, 32)        896       \n",
      "_________________________________________________________________\n",
      "max_pooling2d (MaxPooling2D) (None, 32, 32, 32)        0         \n",
      "_________________________________________________________________\n",
      "conv2d_1 (Conv2D)            (None, 32, 32, 32)        9248      \n",
      "_________________________________________________________________\n",
      "max_pooling2d_1 (MaxPooling2 (None, 16, 16, 32)        0         \n",
      "_________________________________________________________________\n",
      "flatten (Flatten)            (None, 8192)              0         \n",
      "_________________________________________________________________\n",
      "dense (Dense)                (None, 128)               1048704   \n",
      "_________________________________________________________________\n",
      "dense_1 (Dense)              (None, 1)                 129       \n",
      "=================================================================\n",
      "Total params: 1,058,977\n",
      "Trainable params: 1,058,977\n",
      "Non-trainable params: 0\n",
      "_________________________________________________________________\n"
     ]
    }
   ],
   "source": [
    "cnn.summary()"
   ]
  },
  {
   "cell_type": "code",
   "execution_count": 10,
   "metadata": {
    "scrolled": false
   },
   "outputs": [
    {
     "name": "stdout",
     "output_type": "stream",
     "text": [
      "Epoch 1/50\n",
      "46/46 [==============================] - 27s 567ms/step - loss: 0.7648 - accuracy: 0.5203 - val_loss: 0.6878 - val_accuracy: 0.5167\n",
      "Epoch 2/50\n",
      "46/46 [==============================] - 18s 390ms/step - loss: 0.6798 - accuracy: 0.5597 - val_loss: 0.6734 - val_accuracy: 0.5817\n",
      "Epoch 3/50\n",
      "46/46 [==============================] - 27s 599ms/step - loss: 0.6335 - accuracy: 0.6180 - val_loss: 0.6270 - val_accuracy: 0.6350\n",
      "Epoch 4/50\n",
      "46/46 [==============================] - 32s 700ms/step - loss: 0.6242 - accuracy: 0.6526 - val_loss: 0.6946 - val_accuracy: 0.5483\n",
      "Epoch 5/50\n",
      "46/46 [==============================] - 26s 571ms/step - loss: 0.6444 - accuracy: 0.6019 - val_loss: 0.6192 - val_accuracy: 0.6750\n",
      "Epoch 6/50\n",
      "46/46 [==============================] - 34s 728ms/step - loss: 0.6088 - accuracy: 0.6682 - val_loss: 0.5947 - val_accuracy: 0.6967\n",
      "Epoch 7/50\n",
      "46/46 [==============================] - 28s 616ms/step - loss: 0.5411 - accuracy: 0.7418 - val_loss: 0.6090 - val_accuracy: 0.6400\n",
      "Epoch 8/50\n",
      "46/46 [==============================] - 28s 598ms/step - loss: 0.5293 - accuracy: 0.7326 - val_loss: 0.6816 - val_accuracy: 0.6200\n",
      "Epoch 9/50\n",
      "46/46 [==============================] - 25s 551ms/step - loss: 0.5245 - accuracy: 0.7385 - val_loss: 0.5733 - val_accuracy: 0.6650\n",
      "Epoch 10/50\n",
      "46/46 [==============================] - 26s 565ms/step - loss: 0.5268 - accuracy: 0.7471 - val_loss: 0.5973 - val_accuracy: 0.6367\n",
      "Epoch 11/50\n",
      "46/46 [==============================] - 45s 971ms/step - loss: 0.5291 - accuracy: 0.7243 - val_loss: 0.5809 - val_accuracy: 0.7083\n",
      "Epoch 12/50\n",
      "46/46 [==============================] - 47s 1s/step - loss: 0.4748 - accuracy: 0.7789 - val_loss: 0.6228 - val_accuracy: 0.6583\n",
      "Epoch 13/50\n",
      "46/46 [==============================] - 24s 512ms/step - loss: 0.4846 - accuracy: 0.7705 - val_loss: 0.5420 - val_accuracy: 0.7100\n",
      "Epoch 14/50\n",
      "46/46 [==============================] - 31s 671ms/step - loss: 0.4800 - accuracy: 0.7724 - val_loss: 0.5922 - val_accuracy: 0.6733\n",
      "Epoch 15/50\n",
      "46/46 [==============================] - 33s 720ms/step - loss: 0.4825 - accuracy: 0.7707 - val_loss: 0.5278 - val_accuracy: 0.7067\n",
      "Epoch 16/50\n",
      "46/46 [==============================] - 37s 799ms/step - loss: 0.4205 - accuracy: 0.8068 - val_loss: 0.6173 - val_accuracy: 0.7067\n",
      "Epoch 17/50\n",
      "46/46 [==============================] - 34s 734ms/step - loss: 0.4383 - accuracy: 0.7978 - val_loss: 0.6852 - val_accuracy: 0.6817\n",
      "Epoch 18/50\n",
      "46/46 [==============================] - 30s 667ms/step - loss: 0.4761 - accuracy: 0.7636 - val_loss: 0.5485 - val_accuracy: 0.7217\n",
      "Epoch 19/50\n",
      "46/46 [==============================] - 36s 778ms/step - loss: 0.4502 - accuracy: 0.7895 - val_loss: 0.5489 - val_accuracy: 0.7200\n",
      "Epoch 20/50\n",
      "46/46 [==============================] - 35s 761ms/step - loss: 0.4498 - accuracy: 0.7928 - val_loss: 0.5732 - val_accuracy: 0.7100\n",
      "Epoch 21/50\n",
      "46/46 [==============================] - 36s 779ms/step - loss: 0.3751 - accuracy: 0.8477 - val_loss: 0.6024 - val_accuracy: 0.6883\n",
      "Epoch 22/50\n",
      "46/46 [==============================] - 35s 768ms/step - loss: 0.4038 - accuracy: 0.8120 - val_loss: 0.5687 - val_accuracy: 0.7100\n",
      "Epoch 23/50\n",
      "46/46 [==============================] - 29s 634ms/step - loss: 0.4290 - accuracy: 0.7971 - val_loss: 0.6115 - val_accuracy: 0.7200\n",
      "Epoch 24/50\n",
      "46/46 [==============================] - 39s 842ms/step - loss: 0.4060 - accuracy: 0.8234 - val_loss: 0.6141 - val_accuracy: 0.7167\n",
      "Epoch 25/50\n",
      "46/46 [==============================] - 39s 842ms/step - loss: 0.3920 - accuracy: 0.8217 - val_loss: 0.6327 - val_accuracy: 0.7117\n",
      "Epoch 26/50\n",
      "46/46 [==============================] - 29s 634ms/step - loss: 0.3280 - accuracy: 0.8650 - val_loss: 0.5789 - val_accuracy: 0.7317\n",
      "Epoch 27/50\n",
      "46/46 [==============================] - 36s 784ms/step - loss: 0.3146 - accuracy: 0.8691 - val_loss: 0.6294 - val_accuracy: 0.7033\n",
      "Epoch 28/50\n",
      "46/46 [==============================] - 35s 757ms/step - loss: 0.3115 - accuracy: 0.8686 - val_loss: 0.6475 - val_accuracy: 0.7017\n",
      "Epoch 29/50\n",
      "46/46 [==============================] - 35s 771ms/step - loss: 0.2832 - accuracy: 0.8711 - val_loss: 0.6316 - val_accuracy: 0.7283\n",
      "Epoch 30/50\n",
      "46/46 [==============================] - 36s 779ms/step - loss: 0.3579 - accuracy: 0.8381 - val_loss: 0.5787 - val_accuracy: 0.7433\n",
      "Epoch 31/50\n",
      "46/46 [==============================] - 36s 774ms/step - loss: 0.3032 - accuracy: 0.8784 - val_loss: 0.5898 - val_accuracy: 0.7450\n",
      "Epoch 32/50\n",
      "46/46 [==============================] - 37s 810ms/step - loss: 0.2778 - accuracy: 0.8725 - val_loss: 0.6751 - val_accuracy: 0.7150\n",
      "Epoch 33/50\n",
      "46/46 [==============================] - 33s 708ms/step - loss: 0.2654 - accuracy: 0.8818 - val_loss: 0.6795 - val_accuracy: 0.7250\n",
      "Epoch 34/50\n",
      "46/46 [==============================] - 38s 844ms/step - loss: 0.2570 - accuracy: 0.9053 - val_loss: 0.6814 - val_accuracy: 0.7233\n",
      "Epoch 35/50\n",
      "46/46 [==============================] - 38s 815ms/step - loss: 0.2765 - accuracy: 0.8696 - val_loss: 0.6161 - val_accuracy: 0.7250\n",
      "Epoch 36/50\n",
      "46/46 [==============================] - 37s 808ms/step - loss: 0.2529 - accuracy: 0.8950 - val_loss: 0.7099 - val_accuracy: 0.7167\n",
      "Epoch 37/50\n",
      "46/46 [==============================] - 38s 819ms/step - loss: 0.2261 - accuracy: 0.9009 - val_loss: 0.6821 - val_accuracy: 0.7400\n",
      "Epoch 38/50\n",
      "46/46 [==============================] - 37s 802ms/step - loss: 0.2702 - accuracy: 0.8936 - val_loss: 0.6552 - val_accuracy: 0.7500\n",
      "Epoch 39/50\n",
      "46/46 [==============================] - 37s 806ms/step - loss: 0.2237 - accuracy: 0.9125 - val_loss: 0.6698 - val_accuracy: 0.7433\n",
      "Epoch 40/50\n",
      "46/46 [==============================] - 37s 813ms/step - loss: 0.2170 - accuracy: 0.8974 - val_loss: 0.6879 - val_accuracy: 0.7533\n",
      "Epoch 41/50\n",
      "46/46 [==============================] - 36s 781ms/step - loss: 0.2033 - accuracy: 0.9278 - val_loss: 0.7077 - val_accuracy: 0.7450\n",
      "Epoch 42/50\n",
      "46/46 [==============================] - 32s 703ms/step - loss: 0.1831 - accuracy: 0.9321 - val_loss: 0.8379 - val_accuracy: 0.7283\n",
      "Epoch 43/50\n",
      "46/46 [==============================] - 36s 781ms/step - loss: 0.1815 - accuracy: 0.9295 - val_loss: 0.7839 - val_accuracy: 0.7300\n",
      "Epoch 44/50\n",
      "46/46 [==============================] - 37s 800ms/step - loss: 0.1600 - accuracy: 0.9396 - val_loss: 0.7883 - val_accuracy: 0.7417\n",
      "Epoch 45/50\n",
      "46/46 [==============================] - 29s 636ms/step - loss: 0.1514 - accuracy: 0.9343 - val_loss: 0.7786 - val_accuracy: 0.7400\n",
      "Epoch 46/50\n",
      "46/46 [==============================] - 30s 645ms/step - loss: 0.1642 - accuracy: 0.9439 - val_loss: 0.8646 - val_accuracy: 0.7233\n",
      "Epoch 47/50\n",
      "46/46 [==============================] - 30s 656ms/step - loss: 0.1439 - accuracy: 0.9480 - val_loss: 0.8966 - val_accuracy: 0.7467\n",
      "Epoch 48/50\n",
      "46/46 [==============================] - 34s 743ms/step - loss: 0.1248 - accuracy: 0.9518 - val_loss: 0.8554 - val_accuracy: 0.7583\n",
      "Epoch 49/50\n",
      "46/46 [==============================] - 28s 612ms/step - loss: 0.1213 - accuracy: 0.9551 - val_loss: 0.8569 - val_accuracy: 0.7567\n",
      "Epoch 50/50\n",
      "46/46 [==============================] - 29s 631ms/step - loss: 0.1286 - accuracy: 0.9484 - val_loss: 0.9196 - val_accuracy: 0.7400\n"
     ]
    }
   ],
   "source": [
    "# Part 3 - Training the CNN\n",
    "\n",
    "# Compiling the CNN\n",
    "cnn.compile(optimizer = 'adam', loss = 'binary_crossentropy', metrics = ['accuracy'])\n",
    "\n",
    "# Training the CNN on the Training set and evaluating it on the Test set\n",
    "history = cnn.fit(x = training_set, validation_data = test_set, epochs = 50)"
   ]
  },
  {
   "cell_type": "code",
   "execution_count": 11,
   "metadata": {},
   "outputs": [
    {
     "data": {
      "image/png": "[encoded data removed]",
      "text/plain": [
       "<Figure size 432x288 with 1 Axes>"
      ]
     },
     "metadata": {
      "needs_background": "light"
     },
     "output_type": "display_data"
    }
   ],
   "source": [
    "\n",
    "# plotting out loss charts\n",
    "import matplotlib.pyplot as plt\n",
    "\n",
    "history_dict = history.history\n",
    "\n",
    "loss_values = history_dict['loss']\n",
    "val_loss_values = history_dict['val_loss']\n",
    "epochs = range(1, len(loss_values) + 1)\n",
    "\n",
    "line1 = plt.plot(epochs, val_loss_values, label='Validation/Test Loss')\n",
    "line2 = plt.plot(epochs, loss_values, label='Training Loss')\n",
    "plt.setp(line1, linewidth=2.0, marker = '+', markersize=10.0)\n",
    "plt.setp(line2, linewidth=2.0, marker = '4', markersize=10.0)\n",
    "plt.xlabel('Epochs')\n",
    "plt.ylabel('Loss')\n",
    "plt.grid(True)\n",
    "plt.legend()\n",
    "plt.show()"
   ]
  },
  {
   "cell_type": "code",
   "execution_count": 12,
   "metadata": {},
   "outputs": [
    {
     "data": {
      "image/png": "[encoded data removed]",
      "text/plain": [
       "<Figure size 432x288 with 1 Axes>"
      ]
     },
     "metadata": {
      "needs_background": "light"
     },
     "output_type": "display_data"
    }
   ],
   "source": [
    "# Plotting the accuracy charts\n",
    "import matplotlib.pyplot as plt\n",
    "\n",
    "history_dict = history.history\n",
    "\n",
    "acc_values = history_dict['accuracy']\n",
    "val_acc_values = history_dict['val_accuracy']\n",
    "epochs = range(1, len(loss_values) + 1)\n",
    "\n",
    "line1 = plt.plot(epochs, val_acc_values, label='Validation/Test Accuracy')\n",
    "line2 = plt.plot(epochs, acc_values, label='Training Accuracy')\n",
    "plt.setp(line1, linewidth=2.0, marker = '+', markersize=10.0)\n",
    "plt.setp(line2, linewidth=2.0, marker = '4', markersize=10.0)\n",
    "plt.xlabel('Epochs')\n",
    "plt.ylabel('Accuracy')\n",
    "plt.grid(True)\n",
    "plt.legend()\n",
    "plt.show()"
   ]
  },
  {
   "cell_type": "code",
   "execution_count": 13,
   "metadata": {},
   "outputs": [],
   "source": [
    "# save it as a h5 file\n",
    "\n",
    "\n",
    "from tensorflow.keras.models import load_model\n",
    "\n",
    "cnn.save('model_rcat_dog.h5')"
   ]
  },
  {
   "cell_type": "code",
   "execution_count": 14,
   "metadata": {},
   "outputs": [],
   "source": [
    "from tensorflow.keras.models import load_model\n",
    " \n",
    "# load model\n",
    "model = load_model('model_rcat_dog.h5')"
   ]
  },
  {
   "cell_type": "code",
   "execution_count": 15,
   "metadata": {},
   "outputs": [
    {
     "name": "stdout",
     "output_type": "stream",
     "text": [
      "Model: \"sequential\"\n",
      "_________________________________________________________________\n",
      "Layer (type)                 Output Shape              Param #   \n",
      "=================================================================\n",
      "conv2d (Conv2D)              (None, 64, 64, 32)        896       \n",
      "_________________________________________________________________\n",
      "max_pooling2d (MaxPooling2D) (None, 32, 32, 32)        0         \n",
      "_________________________________________________________________\n",
      "conv2d_1 (Conv2D)            (None, 32, 32, 32)        9248      \n",
      "_________________________________________________________________\n",
      "max_pooling2d_1 (MaxPooling2 (None, 16, 16, 32)        0         \n",
      "_________________________________________________________________\n",
      "flatten (Flatten)            (None, 8192)              0         \n",
      "_________________________________________________________________\n",
      "dense (Dense)                (None, 128)               1048704   \n",
      "_________________________________________________________________\n",
      "dense_1 (Dense)              (None, 1)                 129       \n",
      "=================================================================\n",
      "Total params: 1,058,977\n",
      "Trainable params: 1,058,977\n",
      "Non-trainable params: 0\n",
      "_________________________________________________________________\n"
     ]
    }
   ],
   "source": [
    "model.summary()"
   ]
  },
  {
   "cell_type": "code",
   "execution_count": 17,
   "metadata": {},
   "outputs": [],
   "source": [
    "# Part 4 - Making a single prediction\n",
    "\n",
    "import numpy as np\n",
    "from tensorflow.keras.preprocessing import image\n",
    "test_image = image.load_img('E:/dog_vs_cat/test/dog/dog.11500.jpg', target_size = (64,64))\n",
    "test_image = image.img_to_array(test_image)\n",
    "test_image=test_image/255\n",
    "test_image = np.expand_dims(test_image, axis = 0)\n",
    "result = cnn.predict(test_image)"
   ]
  },
  {
   "cell_type": "code",
   "execution_count": 19,
   "metadata": {},
   "outputs": [],
   "source": [
    "# Part 4 - Making a single prediction\n",
    "\n",
    "import numpy as np\n",
    "from tensorflow.keras.preprocessing import image\n",
    "test_image = image.load_img('E:/dog_vs_cat/test/cat/cat.0.jpg', target_size = (64,64))\n",
    "test_image = image.img_to_array(test_image)\n",
    "test_image=test_image/255\n",
    "test_image = np.expand_dims(test_image, axis = 0)\n",
    "result = cnn.predict(test_image)"
   ]
  },
  {
   "cell_type": "code",
   "execution_count": 20,
   "metadata": {},
   "outputs": [
    {
     "data": {
      "text/plain": [
       "array([[2.2838708e-07]], dtype=float32)"
      ]
     },
     "execution_count": 20,
     "metadata": {},
     "output_type": "execute_result"
    }
   ],
   "source": [
    "result"
   ]
  },
  {
   "cell_type": "code",
   "execution_count": 21,
   "metadata": {},
   "outputs": [
    {
     "name": "stdout",
     "output_type": "stream",
     "text": [
      "The image classified is cat\n"
     ]
    }
   ],
   "source": [
    "if result[0]<=0.5:\n",
    "    print(\"The image classified is cat\")\n",
    "else:\n",
    "    print(\"The image classified is dog\")"
   ]
  }
 ],
 "metadata": {
  "kernelspec": {
   "display_name": "Python 3",
   "language": "python",
   "name": "python3"
  },
  "language_info": {
   "codemirror_mode": {
    "name": "ipython",
    "version": 3
   },
   "file_extension": ".py",
   "mimetype": "text/x-python",
   "name": "python",
   "nbconvert_exporter": "python",
   "pygments_lexer": "ipython3",
   "version": "3.8.5"
  }
 },
 "nbformat": 4,
 "nbformat_minor": 4
}
