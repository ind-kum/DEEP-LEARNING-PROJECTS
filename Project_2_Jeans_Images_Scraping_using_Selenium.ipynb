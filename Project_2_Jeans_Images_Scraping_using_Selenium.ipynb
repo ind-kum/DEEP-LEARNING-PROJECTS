{
 "cells": [
  {
   "cell_type": "markdown",
   "metadata": {},
   "source": [
    "# Scraping images from flipkart"
   ]
  },
  {
   "cell_type": "markdown",
   "metadata": {},
   "source": [
    "Step 1: import the libraries and get the URL of the webpage"
   ]
  },
  {
   "cell_type": "code",
   "execution_count": 1,
   "metadata": {},
   "outputs": [],
   "source": [
    "from selenium import webdriver\n",
    "import os"
   ]
  },
  {
   "cell_type": "code",
   "execution_count": 2,
   "metadata": {},
   "outputs": [],
   "source": [
    "driver= webdriver.Chrome('E:\\\\chrome_driver\\\\chromedriver.exe')"
   ]
  },
  {
   "cell_type": "code",
   "execution_count": 3,
   "metadata": {},
   "outputs": [],
   "source": [
    "my_page= driver.get('https://www.flipkart.com/clothing-and-accessories/bottomwear/jeans/men-jeans/pr?sid=clo,vua,k58,i51&otracker=categorytree&otracker=nmenu_sub_Men_0_Jeans')"
   ]
  },
  {
   "cell_type": "markdown",
   "metadata": {},
   "source": [
    "Step 2: Making the directory to store images"
   ]
  },
  {
   "cell_type": "code",
   "execution_count": 4,
   "metadata": {},
   "outputs": [],
   "source": [
    "# Optional step\n",
    "def make_directory(dirname):\n",
    "    current_path= os.getcwd()\n",
    "    path= os.path.join(current_path, dirname)\n",
    "    if not os.path.exists(path):\n",
    "        os.makedirs(path)"
   ]
  },
  {
   "cell_type": "code",
   "execution_count": 6,
   "metadata": {},
   "outputs": [],
   "source": [
    "make_directory(\"jeans\")"
   ]
  },
  {
   "cell_type": "markdown",
   "metadata": {},
   "source": [
    "Step 3: Scraping URLs of images"
   ]
  },
  {
   "cell_type": "code",
   "execution_count": 7,
   "metadata": {},
   "outputs": [],
   "source": [
    "images= driver.find_elements_by_xpath(\"//img[@class='_3togXc']\")"
   ]
  },
  {
   "cell_type": "code",
   "execution_count": 8,
   "metadata": {},
   "outputs": [
    {
     "name": "stdout",
     "output_type": "stream",
     "text": [
      "40\n"
     ]
    }
   ],
   "source": [
    "print(len(images))"
   ]
  },
  {
   "cell_type": "code",
   "execution_count": 9,
   "metadata": {},
   "outputs": [
    {
     "data": {
      "text/plain": [
       "<selenium.webdriver.remote.webelement.WebElement (session=\"68d9179c9684550ff70515d60dbfab87\", element=\"f9350424-17b2-4679-90f1-78674dede232\")>"
      ]
     },
     "execution_count": 9,
     "metadata": {},
     "output_type": "execute_result"
    }
   ],
   "source": [
    "images[0]"
   ]
  },
  {
   "cell_type": "code",
   "execution_count": 10,
   "metadata": {},
   "outputs": [
    {
     "name": "stdout",
     "output_type": "stream",
     "text": [
      "https://rukminim1.flixcart.com/image/329/395/k2krekw0/jean/x/h/9/30-doby-round-h-dirt-plain-sky-lace-whaton-original-imafhwhgy2q3dsgz.jpeg?q=50\n",
      "https://rukminim1.flixcart.com/image/329/395/k2krekw0/jean/w/f/u/32-doby-cross-h-dirt-plain-sky-lace-whaton-original-imafhwh3dzvmtvyw.jpeg?q=50\n",
      "https://rukminim1.flixcart.com/image/329/395/jjylw280/jean/p/a/s/34-eps-black-03-urbano-fashion-original-imaf7f7wyy7sv6zk.jpeg?q=50\n",
      "https://rukminim1.flixcart.com/image/329/395/jh6l2fk0/jean/4/a/z/30-lj183a-lzard-original-imaf5883mb8vchhb.jpeg?q=50\n",
      "https://rukminim1.flixcart.com/image/329/395/jqmnv680/jean/h/u/p/36-lj3127-lzard-original-imafckugeffzszqx.jpeg?q=50\n",
      "https://rukminim1.flixcart.com/image/329/395/k0zlsi80/jean/v/u/f/32-maw19jn199-metronaut-original-imafkmfwudy6fktq.jpeg?q=50\n",
      "https://rukminim1.flixcart.com/image/329/395/k70spzk0/jean/j/m/2/30-hljn000882-highlander-original-imafpchpjyjzhtqp.jpeg?q=50\n",
      "https://rukminim1.flixcart.com/image/329/395/jean/n/u/3/bmw-darklevis-ben-martin-32-original-imaedpc4zcgjadsv.jpeg?q=50\n",
      "https://rukminim1.flixcart.com/image/329/395/k2urhjk0/jean/j/2/v/32-w38457w22smu-wrangler-original-imafhv9fgk8y7znm.jpeg?q=50\n",
      "https://rukminim1.flixcart.com/image/329/395/k7ksvww0/jean/y/m/x/32-fmjno1151-flying-machine-original-imafpnxf6bzyysyf.jpeg?q=50\n",
      "https://rukminim1.flixcart.com/image/329/395/jievpu80/jean/c/g/x/32-neera-singh-1-snaave-original-imaf66wdsrsefzvj.jpeg?q=50\n",
      "https://rukminim1.flixcart.com/image/329/395/jhavdzk0/jean/j/x/p/30-hpsjogger-lgrey-urbano-fashion-original-imaf5bzbhhvwu9by.jpeg?q=50\n",
      "https://rukminim1.flixcart.com/image/329/395/jraycnk0/jean/9/g/z/32-w30774w2201z-wrangler-original-imafd5fyxwzfsywq.jpeg?q=50\n",
      "https://rukminim1.flixcart.com/image/329/395/k2m6ufk0/jean/c/6/k/30-doby-round-emb-sky-plain-lace-whaton-original-imafhwn4qezwf5zp.jpeg?q=50\n",
      "https://rukminim1.flixcart.com/image/329/395/k7ksvww0/jean/f/g/z/32-fmjno1078-flying-machine-original-imafpz5h5xymkpec.jpeg?q=50\n",
      "https://rukminim1.flixcart.com/image/329/395/k12go7k0/jean/j/q/e/32-maw19jn150-metronaut-original-imafkq3wvafca6m9.jpeg?q=50\n",
      "https://rukminim1.flixcart.com/image/329/395/k6jnfrk0/jean/n/s/y/32-fmjno1042-flying-machine-original-imafzydywmbnzhzn.jpeg?q=50\n",
      "https://rukminim1.flixcart.com/image/329/395/k687wy80/jean/s/t/f/32-18298-0873-levi-s-original-imafzqfzsxm9mjhk.jpeg?q=50\n",
      "https://rukminim1.flixcart.com/image/329/395/j6gs6fk0/jean/n/h/z/40-jog-hps-black-urbano-fashion-original-imaewxe7fgyx7u28.jpeg?q=50\n",
      "https://rukminim1.flixcart.com/image/329/395/k2m6ufk0/jean/h/r/u/30-doby-round-emb-d-blue-plain-lace-whaton-original-imafhwn4ptnb6dga.jpeg?q=50\n",
      "https://rukminim1.flixcart.com/image/329/395/k2urhjk0/jean/s/6/e/32-w38453w22smu-wrangler-original-imafhv9frtzyy48q.jpeg?q=50\n",
      "https://rukminim1.flixcart.com/image/329/395/k7m8brk0/jean/m/g/w/32-kjb-1414-dnft-ice-killer-original-imafpt7mrmy8axgu.jpeg?q=50\n",
      "https://rukminim1.flixcart.com/image/329/395/k3hmj680/jean/f/n/n/28-lj3381-lzard-original-imafmm52tbx6nthc.jpeg?q=50\n",
      "https://rukminim1.flixcart.com/image/329/395/k2krekw0/jean/f/q/y/30-doby-round-h-dirt-plain-d-blue-lace-whaton-original-imafhwhgzd4v73tm.jpeg?q=50\n",
      "https://rukminim1.flixcart.com/image/329/395/jmjhifk0/jean/z/7/n/32-l222922481mv-lee-original-imaf9dtmmgfyksym.jpeg?q=50\n",
      "https://rukminim1.flixcart.com/image/329/395/k7ksvww0/jean/j/p/u/32-fmjno1119-flying-machine-original-imafpz4kjcc6hvna.jpeg?q=50\n",
      "https://rukminim1.flixcart.com/image/329/395/k6l2vm80/jean/y/p/r/32-w38503w22smu-wrangler-original-imafngxjdvytrhfy.jpeg?q=50\n",
      "https://rukminim1.flixcart.com/image/329/395/k7usyvk0/jean/a/e/y/32-w33927w2201z-wrangler-original-imafpzyswfhgswpm.jpeg?q=50\n",
      "https://rukminim1.flixcart.com/image/329/395/k0sgl8w0/jean/6/t/c/32-udjn0313-u-s-polo-assn-original-imafkgyvvfj7abrt.jpeg?q=50\n",
      "https://rukminim1.flixcart.com/image/329/395/jkwwgi80/jean/g/p/4/30-2425788-roadster-original-imaf863vgg7ebaah.jpeg?q=50\n",
      "https://rukminim1.flixcart.com/image/329/395/k1tm1e80/jean/n/g/g/32-maw19jn192-metronaut-original-imafh8yygptxhsvz.jpeg?q=50\n",
      "https://rukminim1.flixcart.com/image/329/395/k2urhjk0/jean/h/f/3/32-w38467w22smu-wrangler-original-imafhv9f3myvhpyv.jpeg?q=50\n",
      "https://rukminim1.flixcart.com/image/329/395/jsw3yq80/jean/j/c/c/32-mss19ajn020-metronaut-original-imafede5zhvgchsk.jpeg?q=50\n",
      "https://rukminim1.flixcart.com/image/329/395/k2p1q4w0/jean/d/e/6/30-hpsstriperwr-lgrey-urbano-fashion-original-imafhzzfe232wght.jpeg?q=50\n",
      "https://rukminim1.flixcart.com/image/329/395/k0wqwsw0/jean/p/e/f/32-18298-0701-levi-s-original-imafkhgf6hqptbgp.jpeg?q=50\n",
      "https://rukminim1.flixcart.com/image/329/395/k12go7k0/jean/d/z/a/32-efskn-dev-30-spykar-original-imafkqawgdxxzhfa.jpeg?q=50\n",
      "https://rukminim1.flixcart.com/image/329/395/k5pn6vk0/jean/4/k/w/32-kjb-1405-dnft-olv-killer-original-imafz57uesfgyrrh.jpeg?q=50\n",
      "https://rukminim1.flixcart.com/image/329/395/k7usyvk0/jean/q/v/r/32-fmjno1097-flying-machine-original-imafpzjxxzw2y5zf.jpeg?q=50\n",
      "https://rukminim1.flixcart.com/image/329/395/k7jdg280/jean/j/z/x/32-fmjno0420-flying-machine-original-imafpz6cnjh3pjua.jpeg?q=50\n",
      "https://rukminim1.flixcart.com/image/329/395/k41mp3k0/jean/6/b/5/40-avwhskryelstrpbwr-mblu-01-urbano-fashion-original-imafmzygxyvqrsym.jpeg?q=50\n"
     ]
    }
   ],
   "source": [
    "urls= []\n",
    "for image in images:\n",
    "    source= image.get_attribute('src')\n",
    "    urls.append(source)\n",
    "    print(source)"
   ]
  },
  {
   "cell_type": "code",
   "execution_count": 11,
   "metadata": {},
   "outputs": [
    {
     "data": {
      "text/plain": [
       "40"
      ]
     },
     "execution_count": 11,
     "metadata": {},
     "output_type": "execute_result"
    }
   ],
   "source": [
    "len(urls)"
   ]
  },
  {
   "cell_type": "markdown",
   "metadata": {},
   "source": [
    "Step 4: Using the URLs to download images"
   ]
  },
  {
   "cell_type": "code",
   "execution_count": 12,
   "metadata": {},
   "outputs": [],
   "source": [
    "import shutil\n",
    "import requests"
   ]
  },
  {
   "cell_type": "code",
   "execution_count": 13,
   "metadata": {},
   "outputs": [
    {
     "name": "stdout",
     "output_type": "stream",
     "text": [
      "Downloading 1 of 40 images from page 1\n",
      "Downloading 2 of 40 images from page 1\n",
      "Downloading 3 of 40 images from page 1\n",
      "Downloading 4 of 40 images from page 1\n",
      "Downloading 5 of 40 images from page 1\n",
      "Downloading 6 of 40 images from page 1\n",
      "Downloading 7 of 40 images from page 1\n",
      "Downloading 8 of 40 images from page 1\n",
      "Downloading 9 of 40 images from page 1\n",
      "Downloading 10 of 40 images from page 1\n",
      "Downloading 11 of 40 images from page 1\n",
      "Downloading 12 of 40 images from page 1\n",
      "Downloading 13 of 40 images from page 1\n",
      "Downloading 14 of 40 images from page 1\n",
      "Downloading 15 of 40 images from page 1\n",
      "Downloading 16 of 40 images from page 1\n",
      "Downloading 17 of 40 images from page 1\n",
      "Downloading 18 of 40 images from page 1\n",
      "Downloading 19 of 40 images from page 1\n",
      "Downloading 20 of 40 images from page 1\n",
      "Downloading 21 of 40 images from page 1\n",
      "Downloading 22 of 40 images from page 1\n",
      "Downloading 23 of 40 images from page 1\n",
      "Downloading 24 of 40 images from page 1\n",
      "Downloading 25 of 40 images from page 1\n",
      "Downloading 26 of 40 images from page 1\n",
      "Downloading 27 of 40 images from page 1\n",
      "Downloading 28 of 40 images from page 1\n",
      "Downloading 29 of 40 images from page 1\n",
      "Downloading 30 of 40 images from page 1\n",
      "Downloading 31 of 40 images from page 1\n",
      "Downloading 32 of 40 images from page 1\n",
      "Downloading 33 of 40 images from page 1\n",
      "Downloading 34 of 40 images from page 1\n",
      "Downloading 35 of 40 images from page 1\n",
      "Downloading 36 of 40 images from page 1\n",
      "Downloading 37 of 40 images from page 1\n",
      "Downloading 38 of 40 images from page 1\n",
      "Downloading 39 of 40 images from page 1\n",
      "Downloading 40 of 40 images from page 1\n"
     ]
    }
   ],
   "source": [
    "page=1\n",
    "for index, link in enumerate(urls):\n",
    "    print(\"Downloading {0} of {1} images from page 1\".format(index+1, len(urls)))\n",
    "    response= requests.get(link)\n",
    "    with open('jeans/img_{0}{1}.jpeg'.format(index, page), \"wb\") as file:\n",
    "        file.write(response.content)"
   ]
  },
  {
   "cell_type": "markdown",
   "metadata": {},
   "source": [
    "Step 5: Moving to the next page"
   ]
  },
  {
   "cell_type": "code",
   "execution_count": 14,
   "metadata": {},
   "outputs": [],
   "source": [
    "# Now we find the 'Next' button using x_path and using selenium we click it\n",
    "next_page= driver.find_element_by_xpath(\"//a[@class='_3fVaIS']\").click()"
   ]
  },
  {
   "cell_type": "code",
   "execution_count": 15,
   "metadata": {},
   "outputs": [],
   "source": [
    "# Following the same steps from step 3 onwards.\n",
    "images= driver.find_elements_by_xpath(\"//img[@class='_3togXc']\")"
   ]
  },
  {
   "cell_type": "code",
   "execution_count": 16,
   "metadata": {},
   "outputs": [
    {
     "name": "stdout",
     "output_type": "stream",
     "text": [
      "https://rukminim1.flixcart.com/image/309/371/k0zlsi80/jean/h/e/5/32-maw19jn115-metronaut-original-imafkmgr2wahrggf.jpeg?q=50\n",
      "https://rukminim1.flixcart.com/image/309/371/k6l2vm80/jean/w/c/q/32-fmjno1003-flying-machine-original-imafzzxrqdfbhxzw.jpeg?q=50\n",
      "https://rukminim1.flixcart.com/image/309/371/k0wqwsw0/jean/p/e/f/32-18298-0701-levi-s-original-imafkhgf6hqptbgp.jpeg?q=50\n",
      "https://rukminim1.flixcart.com/image/309/371/jlgwmfk0/jean/r/j/w/32-59224-0021-denizen-original-imaf8ezyx9urfyx6.jpeg?q=50\n",
      "https://rukminim1.flixcart.com/image/309/371/k6l2vm80/jean/a/a/z/32-kjb-1179-slnkft-indgbl-killer-original-imafngv6fznh2zkc.jpeg?q=50\n",
      "https://rukminim1.flixcart.com/image/309/371/kb89ea80/jean/i/s/7/40-kjb-1249-dnft-blh-killer-original-imafsmg7qtu3jhq4.jpeg?q=50\n",
      "https://rukminim1.flixcart.com/image/309/371/jrf8o7k0/jean/x/g/a/32-w28985w2283g-wrangler-original-imafd8aujbcmxzbx.jpeg?q=50\n",
      "https://rukminim1.flixcart.com/image/309/371/k6l2vm80/jean/5/j/b/32-d-jen-2020-white-6-masterly-weft-original-imafpyauff9z7nzt.jpeg?q=50\n",
      "https://rukminim1.flixcart.com/image/309/371/jraycnk0/jean/9/g/z/32-w30774w2201z-wrangler-original-imafd5fyxwzfsywq.jpeg?q=50\n",
      "https://rukminim1.flixcart.com/image/309/371/k29bvrk0/jean/t/j/w/32-ecro-02ah-24-spykar-original-imafhh5zq4fy4zdf.jpeg?q=50\n",
      "https://rukminim1.flixcart.com/image/309/371/k70spzk0/jean/g/b/b/30-hljn000667-highlander-original-imafpchy5ajwjd7n.jpeg?q=50\n",
      "https://rukminim1.flixcart.com/image/309/371/k226oi80/jean/g/f/s/32-kjb-1227-dnft-crbnbl-killer-original-imafhhxaegtggrww.jpeg?q=50\n",
      "https://rukminim1.flixcart.com/image/309/371/k12go7k0/jean/n/m/r/32-fmjno0773-flying-machine-original-imafkq6zpxvybus6.jpeg?q=50\n",
      "https://rukminim1.flixcart.com/image/309/371/k5pn6vk0/jean/q/8/b/32-kjb-1404-dnft-gry-killer-original-imafz9xjh5jeb8gw.jpeg?q=50\n",
      "https://rukminim1.flixcart.com/image/309/371/k0e66q80/jean/m/h/p/32-udjn0316-u-s-polo-assn-original-imafk6xd7zgqc52n.jpeg?q=50\n",
      "https://rukminim1.flixcart.com/image/309/371/jxuq07k0/jean/e/r/7/32-w36991w22smu-wrangler-original-imafg7sgfqxhrmbg.jpeg?q=50\n",
      "https://rukminim1.flixcart.com/image/309/371/k3yrte80/jean/r/j/a/32-kjb-1162-slnkft-bl-killer-original-imafmzyb67pnhrhf.jpeg?q=50\n",
      "https://rukminim1.flixcart.com/image/309/371/k3yrte80/jean/z/6/4/32-kjb-1195-dnft-eru-killer-original-imafmzybahj9s3vh.jpeg?q=50\n",
      "https://rukminim1.flixcart.com/image/309/371/k6l2vm80/jean/g/a/k/32-fmjno1091-flying-machine-original-imafzzxr7gsefhph.jpeg?q=50\n",
      "https://rukminim1.flixcart.com/image/309/371/k12go7k0/jean/n/u/4/32-maw19jn175-metronaut-original-imafkq65jvkafvvy.jpeg?q=50\n",
      "https://rukminim1.flixcart.com/image/309/371/k6l2vm80/jean/y/p/r/32-w38503w22smu-wrangler-original-imafngxjdvytrhfy.jpeg?q=50\n",
      "https://rukminim1.flixcart.com/image/309/371/k02qnww0/jean/q/9/h/32-23677-0154-levi-s-original-imafjyfzgq8szz5f.jpeg?q=50\n",
      "https://rukminim1.flixcart.com/image/309/371/k12go7k0/jean/d/z/a/32-efskn-dev-30-spykar-original-imafkqawgdxxzhfa.jpeg?q=50\n",
      "https://rukminim1.flixcart.com/image/309/371/k0zlsi80/jean/w/k/v/32-maw19jn103-metronaut-original-imafkmgryaqrmkng.jpeg?q=50\n",
      "https://rukminim1.flixcart.com/image/309/371/k7ksvww0/jean/f/h/v/32-kjb-1240-dnft-bl-killer-original-imafpsc49zsubvw6.jpeg?q=50\n",
      "https://rukminim1.flixcart.com/image/309/371/k1118cw0/jean/5/e/t/32-maw19jn152-metronaut-original-imafkmufykbzma24.jpeg?q=50\n",
      "https://rukminim1.flixcart.com/image/309/371/k12go7k0/jean/x/t/r/32-mss19ajn008-metronaut-original-imafdg4qf32sr5qb.jpeg?q=50\n",
      "https://rukminim1.flixcart.com/image/309/371/k3yrte80/jean/x/s/f/32-kjb-1178-dnft-bl-killer-original-imafmzybbbjxd629.jpeg?q=50\n",
      "https://rukminim1.flixcart.com/image/309/371/k70spzk0/jean/z/s/4/30-hljn000653-highlander-original-imafpchxggu35ffz.jpeg?q=50\n",
      "https://rukminim1.flixcart.com/image/309/371/j7rxpjk0/jean/g/h/p/30-eps-grey-urbano-fashion-original-imaexsz3tufyntgg.jpeg?q=50\n",
      "https://rukminim1.flixcart.com/image/309/371/k4ss2a80/jean/y/9/y/32-w38506w22smu-wrangler-original-imafnmezpysde8e2.jpeg?q=50\n",
      "https://rukminim1.flixcart.com/image/309/371/k5vcya80/jean/g/r/y/32-kmjnru272-paul-re-numero-uno-original-imafzey6pfcy55zm.jpeg?q=50\n",
      "https://rukminim1.flixcart.com/image/309/371/k6s82vk0/jean/h/j/v/32-fmjno1027-flying-machine-original-imafpyhmbuqhgahd.jpeg?q=50\n",
      "https://rukminim1.flixcart.com/image/309/371/k3xcdjk0/jean/k/k/f/32-kjb-1157-slnkft-bk-killer-original-imafmwabx9gmaafh.jpeg?q=50\n",
      "https://rukminim1.flixcart.com/image/309/371/k5vcya80/jean/w/s/g/36-pm202740g074-pepe-jeans-original-imafzd2h6egpwssw.jpeg?q=50\n",
      "https://rukminim1.flixcart.com/image/309/371/k4ss2a80/jean/e/w/d/32-w38507w22smu-wrangler-original-imafngzg3d6pbxsc.jpeg?q=50\n",
      "https://rukminim1.flixcart.com/image/309/371/k1tm1e80/jean/j/y/p/32-maw19jn197-metronaut-original-imafh8yyjhfxgwub.jpeg?q=50\n",
      "https://rukminim1.flixcart.com/image/309/371/k0zlsi80/jean/t/x/k/32-maw19jn134-metronaut-original-imafkmgssczgpjjz.jpeg?q=50\n",
      "https://rukminim1.flixcart.com/image/309/371/k5vcya80/jean/z/m/g/32-kmjnrl226-waters-numero-uno-original-imafzdxgrm4egzjq.jpeg?q=50\n",
      "https://rukminim1.flixcart.com/image/309/371/k70spzk0/jean/r/t/6/30-hljn000685-highlander-original-imafpchxtxu4qbfr.jpeg?q=50\n"
     ]
    }
   ],
   "source": [
    "urls= []\n",
    "for image in images:\n",
    "    source= image.get_attribute('src')\n",
    "    urls.append(source)\n",
    "    print(source)"
   ]
  },
  {
   "cell_type": "code",
   "execution_count": 17,
   "metadata": {
    "scrolled": false
   },
   "outputs": [
    {
     "name": "stdout",
     "output_type": "stream",
     "text": [
      "Downloading 1 of 40 images from page 2\n",
      "Downloading 2 of 40 images from page 2\n",
      "Downloading 3 of 40 images from page 2\n",
      "Downloading 4 of 40 images from page 2\n",
      "Downloading 5 of 40 images from page 2\n",
      "Downloading 6 of 40 images from page 2\n",
      "Downloading 7 of 40 images from page 2\n",
      "Downloading 8 of 40 images from page 2\n",
      "Downloading 9 of 40 images from page 2\n",
      "Downloading 10 of 40 images from page 2\n",
      "Downloading 11 of 40 images from page 2\n",
      "Downloading 12 of 40 images from page 2\n",
      "Downloading 13 of 40 images from page 2\n",
      "Downloading 14 of 40 images from page 2\n",
      "Downloading 15 of 40 images from page 2\n",
      "Downloading 16 of 40 images from page 2\n",
      "Downloading 17 of 40 images from page 2\n",
      "Downloading 18 of 40 images from page 2\n",
      "Downloading 19 of 40 images from page 2\n",
      "Downloading 20 of 40 images from page 2\n",
      "Downloading 21 of 40 images from page 2\n",
      "Downloading 22 of 40 images from page 2\n",
      "Downloading 23 of 40 images from page 2\n",
      "Downloading 24 of 40 images from page 2\n",
      "Downloading 25 of 40 images from page 2\n",
      "Downloading 26 of 40 images from page 2\n",
      "Downloading 27 of 40 images from page 2\n",
      "Downloading 28 of 40 images from page 2\n",
      "Downloading 29 of 40 images from page 2\n",
      "Downloading 30 of 40 images from page 2\n",
      "Downloading 31 of 40 images from page 2\n",
      "Downloading 32 of 40 images from page 2\n",
      "Downloading 33 of 40 images from page 2\n",
      "Downloading 34 of 40 images from page 2\n",
      "Downloading 35 of 40 images from page 2\n",
      "Downloading 36 of 40 images from page 2\n",
      "Downloading 37 of 40 images from page 2\n",
      "Downloading 38 of 40 images from page 2\n",
      "Downloading 39 of 40 images from page 2\n",
      "Downloading 40 of 40 images from page 2\n"
     ]
    }
   ],
   "source": [
    "# Changing for page 2\n",
    "page=2\n",
    "for index, link in enumerate(urls):\n",
    "    print(\"Downloading {0} of {1} images from page 2\".format(index+1, len(urls)))\n",
    "    response= requests.get(link)\n",
    "    with open('jeans/img_{0}{1}.jpeg'.format(index, page), \"wb\") as file:\n",
    "        file.write(response.content)"
   ]
  },
  {
   "cell_type": "markdown",
   "metadata": {},
   "source": [
    "Step 6: Moving to the next page"
   ]
  },
  {
   "cell_type": "code",
   "execution_count": 18,
   "metadata": {},
   "outputs": [],
   "source": [
    "# Now we find the 'Next' button using x_path and using selenium we click it\n",
    "next_page= driver.find_element_by_xpath(\"//a[@class='_3fVaIS']\").click()"
   ]
  },
  {
   "cell_type": "code",
   "execution_count": 19,
   "metadata": {},
   "outputs": [],
   "source": [
    "# Following the same steps from step 3 onwards.\n",
    "images= driver.find_elements_by_xpath(\"//img[@class='_3togXc']\")"
   ]
  },
  {
   "cell_type": "code",
   "execution_count": 20,
   "metadata": {},
   "outputs": [
    {
     "name": "stdout",
     "output_type": "stream",
     "text": [
      "https://rukminim1.flixcart.com/image/309/371/k5pn6vk0/jean/v/w/z/32-kjb-1417-dnft-ltbrwn-killer-original-imafz9xjqfaxenss.jpeg?q=50\n",
      "https://rukminim1.flixcart.com/image/309/371/k3vwxow0/jean/r/z/p/32-fmjno0852-flying-machine-original-imafmve59wjn3f7p.jpeg?q=50\n",
      "https://rukminim1.flixcart.com/image/309/371/j9eirgw0/jean/z/c/h/34-mj-dcut-02a-xee-original-imaez7ffge6rvy9e.jpeg?q=50\n",
      "https://rukminim1.flixcart.com/image/309/371/k6jnfrk0/jean/z/p/r/32-fmjno1059-flying-machine-original-imafzydxtv3cbscd.jpeg?q=50\n",
      "https://rukminim1.flixcart.com/image/309/371/k4vmxzk0/jean/f/w/t/32-bss20d009-billion-original-imafnzy8q4ze3z5x.jpeg?q=50\n",
      "https://rukminim1.flixcart.com/image/309/371/k2urhjk0/jean/s/6/e/32-w38453w22smu-wrangler-original-imafhv9frtzyy48q.jpeg?q=50\n",
      "https://rukminim1.flixcart.com/image/309/371/k66sh3k0/jean/w/v/h/32-36087-0269-levi-s-original-imafzzw5hyrh3rym.jpeg?q=50\n",
      "https://rukminim1.flixcart.com/image/309/371/k7xnukw0/jean/s/c/c/32-kjb-1241-slnkft-bl-killer-original-imafq2fycyujzphg.jpeg?q=50\n",
      "https://rukminim1.flixcart.com/image/309/371/jydaqa80/jean/g/z/h/38-epssprcrs-lblue-urbano-fashion-original-imafgmhbhhgnucwa.jpeg?q=50\n",
      "https://rukminim1.flixcart.com/image/309/371/kbs9k7k0/jean/j/6/n/34-dtss19jn014-ducati-original-imaft27g4g2hphvk.jpeg?q=50\n",
      "https://rukminim1.flixcart.com/image/309/371/k6gsk280/jean/a/z/9/32-w32502w2298b-wrangler-original-imafzt38mty3q8c5.jpeg?q=50\n",
      "https://rukminim1.flixcart.com/image/309/371/k6jnfrk0/jean/w/8/x/32-fmjno1026-flying-machine-original-imafzydymva5bhzb.jpeg?q=50\n",
      "https://rukminim1.flixcart.com/image/309/371/k55n0y80/jean/h/v/v/30-kjb-1239-dnft-bk-killer-original-imafn85rjgq4pzpp.jpeg?q=50\n",
      "https://rukminim1.flixcart.com/image/309/371/k0e66q80/jean/q/w/v/32-l36161248smu-lee-original-imafk7y5rfmhpgu2.jpeg?q=50\n",
      "https://rukminim1.flixcart.com/image/309/371/ka492fk0/jean/b/d/o/36-zip-jog-hps-black-urbano-fashion-original-imafrqg3nhcefzjt.jpeg?q=50\n",
      "https://rukminim1.flixcart.com/image/309/371/k7usyvk0/jean/y/w/n/32-w33233w2201z-wrangler-original-imafpzbgzchjchby.jpeg?q=50\n",
      "https://rukminim1.flixcart.com/image/309/371/k6l2vm80/jean/c/q/s/32-kjb-1187-dnft-khk-killer-original-imafngv6jz9sw2wf.jpeg?q=50\n",
      "https://rukminim1.flixcart.com/image/309/371/k05ljm80/jean/x/n/a/32-18298-0697-levi-s-original-imafjvfzmdzgdmzv.jpeg?q=50\n",
      "https://rukminim1.flixcart.com/image/309/371/k2p1q4w0/jean/6/p/h/32-fmjno0903-flying-machine-original-imafhy2sqzp4nh9y.jpeg?q=50\n",
      "https://rukminim1.flixcart.com/image/309/371/k1tm1e80/jean/n/g/g/32-maw19jn192-metronaut-original-imafh8yygptxhsvz.jpeg?q=50\n",
      "https://rukminim1.flixcart.com/image/309/371/k55n0y80/jean/j/k/p/36-pudnuskpd16210-peter-england-university-original-imafnwa6ygzfahbs.jpeg?q=50\n",
      "https://rukminim1.flixcart.com/image/309/371/k612pow0/jean/a/g/w/42-4-killer-original-imafmzfaszkrhb7s.jpeg?q=50\n",
      "https://rukminim1.flixcart.com/image/309/371/jynat8w0/jean/f/7/6/32-mss19jn037b-metronaut-original-imafgmhn6hhnqnue.jpeg?q=50\n",
      "https://rukminim1.flixcart.com/image/309/371/jtn9bww0/jean/f/b/9/32-18298-0570-levi-s-original-imafeyhbgaqrvzrx.jpeg?q=50\n",
      "https://rukminim1.flixcart.com/image/309/371/jsw3yq80/jean/j/c/c/32-mss19ajn020-metronaut-original-imafede5zhvgchsk.jpeg?q=50\n",
      "https://rukminim1.flixcart.com/image/309/371/k7usyvk0/jean/y/f/g/32-w33231w2298b-wrangler-original-imafpzbsaefufetq.jpeg?q=50\n",
      "https://rukminim1.flixcart.com/image/309/371/k0sgl8w0/jean/6/t/c/32-udjn0313-u-s-polo-assn-original-imafkgyvvfj7abrt.jpeg?q=50\n",
      "https://rukminim1.flixcart.com/image/309/371/k7ksvww0/jean/j/p/u/32-fmjno1119-flying-machine-original-imafpz4kjcc6hvna.jpeg?q=50\n",
      "https://rukminim1.flixcart.com/image/309/371/k4vmxzk0/jean/b/z/7/32-kjb-1411-slnkft-bl-killer-original-imafnmgjwn3n9fyu.jpeg?q=50\n",
      "https://rukminim1.flixcart.com/image/309/371/k5vcya80/jean/v/e/j/32-kmjnrl224-mcintyre-numero-uno-original-imafzey6qeheggbg.jpeg?q=50\n",
      "https://rukminim1.flixcart.com/image/309/371/k7nnrm80/jean/r/a/w/32-kjb-1413-dnft-bl-killer-original-imafptcnabhrxkpe.jpeg?q=50\n",
      "https://rukminim1.flixcart.com/image/309/371/jy7kyvk0/jean/b/c/g/32-w34982w22smu-wrangler-original-imafghztbc5s64hv.jpeg?q=50\n",
      "https://rukminim1.flixcart.com/image/309/371/k7ksvww0/jean/f/g/z/32-fmjno1078-flying-machine-original-imafpz5h5xymkpec.jpeg?q=50\n",
      "https://rukminim1.flixcart.com/image/309/371/k7m8brk0/jean/s/d/7/32-fmjn8542-flying-machine-original-imafpt5pgyzrehkc.jpeg?q=50\n",
      "https://rukminim1.flixcart.com/image/309/371/jmjhifk0/jean/k/w/h/32-l33117248147-lee-original-imaf9484tcheugfg.jpeg?q=50\n",
      "https://rukminim1.flixcart.com/image/309/371/jean/e/f/t/lj136-l-zard-37-original-imaezhhswcbzrdyq.jpeg?q=50\n",
      "https://rukminim1.flixcart.com/image/309/371/jhgl5e80/jean/h/v/f/40-lj090a-lzard-original-imaf5ah3wfxanavp.jpeg?q=50\n",
      "https://rukminim1.flixcart.com/image/309/371/k6pd7680/jean/y/h/t/32-pm202740q074-pepe-jeans-original-imafp3mchpvfvrzr.jpeg?q=50\n",
      "https://rukminim1.flixcart.com/image/309/371/k3xcdjk0/jean/c/r/u/32-fmjno0916-flying-machine-original-imafmwkdb2ff5hrc.jpeg?q=50\n",
      "https://rukminim1.flixcart.com/image/309/371/k5pn6vk0/jean/m/2/4/32-kjb-1409-dnft-gry-killer-original-imafz9xjgkhguknc.jpeg?q=50\n"
     ]
    }
   ],
   "source": [
    "urls= []\n",
    "for image in images:\n",
    "    source= image.get_attribute('src')\n",
    "    urls.append(source)\n",
    "    print(source)"
   ]
  },
  {
   "cell_type": "code",
   "execution_count": 21,
   "metadata": {
    "scrolled": false
   },
   "outputs": [
    {
     "name": "stdout",
     "output_type": "stream",
     "text": [
      "Downloading 1 of 40 images from page 3\n",
      "Downloading 2 of 40 images from page 3\n",
      "Downloading 3 of 40 images from page 3\n",
      "Downloading 4 of 40 images from page 3\n",
      "Downloading 5 of 40 images from page 3\n",
      "Downloading 6 of 40 images from page 3\n",
      "Downloading 7 of 40 images from page 3\n",
      "Downloading 8 of 40 images from page 3\n",
      "Downloading 9 of 40 images from page 3\n",
      "Downloading 10 of 40 images from page 3\n",
      "Downloading 11 of 40 images from page 3\n",
      "Downloading 12 of 40 images from page 3\n",
      "Downloading 13 of 40 images from page 3\n",
      "Downloading 14 of 40 images from page 3\n",
      "Downloading 15 of 40 images from page 3\n",
      "Downloading 16 of 40 images from page 3\n",
      "Downloading 17 of 40 images from page 3\n",
      "Downloading 18 of 40 images from page 3\n",
      "Downloading 19 of 40 images from page 3\n",
      "Downloading 20 of 40 images from page 3\n",
      "Downloading 21 of 40 images from page 3\n",
      "Downloading 22 of 40 images from page 3\n",
      "Downloading 23 of 40 images from page 3\n",
      "Downloading 24 of 40 images from page 3\n",
      "Downloading 25 of 40 images from page 3\n",
      "Downloading 26 of 40 images from page 3\n",
      "Downloading 27 of 40 images from page 3\n",
      "Downloading 28 of 40 images from page 3\n",
      "Downloading 29 of 40 images from page 3\n",
      "Downloading 30 of 40 images from page 3\n",
      "Downloading 31 of 40 images from page 3\n",
      "Downloading 32 of 40 images from page 3\n",
      "Downloading 33 of 40 images from page 3\n",
      "Downloading 34 of 40 images from page 3\n",
      "Downloading 35 of 40 images from page 3\n",
      "Downloading 36 of 40 images from page 3\n",
      "Downloading 37 of 40 images from page 3\n",
      "Downloading 38 of 40 images from page 3\n",
      "Downloading 39 of 40 images from page 3\n",
      "Downloading 40 of 40 images from page 3\n"
     ]
    }
   ],
   "source": [
    "# Changing for page 3\n",
    "page=3\n",
    "for index, link in enumerate(urls):\n",
    "    print(\"Downloading {0} of {1} images from page 3\".format(index+1, len(urls)))\n",
    "    response= requests.get(link)\n",
    "    with open('jeans/img_{0}{1}.jpeg'.format(index, page), \"wb\") as file:\n",
    "        file.write(response.content)"
   ]
  },
  {
   "cell_type": "code",
   "execution_count": 22,
   "metadata": {},
   "outputs": [],
   "source": [
    "# Now we find the 'Next' button using x_path and using selenium we click it\n",
    "next_page= driver.find_element_by_xpath(\"//a[@class='_3fVaIS']\").click()"
   ]
  },
  {
   "cell_type": "code",
   "execution_count": 23,
   "metadata": {},
   "outputs": [],
   "source": [
    "# Following the same steps from step 3 onwards.\n",
    "images= driver.find_elements_by_xpath(\"//img[@class='_3togXc']\")"
   ]
  },
  {
   "cell_type": "code",
   "execution_count": 24,
   "metadata": {},
   "outputs": [
    {
     "name": "stdout",
     "output_type": "stream",
     "text": [
      "https://rukminim1.flixcart.com/image/309/371/k6s82vk0/jean/h/j/v/32-fmjno1027-flying-machine-original-imafpyhmbuqhgahd.jpeg?q=50\n",
      "https://rukminim1.flixcart.com/image/309/371/k3xcdjk0/jean/k/k/f/32-kjb-1157-slnkft-bk-killer-original-imafmwabx9gmaafh.jpeg?q=50\n",
      "https://rukminim1.flixcart.com/image/309/371/k5vcya80/jean/w/s/g/36-pm202740g074-pepe-jeans-original-imafzd2h6egpwssw.jpeg?q=50\n",
      "https://rukminim1.flixcart.com/image/309/371/jxapua80/jean/4/m/t/36-sks19amcwjs8dd0650-skult-by-shahid-kapoor-original-imafhrmg9jyykmfz.jpeg?q=50\n",
      "https://rukminim1.flixcart.com/image/309/371/k4ss2a80/jean/e/w/d/32-w38507w22smu-wrangler-original-imafngzg3d6pbxsc.jpeg?q=50\n",
      "https://rukminim1.flixcart.com/image/309/371/k1tm1e80/jean/j/y/p/32-maw19jn197-metronaut-original-imafh8yyjhfxgwub.jpeg?q=50\n",
      "https://rukminim1.flixcart.com/image/309/371/k0zlsi80/jean/t/x/k/32-maw19jn134-metronaut-original-imafkmgssczgpjjz.jpeg?q=50\n",
      "https://rukminim1.flixcart.com/image/309/371/k5vcya80/jean/z/m/g/32-kmjnrl226-waters-numero-uno-original-imafzdxgrm4egzjq.jpeg?q=50\n",
      "https://rukminim1.flixcart.com/image/309/371/k70spzk0/jean/r/t/6/30-hljn000685-highlander-original-imafpchxtxu4qbfr.jpeg?q=50\n",
      "https://rukminim1.flixcart.com/image/309/371/k16qzrk0/jean/s/r/t/32-pm204291m812-pepe-jeans-original-imafktbsmqxf5rhv.jpeg?q=50\n",
      "https://rukminim1.flixcart.com/image/309/371/k5pn6vk0/jean/v/w/z/32-kjb-1417-dnft-ltbrwn-killer-original-imafz9xjqfaxenss.jpeg?q=50\n",
      "https://rukminim1.flixcart.com/image/309/371/k3vwxow0/jean/r/z/p/32-fmjno0852-flying-machine-original-imafmve59wjn3f7p.jpeg?q=50\n",
      "https://rukminim1.flixcart.com/image/309/371/j9eirgw0/jean/z/c/h/34-mj-dcut-02a-xee-original-imaez7ffge6rvy9e.jpeg?q=50\n",
      "https://rukminim1.flixcart.com/image/309/371/k0zlsi80/jean/h/t/u/32-pm204291z142-pepe-jeans-original-imafknddfraatprj.jpeg?q=50\n",
      "https://rukminim1.flixcart.com/image/309/371/k6jnfrk0/jean/z/p/r/32-fmjno1059-flying-machine-original-imafzydxtv3cbscd.jpeg?q=50\n",
      "https://rukminim1.flixcart.com/image/309/371/k4vmxzk0/jean/f/w/t/32-bss20d009-billion-original-imafnzy8q4ze3z5x.jpeg?q=50\n",
      "https://rukminim1.flixcart.com/image/309/371/k2urhjk0/jean/s/6/e/32-w38453w22smu-wrangler-original-imafhv9frtzyy48q.jpeg?q=50\n",
      "https://rukminim1.flixcart.com/image/309/371/k66sh3k0/jean/w/v/h/32-36087-0269-levi-s-original-imafzzw5hyrh3rym.jpeg?q=50\n",
      "https://rukminim1.flixcart.com/image/309/371/k7xnukw0/jean/s/c/c/32-kjb-1241-slnkft-bl-killer-original-imafq2fycyujzphg.jpeg?q=50\n",
      "https://rukminim1.flixcart.com/image/309/371/k16qzrk0/jean/m/7/c/32-pm204291z032-pepe-jeans-original-imafktbsxvnshbah.jpeg?q=50\n",
      "https://rukminim1.flixcart.com/image/309/371/jydaqa80/jean/g/z/h/38-epssprcrs-lblue-urbano-fashion-original-imafgmhbhhgnucwa.jpeg?q=50\n",
      "https://rukminim1.flixcart.com/image/309/371/kbs9k7k0/jean/j/6/n/34-dtss19jn014-ducati-original-imaft27g4g2hphvk.jpeg?q=50\n",
      "https://rukminim1.flixcart.com/image/309/371/k6gsk280/jean/a/z/9/32-w32502w2298b-wrangler-original-imafzt38mty3q8c5.jpeg?q=50\n",
      "https://rukminim1.flixcart.com/image/309/371/k0zlsi80/jean/n/b/u/32-pm204291z082-pepe-jeans-original-imafkndduchxyyny.jpeg?q=50\n",
      "https://rukminim1.flixcart.com/image/309/371/k6jnfrk0/jean/w/8/x/32-fmjno1026-flying-machine-original-imafzydymva5bhzb.jpeg?q=50\n",
      "https://rukminim1.flixcart.com/image/309/371/k55n0y80/jean/h/v/v/30-kjb-1239-dnft-bk-killer-original-imafn85rjgq4pzpp.jpeg?q=50\n",
      "https://rukminim1.flixcart.com/image/309/371/k0e66q80/jean/q/w/v/32-l36161248smu-lee-original-imafk7y5rfmhpgu2.jpeg?q=50\n",
      "https://rukminim1.flixcart.com/image/309/371/ka492fk0/jean/b/d/o/36-zip-jog-hps-black-urbano-fashion-original-imafrqg3nhcefzjt.jpeg?q=50\n",
      "https://rukminim1.flixcart.com/image/309/371/k7usyvk0/jean/y/w/n/32-w33233w2201z-wrangler-original-imafpzbgzchjchby.jpeg?q=50\n",
      "https://rukminim1.flixcart.com/image/309/371/k0zlsi80/jean/j/w/h/32-pm204291x622-pepe-jeans-original-imafkmc63zeaqxgs.jpeg?q=50\n",
      "https://rukminim1.flixcart.com/image/309/371/k6l2vm80/jean/c/q/s/32-kjb-1187-dnft-khk-killer-original-imafngv6jz9sw2wf.jpeg?q=50\n",
      "https://rukminim1.flixcart.com/image/309/371/k05ljm80/jean/x/n/a/32-18298-0697-levi-s-original-imafjvfzmdzgdmzv.jpeg?q=50\n",
      "https://rukminim1.flixcart.com/image/309/371/k2p1q4w0/jean/6/p/h/32-fmjno0903-flying-machine-original-imafhy2sqzp4nh9y.jpeg?q=50\n",
      "https://rukminim1.flixcart.com/image/309/371/k1118cw0/jean/b/g/w/32-pm204291v012-pepe-jeans-original-imafknddbww6bvpg.jpeg?q=50\n",
      "https://rukminim1.flixcart.com/image/309/371/k1tm1e80/jean/n/g/g/32-maw19jn192-metronaut-original-imafh8yygptxhsvz.jpeg?q=50\n",
      "https://rukminim1.flixcart.com/image/309/371/k55n0y80/jean/j/k/p/36-pudnuskpd16210-peter-england-university-original-imafnwa6ygzfahbs.jpeg?q=50\n",
      "https://rukminim1.flixcart.com/image/309/371/k612pow0/jean/a/g/w/42-4-killer-original-imafmzfaszkrhb7s.jpeg?q=50\n",
      "https://rukminim1.flixcart.com/image/309/371/jynat8w0/jean/f/7/6/32-mss19jn037b-metronaut-original-imafgmhn6hhnqnue.jpeg?q=50\n",
      "https://rukminim1.flixcart.com/image/309/371/jtn9bww0/jean/f/b/9/32-18298-0570-levi-s-original-imafeyhbgaqrvzrx.jpeg?q=50\n",
      "https://rukminim1.flixcart.com/image/309/371/k0zlsi80/jean/x/c/u/32-pm204291w712-pepe-jeans-original-imafkndcygy5btbc.jpeg?q=50\n"
     ]
    }
   ],
   "source": [
    "urls= []\n",
    "for image in images:\n",
    "    source= image.get_attribute('src')\n",
    "    urls.append(source)\n",
    "    print(source)"
   ]
  },
  {
   "cell_type": "code",
   "execution_count": 26,
   "metadata": {},
   "outputs": [
    {
     "name": "stdout",
     "output_type": "stream",
     "text": [
      "Downloading 1 of 40 images from page 4\n",
      "Downloading 2 of 40 images from page 4\n",
      "Downloading 3 of 40 images from page 4\n",
      "Downloading 4 of 40 images from page 4\n",
      "Downloading 5 of 40 images from page 4\n",
      "Downloading 6 of 40 images from page 4\n",
      "Downloading 7 of 40 images from page 4\n",
      "Downloading 8 of 40 images from page 4\n",
      "Downloading 9 of 40 images from page 4\n",
      "Downloading 10 of 40 images from page 4\n",
      "Downloading 11 of 40 images from page 4\n",
      "Downloading 12 of 40 images from page 4\n",
      "Downloading 13 of 40 images from page 4\n",
      "Downloading 14 of 40 images from page 4\n",
      "Downloading 15 of 40 images from page 4\n",
      "Downloading 16 of 40 images from page 4\n",
      "Downloading 17 of 40 images from page 4\n",
      "Downloading 18 of 40 images from page 4\n",
      "Downloading 19 of 40 images from page 4\n",
      "Downloading 20 of 40 images from page 4\n",
      "Downloading 21 of 40 images from page 4\n",
      "Downloading 22 of 40 images from page 4\n",
      "Downloading 23 of 40 images from page 4\n",
      "Downloading 24 of 40 images from page 4\n",
      "Downloading 25 of 40 images from page 4\n",
      "Downloading 26 of 40 images from page 4\n",
      "Downloading 27 of 40 images from page 4\n",
      "Downloading 28 of 40 images from page 4\n",
      "Downloading 29 of 40 images from page 4\n",
      "Downloading 30 of 40 images from page 4\n",
      "Downloading 31 of 40 images from page 4\n",
      "Downloading 32 of 40 images from page 4\n",
      "Downloading 33 of 40 images from page 4\n",
      "Downloading 34 of 40 images from page 4\n",
      "Downloading 35 of 40 images from page 4\n",
      "Downloading 36 of 40 images from page 4\n",
      "Downloading 37 of 40 images from page 4\n",
      "Downloading 38 of 40 images from page 4\n",
      "Downloading 39 of 40 images from page 4\n",
      "Downloading 40 of 40 images from page 4\n"
     ]
    }
   ],
   "source": [
    "# Changing for page 4\n",
    "page=4\n",
    "for index, link in enumerate(urls):\n",
    "    print(\"Downloading {0} of {1} images from page 4\".format(index+1, len(urls)))\n",
    "    response= requests.get(link)\n",
    "    with open('jeans/img_{0}{1}.jpeg'.format(index, page), \"wb\") as file:\n",
    "        file.write(response.content)"
   ]
  },
  {
   "cell_type": "code",
   "execution_count": 27,
   "metadata": {},
   "outputs": [],
   "source": [
    "# Now we find the 'Next' button using x_path and using selenium we click it\n",
    "next_page= driver.find_element_by_xpath(\"//a[@class='_3fVaIS']\").click()"
   ]
  },
  {
   "cell_type": "code",
   "execution_count": 28,
   "metadata": {},
   "outputs": [],
   "source": [
    "# Following the same steps from step 3 onwards.\n",
    "images= driver.find_elements_by_xpath(\"//img[@class='_3togXc']\")"
   ]
  },
  {
   "cell_type": "code",
   "execution_count": 29,
   "metadata": {},
   "outputs": [
    {
     "name": "stdout",
     "output_type": "stream",
     "text": [
      "https://rukminim1.flixcart.com/image/309/371/jrjizrk0/jean/d/p/4/32-fmjn9620-flying-machine-original-imafdahm2tazep4g.jpeg?q=50\n",
      "https://rukminim1.flixcart.com/image/309/371/k0h12fk0/jean/y/y/p/32-w32672w2220x-wrangler-20x-original-imafk7hygj5j5sfn.jpeg?q=50\n",
      "https://rukminim1.flixcart.com/image/309/371/k55n0y80/jean/q/2/z/30-pudnuskps23065-peter-england-university-original-imafnwa62veghh7n.jpeg?q=50\n",
      "https://rukminim1.flixcart.com/image/309/371/jxapua80/jean/4/m/t/36-sks19amcwjs8dd0650-skult-by-shahid-kapoor-original-imafhrmg9jyykmfz.jpeg?q=50\n",
      "https://rukminim1.flixcart.com/image/309/371/k12go7k0/jean/q/4/d/32-kjb-1215-dnft-brw-killer-original-imafkzvtrmxapdrw.jpeg?q=50\n",
      "https://rukminim1.flixcart.com/image/309/371/k7p37gw0/jean/a/n/r/32-fmjno1148-flying-machine-original-imafpnuqzjvze2kr.jpeg?q=50\n",
      "https://rukminim1.flixcart.com/image/309/371/k7xnukw0/jean/k/z/f/32-kjb-1246-slnkft-bl-killer-original-imafq2fy5rfx2aja.jpeg?q=50\n",
      "https://rukminim1.flixcart.com/image/309/371/k4vmxzk0/jean/p/g/y/32-bss20d007-billion-original-imafnzy7azps8pbj.jpeg?q=50\n",
      "https://rukminim1.flixcart.com/image/309/371/jrgo4280/jean/z/4/f/34-ss119jn-elastp-m-pln-dbu-campus-sutra-original-imafd82rdgryhzer.jpeg?q=50\n",
      "https://rukminim1.flixcart.com/image/309/371/k16qzrk0/jean/s/r/t/32-pm204291m812-pepe-jeans-original-imafktbsmqxf5rhv.jpeg?q=50\n",
      "https://rukminim1.flixcart.com/image/309/371/k20r8nk0/jean/3/f/v/32-w37004w22smu-wrangler-original-imafhc9f4nnhpyav.jpeg?q=50\n",
      "https://rukminim1.flixcart.com/image/309/371/k4vmxzk0/jean/f/z/z/32-bss20d016-billion-original-imafnzy7vcckwybv.jpeg?q=50\n",
      "https://rukminim1.flixcart.com/image/309/371/k7ksvww0/jean/t/f/u/32-fmjno1080-flying-machine-original-imafpnwqhdwv7w2w.jpeg?q=50\n",
      "https://rukminim1.flixcart.com/image/309/371/k0zlsi80/jean/h/t/u/32-pm204291z142-pepe-jeans-original-imafknddfraatprj.jpeg?q=50\n",
      "https://rukminim1.flixcart.com/image/309/371/jsm3vrk0/jean/y/c/e/32-18298-0526-levi-s-original-imafe5g6wxka7693.jpeg?q=50\n",
      "https://rukminim1.flixcart.com/image/309/371/k70spzk0/jean/j/m/2/30-hljn000882-highlander-original-imafpchpjyjzhtqp.jpeg?q=50\n",
      "https://rukminim1.flixcart.com/image/309/371/k29bvrk0/jean/g/b/9/32-65504-0470-levi-s-original-imafhh74veh9gzr2.jpeg?q=50\n",
      "https://rukminim1.flixcart.com/image/309/371/k12go7k0/jean/z/v/b/32-maw19jn094-metronaut-original-imafkqcrpwhampwp.jpeg?q=50\n",
      "https://rukminim1.flixcart.com/image/309/371/k0e66q80/jean/w/n/p/32-kmjnra104-baddon-numero-uno-original-imafk6x2ftmrgtk2.jpeg?q=50\n",
      "https://rukminim1.flixcart.com/image/309/371/k16qzrk0/jean/m/7/c/32-pm204291z032-pepe-jeans-original-imafktbsxvnshbah.jpeg?q=50\n",
      "https://rukminim1.flixcart.com/image/309/371/jean/z/f/d/bmw-27blk-ben-martin-42-original-imaeca7zpgqekefc.jpeg?q=50\n",
      "https://rukminim1.flixcart.com/image/309/371/kbfeljk0/jean/k/x/a/34-2200870056dn-2-monte-carlo-original-imafsrzgetcbzugy.jpeg?q=50\n",
      "https://rukminim1.flixcart.com/image/309/371/k5vcya80/jean/g/r/y/32-kmjnru272-paul-re-numero-uno-original-imafzey6pfcy55zm.jpeg?q=50\n",
      "https://rukminim1.flixcart.com/image/309/371/k0zlsi80/jean/n/b/u/32-pm204291z082-pepe-jeans-original-imafkndduchxyyny.jpeg?q=50\n",
      "https://rukminim1.flixcart.com/image/309/371/k7z3afk0/jean/m/r/r/32-2200872492dn-1-monte-carlo-original-imafq2mgchdupaga.jpeg?q=50\n",
      "https://rukminim1.flixcart.com/image/309/371/k4irzbk0/jean/t/d/e/32-19a4l2rs5207i-901-united-colors-of-benetton-original-imafnf2yu6p6yau6.jpeg?q=50\n",
      "https://rukminim1.flixcart.com/image/309/371/k7usyvk0/jean/n/z/j/32-fmjno1152-flying-machine-original-imafpzy9re5zcsv7.jpeg?q=50\n",
      "https://rukminim1.flixcart.com/image/309/371/k3yrte80/jean/f/h/y/32-kjb-1222-dnft-bl-killer-original-imafmwacc9xhhprm.jpeg?q=50\n",
      "https://rukminim1.flixcart.com/image/309/371/k5h2jrk0/jean/f/n/w/32-kjb-1406-dnft-ptrl-killer-original-imafz57ujdvhtyhr.jpeg?q=50\n",
      "https://rukminim1.flixcart.com/image/309/371/k0zlsi80/jean/j/w/h/32-pm204291x622-pepe-jeans-original-imafkmc63zeaqxgs.jpeg?q=50\n",
      "https://rukminim1.flixcart.com/image/309/371/k4vmxzk0/jean/4/t/t/32-bss20d010-billion-original-imafnzy7gdwtnpyq.jpeg?q=50\n",
      "https://rukminim1.flixcart.com/image/309/371/jw2f6vk0/jean/y/n/7/32-mft-22353-h-61-blue-dark-mufti-original-imafgtzstkbertgt.jpeg?q=50\n",
      "https://rukminim1.flixcart.com/image/309/371/k0plpjk0/jean/q/z/e/32-47752-0101-denizen-original-imafketdtgdpyg5b.jpeg?q=50\n",
      "https://rukminim1.flixcart.com/image/309/371/k1118cw0/jean/b/g/w/32-pm204291v012-pepe-jeans-original-imafknddbww6bvpg.jpeg?q=50\n",
      "https://rukminim1.flixcart.com/image/309/371/k3yrte80/jean/s/g/r/32-kjb-1161-slnkft-lghtbl-killer-original-imafmzyb4rsjsjjf.jpeg?q=50\n",
      "https://rukminim1.flixcart.com/image/309/371/k7usyvk0/jean/d/h/7/32-fmjno1136-flying-machine-original-imafpzy58wjpzvxn.jpeg?q=50\n",
      "https://rukminim1.flixcart.com/image/309/371/k7ksvww0/jean/n/q/h/32-fmjno1077-flying-machine-original-imafpnx8zxuqswbr.jpeg?q=50\n",
      "https://rukminim1.flixcart.com/image/309/371/k12go7k0/jean/5/v/6/32-maw19jn172-metronaut-original-imafkq3wp9tswyqd.jpeg?q=50\n",
      "https://rukminim1.flixcart.com/image/309/371/jhavdzk0/jean/k/g/m/38-jog-iceblue-urbano-fashion-original-imaf5bzbhcgbqfub.jpeg?q=50\n",
      "https://rukminim1.flixcart.com/image/309/371/k0zlsi80/jean/x/c/u/32-pm204291w712-pepe-jeans-original-imafkndcygy5btbc.jpeg?q=50\n"
     ]
    }
   ],
   "source": [
    "urls= []\n",
    "for image in images:\n",
    "    source= image.get_attribute('src')\n",
    "    urls.append(source)\n",
    "    print(source)"
   ]
  },
  {
   "cell_type": "code",
   "execution_count": 31,
   "metadata": {},
   "outputs": [
    {
     "name": "stdout",
     "output_type": "stream",
     "text": [
      "Downloading 1 of 40 images from page 5\n",
      "Downloading 2 of 40 images from page 5\n",
      "Downloading 3 of 40 images from page 5\n",
      "Downloading 4 of 40 images from page 5\n",
      "Downloading 5 of 40 images from page 5\n",
      "Downloading 6 of 40 images from page 5\n",
      "Downloading 7 of 40 images from page 5\n",
      "Downloading 8 of 40 images from page 5\n",
      "Downloading 9 of 40 images from page 5\n",
      "Downloading 10 of 40 images from page 5\n",
      "Downloading 11 of 40 images from page 5\n",
      "Downloading 12 of 40 images from page 5\n",
      "Downloading 13 of 40 images from page 5\n",
      "Downloading 14 of 40 images from page 5\n",
      "Downloading 15 of 40 images from page 5\n",
      "Downloading 16 of 40 images from page 5\n",
      "Downloading 17 of 40 images from page 5\n",
      "Downloading 18 of 40 images from page 5\n",
      "Downloading 19 of 40 images from page 5\n",
      "Downloading 20 of 40 images from page 5\n",
      "Downloading 21 of 40 images from page 5\n",
      "Downloading 22 of 40 images from page 5\n",
      "Downloading 23 of 40 images from page 5\n",
      "Downloading 24 of 40 images from page 5\n",
      "Downloading 25 of 40 images from page 5\n",
      "Downloading 26 of 40 images from page 5\n",
      "Downloading 27 of 40 images from page 5\n",
      "Downloading 28 of 40 images from page 5\n",
      "Downloading 29 of 40 images from page 5\n",
      "Downloading 30 of 40 images from page 5\n",
      "Downloading 31 of 40 images from page 5\n",
      "Downloading 32 of 40 images from page 5\n",
      "Downloading 33 of 40 images from page 5\n",
      "Downloading 34 of 40 images from page 5\n",
      "Downloading 35 of 40 images from page 5\n",
      "Downloading 36 of 40 images from page 5\n",
      "Downloading 37 of 40 images from page 5\n",
      "Downloading 38 of 40 images from page 5\n",
      "Downloading 39 of 40 images from page 5\n",
      "Downloading 40 of 40 images from page 5\n"
     ]
    }
   ],
   "source": [
    "# Changing for page 5\n",
    "page=5\n",
    "for index, link in enumerate(urls):\n",
    "    print(\"Downloading {0} of {1} images from page 5\".format(index+1, len(urls)))\n",
    "    response= requests.get(link)\n",
    "    with open('jeans/img_{0}{1}.jpeg'.format(index, page), \"wb\") as file:\n",
    "        file.write(response.content)"
   ]
  }
 ],
 "metadata": {
  "kernelspec": {
   "display_name": "Python 3",
   "language": "python",
   "name": "python3"
  },
  "language_info": {
   "codemirror_mode": {
    "name": "ipython",
    "version": 3
   },
   "file_extension": ".py",
   "mimetype": "text/x-python",
   "name": "python",
   "nbconvert_exporter": "python",
   "pygments_lexer": "ipython3",
   "version": "3.7.6"
  }
 },
 "nbformat": 4,
 "nbformat_minor": 4
}
