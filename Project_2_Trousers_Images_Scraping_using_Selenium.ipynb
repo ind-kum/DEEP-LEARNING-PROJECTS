{
 "cells": [
  {
   "cell_type": "markdown",
   "metadata": {},
   "source": [
    "# Scraping images from flipkart"
   ]
  },
  {
   "cell_type": "markdown",
   "metadata": {},
   "source": [
    "Step 1: import the libraries and get the URL of the webpage"
   ]
  },
  {
   "cell_type": "code",
   "execution_count": 1,
   "metadata": {},
   "outputs": [],
   "source": [
    "from selenium import webdriver\n",
    "import os"
   ]
  },
  {
   "cell_type": "code",
   "execution_count": 3,
   "metadata": {},
   "outputs": [],
   "source": [
    "driver= webdriver.Chrome('E:\\\\chrome_driver\\\\chromedriver.exe')"
   ]
  },
  {
   "cell_type": "code",
   "execution_count": 4,
   "metadata": {},
   "outputs": [],
   "source": [
    "my_page= driver.get('https://www.flipkart.com/clothing-and-accessories/bottomwear/trouser/men-trouser/pr?sid=clo%2Cvua%2Cmle%2Clhk&otracker=categorytree&p%5B%5D=facets.occasion%255B%255D%3DFormal&otracker=nmenu_sub_Men_0_Formal%20Trousers')"
   ]
  },
  {
   "cell_type": "markdown",
   "metadata": {},
   "source": [
    "Step 2: Making the directory to store images"
   ]
  },
  {
   "cell_type": "code",
   "execution_count": 5,
   "metadata": {},
   "outputs": [],
   "source": [
    "# Optional step\n",
    "def make_directory(dirname):\n",
    "    current_path= os.getcwd()\n",
    "    path= os.path.join(current_path, dirname)\n",
    "    if not os.path.exists(path):\n",
    "        os.makedirs(path)"
   ]
  },
  {
   "cell_type": "code",
   "execution_count": 6,
   "metadata": {},
   "outputs": [],
   "source": [
    "make_directory(\"trousers\")"
   ]
  },
  {
   "cell_type": "markdown",
   "metadata": {},
   "source": [
    "Step 3: Scraping URLs of images"
   ]
  },
  {
   "cell_type": "code",
   "execution_count": 7,
   "metadata": {},
   "outputs": [],
   "source": [
    "images= driver.find_elements_by_xpath(\"//img[@class='_3togXc']\")"
   ]
  },
  {
   "cell_type": "code",
   "execution_count": 8,
   "metadata": {},
   "outputs": [
    {
     "name": "stdout",
     "output_type": "stream",
     "text": [
      "40\n"
     ]
    }
   ],
   "source": [
    "print(len(images))"
   ]
  },
  {
   "cell_type": "code",
   "execution_count": 9,
   "metadata": {},
   "outputs": [
    {
     "data": {
      "text/plain": [
       "<selenium.webdriver.remote.webelement.WebElement (session=\"6568f0da665dd16fa1d9122f9efd74cd\", element=\"0809b08e-abbf-41ea-803a-fac66e66beb0\")>"
      ]
     },
     "execution_count": 9,
     "metadata": {},
     "output_type": "execute_result"
    }
   ],
   "source": [
    "images[0]"
   ]
  },
  {
   "cell_type": "code",
   "execution_count": 10,
   "metadata": {},
   "outputs": [
    {
     "name": "stdout",
     "output_type": "stream",
     "text": [
      "https://rukminim1.flixcart.com/image/309/371/jwtkk280/trouser/b/r/h/42-rmts02827-k7-raymond-original-imafhf96fk8jrzen.jpeg?q=50\n",
      "https://rukminim1.flixcart.com/image/309/371/kb6tyfk0/trouser/9/6/2/38-setof3-baleno-blak-cream-sgrey-aa-ad-av-original-imafshnmjgzaq3tm.jpeg?q=50\n",
      "https://rukminim1.flixcart.com/image/309/371/jvwpfgw0/trouser/e/w/k/30-t-130-trouser-baleno-black-aa-ad-av-original-imafgm8ytr4c7yez.jpeg?q=50\n",
      "https://rukminim1.flixcart.com/image/309/371/kazor680/trouser/q/r/c/34-packof2-baleno-green-sgrey-aa-ad-av-original-imafsgynkdvkfga4.jpeg?q=50\n",
      "https://rukminim1.flixcart.com/image/309/371/k7gikcw0/trouser/z/g/b/38-new-combo-classio-fashion-original-imafpzz8yjgxckfg.jpeg?q=50\n",
      "https://rukminim1.flixcart.com/image/309/371/k7z3afk0/trouser/y/y/u/32-afyotr0092-arrow-original-imafq2qukbzjkzbq.jpeg?q=50\n",
      "https://rukminim1.flixcart.com/image/309/371/jxf05u80/trouser/3/k/w/40-combo-trouser-baleno-blackand-coffi-aa-ad-av-original-imafhuqytz4bfyzf.jpeg?q=50\n",
      "https://rukminim1.flixcart.com/image/309/371/k4324y80/trouser/2/h/k/32-rmts03269-b6-raymond-original-imafnfbtkb8fbkrv.jpeg?q=50\n",
      "https://rukminim1.flixcart.com/image/309/371/k2z1t3k0/trouser/f/t/s/34-rmts03535-f2-raymond-original-imafm7gmfdduxcs5.jpeg?q=50\n",
      "https://rukminim1.flixcart.com/image/309/371/k7z3afk0/trouser/3/5/h/32-afyotr0102-arrow-original-imafq2syfhegdmdb.jpeg?q=50\n",
      "https://rukminim1.flixcart.com/image/309/371/k37mg7k0/trouser/p/g/e/32-rmts03269-g4-raymond-original-imafmds9aywtcgka.jpeg?q=50\n",
      "https://rukminim1.flixcart.com/image/309/371/trouser/r/6/a/40-blackbelano-aa-ad-av-original-imaeqbhmgqwphbqb.jpeg?q=50\n",
      "https://rukminim1.flixcart.com/image/309/371/k1tm1e80/trouser/v/g/9/32-aw19ftr002e-metronaut-original-imafh8zh62axqswg.jpeg?q=50\n",
      "https://rukminim1.flixcart.com/image/309/371/k3erngw0/trouser/f/c/s/30-rmts03541-b8-raymond-original-imafmjd6ujjzyxbz.jpeg?q=50\n",
      "https://rukminim1.flixcart.com/image/309/371/k5e7o280/trouser/z/q/b/32-rmts03635-o6-raymond-original-imafz3yxzqhgbwpp.jpeg?q=50\n",
      "https://rukminim1.flixcart.com/image/309/371/k572gsw0/trouser/y/g/m/32-rmts03554-o8-raymond-original-imafnzmyg3qmn2kp.jpeg?q=50\n",
      "https://rukminim1.flixcart.com/image/309/371/k5pn6vk0/trouser/z/x/z/32-rmts03567-g6-raymond-original-imafzax6zsgztrp9.jpeg?q=50\n",
      "https://rukminim1.flixcart.com/image/309/371/k5h2jrk0/trouser/y/r/n/32-afyotr0085-arrow-original-imafz4p44frgyprm.jpeg?q=50\n",
      "https://rukminim1.flixcart.com/image/309/371/k79dd3k0/trouser/f/b/w/34-petfmnsp959289-peter-england-original-imafpjkajnmq79uk.jpeg?q=50\n",
      "https://rukminim1.flixcart.com/image/309/371/k5pn6vk0/trouser/m/r/z/32-rmts03559-b6-raymond-original-imafzax7mtjr8xdj.jpeg?q=50\n",
      "https://rukminim1.flixcart.com/image/309/371/k2z1t3k0/trouser/3/j/t/44-rmts02830-g8-raymond-original-imafm7b2acznfvwe.jpeg?q=50\n",
      "https://rukminim1.flixcart.com/image/309/371/k44hksw0/trouser/a/w/h/32-rmts03535-g6-raymond-original-imafnfbtjdhafpgh.jpeg?q=50\n",
      "https://rukminim1.flixcart.com/image/309/371/k5e7o280/trouser/z/4/f/36-rmts03622-g6-raymond-original-imafz3yxfraq7hwa.jpeg?q=50\n",
      "https://rukminim1.flixcart.com/image/309/371/k5e7o280/trouser/f/h/h/32-rmts03629-g6-raymond-original-imafz2qpu8gkgprh.jpeg?q=50\n",
      "https://rukminim1.flixcart.com/image/309/371/jwaztzk0/trouser/t/w/c/40-t-127-trouser-baleno-cream-aa-ad-av-original-imafhyt5ane2grs5.jpeg?q=50\n",
      "https://rukminim1.flixcart.com/image/309/371/k251k7k0/trouser/c/z/9/32-rmts03535-g9-raymond-original-imafhh3gw8frrhrr.jpeg?q=50\n",
      "https://rukminim1.flixcart.com/image/309/371/k4324y80/trouser/f/7/3/32-rmts03275-b6-raymond-original-imafnyrffcswfyky.jpeg?q=50\n",
      "https://rukminim1.flixcart.com/image/309/371/k79dd3k0/trouser/9/z/f/30-petfmnspg72520-peter-england-original-imafpjkadratxahw.jpeg?q=50\n",
      "https://rukminim1.flixcart.com/image/309/371/kb1470w0/trouser/g/p/z/44-t352-trouser-baleno-nevy-aa-ad-av-original-imafsh3qewdxvy69.jpeg?q=50\n",
      "https://rukminim1.flixcart.com/image/309/371/k5pn6vk0/trouser/4/z/g/30-rmts03555-b8-raymond-original-imafzbw5afxrf5yg.jpeg?q=50\n",
      "https://rukminim1.flixcart.com/image/309/371/k5e7o280/trouser/z/y/z/32-rmts03640-k6-raymond-original-imafzfhumytn5yhx.jpeg?q=50\n",
      "https://rukminim1.flixcart.com/image/309/371/jza5uvk0/trouser/t/j/c/32-lytfmctbu74230-louis-philippe-ath-work-original-imafjbzsbsg39n2n.jpeg?q=50\n",
      "https://rukminim1.flixcart.com/image/309/371/k7ksvww0/trouser/y/u/h/32-afyotr0011-arrow-original-imafpzgrpnybumtv.jpeg?q=50\n",
      "https://rukminim1.flixcart.com/image/309/371/k5e7o280/trouser/z/k/p/36-rmts03548-k9-raymond-original-imafz3yw4zu7hgbg.jpeg?q=50\n",
      "https://rukminim1.flixcart.com/image/309/371/k66sh3k0/trouser/j/g/n/32-afyotr0051-arrow-original-imafzzvhnxswhtwh.jpeg?q=50\n",
      "https://rukminim1.flixcart.com/image/309/371/k1tm1e80/trouser/y/3/9/32-aw19ftr001a-metronaut-original-imafh8zhfdd6zpwy.jpeg?q=50\n",
      "https://rukminim1.flixcart.com/image/309/371/k55n0y80/trouser/x/k/e/32-rmts03546-o7-raymond-original-imafnmkhhuzxd2rh.jpeg?q=50\n",
      "https://rukminim1.flixcart.com/image/309/371/jxnksy80/trouser/u/d/w/38-combo-trouser-baleno-black-and-cream-bb-ad-av-original-imafgy9h8wabdg6j.jpeg?q=50\n",
      "https://rukminim1.flixcart.com/image/309/371/kazor680/trouser/n/w/y/34-combo-baleno-ad-av-original-imafsfvxh5fgxruy.jpeg?q=50\n",
      "https://rukminim1.flixcart.com/image/309/371/jxjahe80/trouser/w/y/u/44-rmts02827-g7-raymond-original-imafhwe5bcwjwvay.jpeg?q=50\n"
     ]
    }
   ],
   "source": [
    "urls= []\n",
    "for image in images:\n",
    "    source= image.get_attribute('src')\n",
    "    urls.append(source)\n",
    "    print(source)"
   ]
  },
  {
   "cell_type": "code",
   "execution_count": 11,
   "metadata": {},
   "outputs": [
    {
     "data": {
      "text/plain": [
       "40"
      ]
     },
     "execution_count": 11,
     "metadata": {},
     "output_type": "execute_result"
    }
   ],
   "source": [
    "len(urls)"
   ]
  },
  {
   "cell_type": "markdown",
   "metadata": {},
   "source": [
    "Step 4: Using the URLs to download images"
   ]
  },
  {
   "cell_type": "code",
   "execution_count": 12,
   "metadata": {},
   "outputs": [],
   "source": [
    "import shutil\n",
    "import requests"
   ]
  },
  {
   "cell_type": "code",
   "execution_count": 13,
   "metadata": {},
   "outputs": [
    {
     "name": "stdout",
     "output_type": "stream",
     "text": [
      "Downloading 1 of 40 images from page 1\n",
      "Downloading 2 of 40 images from page 1\n",
      "Downloading 3 of 40 images from page 1\n",
      "Downloading 4 of 40 images from page 1\n",
      "Downloading 5 of 40 images from page 1\n",
      "Downloading 6 of 40 images from page 1\n",
      "Downloading 7 of 40 images from page 1\n",
      "Downloading 8 of 40 images from page 1\n",
      "Downloading 9 of 40 images from page 1\n",
      "Downloading 10 of 40 images from page 1\n",
      "Downloading 11 of 40 images from page 1\n",
      "Downloading 12 of 40 images from page 1\n",
      "Downloading 13 of 40 images from page 1\n",
      "Downloading 14 of 40 images from page 1\n",
      "Downloading 15 of 40 images from page 1\n",
      "Downloading 16 of 40 images from page 1\n",
      "Downloading 17 of 40 images from page 1\n",
      "Downloading 18 of 40 images from page 1\n",
      "Downloading 19 of 40 images from page 1\n",
      "Downloading 20 of 40 images from page 1\n",
      "Downloading 21 of 40 images from page 1\n",
      "Downloading 22 of 40 images from page 1\n",
      "Downloading 23 of 40 images from page 1\n",
      "Downloading 24 of 40 images from page 1\n",
      "Downloading 25 of 40 images from page 1\n",
      "Downloading 26 of 40 images from page 1\n",
      "Downloading 27 of 40 images from page 1\n",
      "Downloading 28 of 40 images from page 1\n",
      "Downloading 29 of 40 images from page 1\n",
      "Downloading 30 of 40 images from page 1\n",
      "Downloading 31 of 40 images from page 1\n",
      "Downloading 32 of 40 images from page 1\n",
      "Downloading 33 of 40 images from page 1\n",
      "Downloading 34 of 40 images from page 1\n",
      "Downloading 35 of 40 images from page 1\n",
      "Downloading 36 of 40 images from page 1\n",
      "Downloading 37 of 40 images from page 1\n",
      "Downloading 38 of 40 images from page 1\n",
      "Downloading 39 of 40 images from page 1\n",
      "Downloading 40 of 40 images from page 1\n"
     ]
    }
   ],
   "source": [
    "page=1\n",
    "for index, link in enumerate(urls):\n",
    "    print(\"Downloading {0} of {1} images from page 1\".format(index+1, len(urls)))\n",
    "    response= requests.get(link)\n",
    "    with open('trousers/img_{0}{1}.jpeg'.format(index, page), \"wb\") as file:\n",
    "        file.write(response.content)"
   ]
  },
  {
   "cell_type": "markdown",
   "metadata": {},
   "source": [
    "Step 5: Moving to the next page"
   ]
  },
  {
   "cell_type": "code",
   "execution_count": 14,
   "metadata": {},
   "outputs": [],
   "source": [
    "# Now we find the 'Next' button using x_path and using selenium we click it\n",
    "next_page= driver.find_element_by_xpath(\"//a[@class='_3fVaIS']\").click()"
   ]
  },
  {
   "cell_type": "code",
   "execution_count": 15,
   "metadata": {},
   "outputs": [],
   "source": [
    "# Following the same steps from step 3 onwards.\n",
    "images= driver.find_elements_by_xpath(\"//img[@class='_3togXc']\")"
   ]
  },
  {
   "cell_type": "code",
   "execution_count": 16,
   "metadata": {},
   "outputs": [
    {
     "name": "stdout",
     "output_type": "stream",
     "text": [
      "https://rukminim1.flixcart.com/image/309/371/jwaztzk0/trouser/8/j/y/34-t-129-trouser-baleno-coffi-aa-ad-av-original-imafgm8qarxbgnjy.jpeg?q=50\n",
      "https://rukminim1.flixcart.com/image/309/371/k6jnfrk0/trouser/f/6/v/32-petfmnsp559465-peter-england-original-imafzzkfgn2fgz5h.jpeg?q=50\n",
      "https://rukminim1.flixcart.com/image/309/371/k5y7tzk0/trouser/n/7/6/32-afyotr0053-arrow-original-imafzhyjjqsyfh49.jpeg?q=50\n",
      "https://rukminim1.flixcart.com/image/309/371/k5e7o280/trouser/u/d/j/32-rmts03630-o6-raymond-original-imafz3ybembspbr8.jpeg?q=50\n",
      "https://rukminim1.flixcart.com/image/309/371/k5e7o280/trouser/s/d/d/34-rmts03629-o3-raymond-original-imafz3yxyqpenbmx.jpeg?q=50\n",
      "https://rukminim1.flixcart.com/image/309/371/k6l2vm80/trouser/y/s/v/32-petfmnspu99871-peter-england-original-imafnguh8k3p8syz.jpeg?q=50\n",
      "https://rukminim1.flixcart.com/image/309/371/kb2jmvk0/trouser/r/z/q/32-packof2-baleno-green-coffi-aa-ad-av-original-imafsg27kryrhzu9.jpeg?q=50\n",
      "https://rukminim1.flixcart.com/image/309/371/k7w8eq80/trouser/q/q/u/32-afyotr0109-arrow-original-imafqyzarp4ghqum.jpeg?q=50\n",
      "https://rukminim1.flixcart.com/image/309/371/k5cs87k0/trouser/f/9/s/38-petfmnspl48235-peter-england-original-imafz26mvmfww2hh.jpeg?q=50\n",
      "https://rukminim1.flixcart.com/image/309/371/k5e7o280/trouser/y/a/t/32-rmts03629-f2-raymond-original-imafzfmyvh9kbjqh.jpeg?q=50\n",
      "https://rukminim1.flixcart.com/image/309/371/k79dd3k0/trouser/z/w/r/36-petfmsspd42334-peter-england-original-imafpjk93xyhnvhw.jpeg?q=50\n",
      "https://rukminim1.flixcart.com/image/309/371/k33c4nk0/trouser/3/z/f/32-uftr0327-u-s-polo-association-original-imafm7bd4whsgecf.jpeg?q=50\n",
      "https://rukminim1.flixcart.com/image/309/371/k4vmxzk0/trouser/u/z/n/32-rmts03551-b8-raymond-original-imafnmkhgfkkqguc.jpeg?q=50\n",
      "https://rukminim1.flixcart.com/image/309/371/k55n0y80/trouser/x/k/e/32-rmts03546-o7-raymond-original-imafnmkhhuzxd2rh.jpeg?q=50\n",
      "https://rukminim1.flixcart.com/image/309/371/k7285u80/trouser/k/r/j/32-mss20ftr009b-metronaut-original-imafpdyamwupkehj.jpeg?q=50\n",
      "https://rukminim1.flixcart.com/image/309/371/k7ksvww0/trouser/j/n/a/32-afyotr0104-arrow-original-imafpzg9gxjk6cgv.jpeg?q=50\n",
      "https://rukminim1.flixcart.com/image/309/371/k4324y80/trouser/9/5/m/32-rmts02865-k8-raymond-original-imafnyrfqetqvdhn.jpeg?q=50\n",
      "https://rukminim1.flixcart.com/image/309/371/k5h2jrk0/trouser/7/y/2/32-afyotr0002-arrow-original-imafz4qgthghdngm.jpeg?q=50\n",
      "https://rukminim1.flixcart.com/image/309/371/k5h2jrk0/trouser/a/v/z/32-afyotr0010-arrow-original-imafz4qgv6fqgsgc.jpeg?q=50\n",
      "https://rukminim1.flixcart.com/image/309/371/jpr86fk0/trouser/3/q/a/m-rmts02829-g6-raymond-original-imafbx9kazj6ucxg.jpeg?q=50\n",
      "https://rukminim1.flixcart.com/image/309/371/k3erngw0/trouser/r/n/x/34-pmtx06082-b7-park-avenue-original-imafme4fgys554uy.jpeg?q=50\n",
      "https://rukminim1.flixcart.com/image/309/371/k1dw70w0/trouser/8/y/4/40-combo-double-classio-fashion-original-imafkevnprqcn9vn.jpeg?q=50\n",
      "https://rukminim1.flixcart.com/image/309/371/k5e7o280/trouser/g/r/p/32-rmts03635-n6-raymond-original-imafz3yxtdjwdta6.jpeg?q=50\n",
      "https://rukminim1.flixcart.com/image/309/371/k572gsw0/trouser/y/g/m/32-rmts03554-o8-raymond-original-imafnzmyg3qmn2kp.jpeg?q=50\n",
      "https://rukminim1.flixcart.com/image/309/371/k58hwnk0/trouser/z/3/j/32-petfmnspo02881-peter-england-original-imafnxyxghegfyhr.jpeg?q=50\n",
      "https://rukminim1.flixcart.com/image/309/371/k5e7o280/trouser/v/k/g/34-rmts03629-p3-raymond-original-imafz3yxhg5fwhwe.jpeg?q=50\n",
      "https://rukminim1.flixcart.com/image/309/371/k3erngw0/trouser/z/e/6/30-rmts03536-b6-raymond-original-imafmjd6vxg4kkan.jpeg?q=50\n",
      "https://rukminim1.flixcart.com/image/309/371/k12go7k0/trouser/m/7/x/32-aw19ftr002c-metronaut-original-imafkphpv2xegypc.jpeg?q=50\n",
      "https://rukminim1.flixcart.com/image/309/371/k5msb680/trouser/d/b/n/32-rmts03629-o6-raymond-original-imafz2k5hgrf6wgf.jpeg?q=50\n",
      "https://rukminim1.flixcart.com/image/309/371/k5e7o280/trouser/5/6/k/36-rmts03627-o6-raymond-original-imafz3yxrpq5r6a9.jpeg?q=50\n",
      "https://rukminim1.flixcart.com/image/309/371/k7w8eq80/trouser/t/m/z/32-afyotr0098-arrow-original-imafqf6fftafcd3h.jpeg?q=50\n",
      "https://rukminim1.flixcart.com/image/309/371/k34rki80/trouser/m/z/b/32-uftr0305-u-s-polo-association-original-imafm7bd43zyrva2.jpeg?q=50\n",
      "https://rukminim1.flixcart.com/image/309/371/k5e7o280/trouser/f/8/g/32-rmts03630-b9-raymond-original-imafz2qqagwkfukv.jpeg?q=50\n",
      "https://rukminim1.flixcart.com/image/309/371/k4vmxzk0/trouser/n/b/m/32-rmts03554-g8-raymond-original-imafnz5jsshmmhcv.jpeg?q=50\n",
      "https://rukminim1.flixcart.com/image/309/371/k15bjww0/trouser/e/g/j/28-petfmnspn58390-peter-england-original-imafkzshfbawfnfg.jpeg?q=50\n",
      "https://rukminim1.flixcart.com/image/309/371/jxf05u80/trouser/n/j/e/36-combo-trouser-baleno-blackand-green-aa-ad-av-original-imafhuqs5xrfhfzq.jpeg?q=50\n",
      "https://rukminim1.flixcart.com/image/309/371/k5e7o280/trouser/f/h/h/32-rmts03629-g6-raymond-original-imafz2qpu8gkgprh.jpeg?q=50\n",
      "https://rukminim1.flixcart.com/image/309/371/k687wy80/trouser/w/z/v/46-petfmnsp075964-peter-england-original-imafzppvrvdtxdh7.jpeg?q=50\n",
      "https://rukminim1.flixcart.com/image/309/371/k5cs87k0/trouser/z/f/c/32-rmts03618-b7-raymond-original-imafzfhvksq3agzc.jpeg?q=50\n",
      "https://rukminim1.flixcart.com/image/309/371/k5pn6vk0/trouser/z/x/z/32-rmts03567-g6-raymond-original-imafzax6zsgztrp9.jpeg?q=50\n"
     ]
    }
   ],
   "source": [
    "urls= []\n",
    "for image in images:\n",
    "    source= image.get_attribute('src')\n",
    "    urls.append(source)\n",
    "    print(source)"
   ]
  },
  {
   "cell_type": "code",
   "execution_count": 17,
   "metadata": {
    "scrolled": false
   },
   "outputs": [
    {
     "name": "stdout",
     "output_type": "stream",
     "text": [
      "Downloading 1 of 40 images from page 2\n",
      "Downloading 2 of 40 images from page 2\n",
      "Downloading 3 of 40 images from page 2\n",
      "Downloading 4 of 40 images from page 2\n",
      "Downloading 5 of 40 images from page 2\n",
      "Downloading 6 of 40 images from page 2\n",
      "Downloading 7 of 40 images from page 2\n",
      "Downloading 8 of 40 images from page 2\n",
      "Downloading 9 of 40 images from page 2\n",
      "Downloading 10 of 40 images from page 2\n",
      "Downloading 11 of 40 images from page 2\n",
      "Downloading 12 of 40 images from page 2\n",
      "Downloading 13 of 40 images from page 2\n",
      "Downloading 14 of 40 images from page 2\n",
      "Downloading 15 of 40 images from page 2\n",
      "Downloading 16 of 40 images from page 2\n",
      "Downloading 17 of 40 images from page 2\n",
      "Downloading 18 of 40 images from page 2\n",
      "Downloading 19 of 40 images from page 2\n",
      "Downloading 20 of 40 images from page 2\n",
      "Downloading 21 of 40 images from page 2\n",
      "Downloading 22 of 40 images from page 2\n",
      "Downloading 23 of 40 images from page 2\n",
      "Downloading 24 of 40 images from page 2\n",
      "Downloading 25 of 40 images from page 2\n",
      "Downloading 26 of 40 images from page 2\n",
      "Downloading 27 of 40 images from page 2\n",
      "Downloading 28 of 40 images from page 2\n",
      "Downloading 29 of 40 images from page 2\n",
      "Downloading 30 of 40 images from page 2\n",
      "Downloading 31 of 40 images from page 2\n",
      "Downloading 32 of 40 images from page 2\n",
      "Downloading 33 of 40 images from page 2\n",
      "Downloading 34 of 40 images from page 2\n",
      "Downloading 35 of 40 images from page 2\n",
      "Downloading 36 of 40 images from page 2\n",
      "Downloading 37 of 40 images from page 2\n",
      "Downloading 38 of 40 images from page 2\n",
      "Downloading 39 of 40 images from page 2\n",
      "Downloading 40 of 40 images from page 2\n"
     ]
    }
   ],
   "source": [
    "# Changing for page 2\n",
    "page=2\n",
    "for index, link in enumerate(urls):\n",
    "    print(\"Downloading {0} of {1} images from page 2\".format(index+1, len(urls)))\n",
    "    response= requests.get(link)\n",
    "    with open('trousers/img_{0}{1}.jpeg'.format(index, page), \"wb\") as file:\n",
    "        file.write(response.content)"
   ]
  },
  {
   "cell_type": "markdown",
   "metadata": {},
   "source": [
    "Step 6: Moving to the next page"
   ]
  },
  {
   "cell_type": "code",
   "execution_count": 18,
   "metadata": {},
   "outputs": [],
   "source": [
    "# Now we find the 'Next' button using x_path and using selenium we click it\n",
    "next_page= driver.find_element_by_xpath(\"//a[@class='_3fVaIS']\").click()"
   ]
  },
  {
   "cell_type": "code",
   "execution_count": 19,
   "metadata": {},
   "outputs": [],
   "source": [
    "# Following the same steps from step 3 onwards.\n",
    "images= driver.find_elements_by_xpath(\"//img[@class='_3togXc']\")"
   ]
  },
  {
   "cell_type": "code",
   "execution_count": 20,
   "metadata": {},
   "outputs": [
    {
     "name": "stdout",
     "output_type": "stream",
     "text": [
      "https://rukminim1.flixcart.com/image/309/371/k1dw70w0/trouser/k/v/w/40-combo-double-classio-fashion-original-imafkevh3dgvryf7.jpeg?q=50\n",
      "https://rukminim1.flixcart.com/image/309/371/trouser/w/4/c/gdblueandblack-ad-av-38-original-imaeeycfxkcz5mde.jpeg?q=50\n",
      "https://rukminim1.flixcart.com/image/309/371/k5pn6vk0/trouser/h/z/d/32-rmts03567-o6-raymond-original-imafzax6x69hysbu.jpeg?q=50\n",
      "https://rukminim1.flixcart.com/image/309/371/k5h2jrk0/trouser/f/u/f/32-rmts03623-o6-raymond-original-imafz5ap87hetj4b.jpeg?q=50\n",
      "https://rukminim1.flixcart.com/image/309/371/k83dlzk0/trouser/r/j/7/32-rmts03625-o6-raymond-original-imafq6zhcdpxhaxq.jpeg?q=50\n",
      "https://rukminim1.flixcart.com/image/309/371/k5msb680/trouser/f/v/f/32-petfmnspg83257-peter-england-original-imafz9cgkfygujs5.jpeg?q=50\n",
      "https://rukminim1.flixcart.com/image/309/371/j1qqs280/trouser/q/4/2/44-236-2by2-coffi-bb-ad-av-original-imaet6zm3vuwshuv.jpeg?q=50\n",
      "https://rukminim1.flixcart.com/image/309/371/k79dd3k0/trouser/f/h/n/34-petfmctpo39294-peter-england-original-imafpjkagbmythq8.jpeg?q=50\n",
      "https://rukminim1.flixcart.com/image/309/371/k59xci80/trouser/c/6/t/40-black-chip-fellow-original-imafkgc62zvh9ryv.jpeg?q=50\n",
      "https://rukminim1.flixcart.com/image/309/371/k5cs87k0/trouser/r/q/z/32-rmts03618-k7-raymond-original-imafzfmya7yhuzf5.jpeg?q=50\n",
      "https://rukminim1.flixcart.com/image/309/371/k5wse4w0/trouser/h/q/r/28-uu2-inwixa-original-imafzhp2nmadc5p5.jpeg?q=50\n",
      "https://rukminim1.flixcart.com/image/309/371/k612pow0/trouser/g/f/g/30-petfmnspi98524-peter-england-original-imafzkqkc63zue9g.jpeg?q=50\n",
      "https://rukminim1.flixcart.com/image/309/371/k5pn6vk0/trouser/u/m/z/32-rmts03558-b8-raymond-original-imafzattyranw4qg.jpeg?q=50\n",
      "https://rukminim1.flixcart.com/image/309/371/k4vmxzk0/trouser/t/n/v/32-rmts03538-k6-raymond-original-imafnmh8bwhwehud.jpeg?q=50\n",
      "https://rukminim1.flixcart.com/image/309/371/k5e7o280/trouser/x/r/x/36-putfussp452170-peter-england-university-original-imafz36chrju27wa.jpeg?q=50\n",
      "https://rukminim1.flixcart.com/image/309/371/k41mp3k0/trouser/d/z/h/32-rmts03356-f6-raymond-original-imafnyrfyxn6htnf.jpeg?q=50\n",
      "https://rukminim1.flixcart.com/image/309/371/k4vmxzk0/trouser/n/b/m/32-rmts03554-g8-raymond-original-imafnz5jsshmmhcv.jpeg?q=50\n",
      "https://rukminim1.flixcart.com/image/309/371/trouser/h/n/d/211-greendartgrey-aa-ad-av-38-original-imaepkwhmjqmxkxt.jpeg?q=50\n",
      "https://rukminim1.flixcart.com/image/309/371/k4324y80/trouser/6/t/g/32-rmts03535-f5-raymond-original-imafnyr2sshxs5jz.jpeg?q=50\n",
      "https://rukminim1.flixcart.com/image/309/371/jvmpci80/trouser/y/d/5/32-rmts03226-o6-raymond-original-imafghxrpwnagx9a.jpeg?q=50\n",
      "https://rukminim1.flixcart.com/image/309/371/k3j1z0w0/trouser/7/s/r/44-argt1502-arrow-new-york-original-imaf99tfwjwayxg8.jpeg?q=50\n",
      "https://rukminim1.flixcart.com/image/309/371/jvmpci80/trouser/y/d/5/32-rmts03226-o6-raymond-original-imafghxrpwnagx9a.jpeg?q=50\n",
      "https://rukminim1.flixcart.com/image/309/371/k5e7o280/trouser/h/m/u/32-rmts03626-k6-raymond-original-imafz3ywhsndgnhg.jpeg?q=50\n",
      "https://rukminim1.flixcart.com/image/309/371/k37mg7k0/trouser/p/g/e/32-rmts03269-g4-raymond-original-imafmds9aywtcgka.jpeg?q=50\n",
      "https://rukminim1.flixcart.com/image/309/371/k1dw70w0/trouser/p/7/j/40-combo-double-classio-fashion-original-imafkew9grh6mzya.jpeg?q=50\n",
      "https://rukminim1.flixcart.com/image/309/371/k55n0y80/trouser/e/f/x/30-petfmctpy17007-peter-england-original-imafhzzshgxjvuwe.jpeg?q=50\n",
      "https://rukminim1.flixcart.com/image/309/371/k37mg7k0/trouser/f/z/j/32-aw19ftr005b-metronaut-original-imafmebzyrjfypqu.jpeg?q=50\n",
      "https://rukminim1.flixcart.com/image/309/371/k5h2jrk0/trouser/5/d/a/32-afyotr0035-arrow-original-imafz4qgvw4a6mb9.jpeg?q=50\n",
      "https://rukminim1.flixcart.com/image/309/371/k4324y80/trouser/f/m/s/32-rmts03542-s6-raymond-original-imafnyr2znfhum7m.jpeg?q=50\n",
      "https://rukminim1.flixcart.com/image/309/371/k5e7o280/trouser/z/q/b/32-rmts03635-o6-raymond-original-imafz3yxzqhgbwpp.jpeg?q=50\n",
      "https://rukminim1.flixcart.com/image/309/371/k6nxrbk0/trouser/3/q/q/34-new-combo-classio-fashion-original-imafp2rsy3ddfbeh.jpeg?q=50\n",
      "https://rukminim1.flixcart.com/image/309/371/jvv9zm80/trouser/t/b/h/34-t-131-trouser-baleno-green-aa-ad-av-original-imafgm95fry7hhw7.jpeg?q=50\n",
      "https://rukminim1.flixcart.com/image/309/371/jfvfjbk0/trouser/y/x/t/28-packof-3-greendart-blue-black-grey-aa-ad-av-original-imaf48udg67ffnzm.jpeg?q=50\n",
      "https://rukminim1.flixcart.com/image/309/371/k4324y80/trouser/2/h/k/32-rmts03269-b6-raymond-original-imafnfbtkb8fbkrv.jpeg?q=50\n",
      "https://rukminim1.flixcart.com/image/309/371/k4vmxzk0/trouser/m/x/x/32-rmts03548-b9-raymond-original-imafnmkh3ynvwfge.jpeg?q=50\n",
      "https://rukminim1.flixcart.com/image/309/371/k1v1h8w0/trouser/u/c/h/28-petfmnspt78214-peter-england-original-imafhcgmudgvtrqs.jpeg?q=50\n",
      "https://rukminim1.flixcart.com/image/309/371/k7w8eq80/trouser/q/a/8/32-afyotr0096-arrow-original-imafqyk3fafgbkzy.jpeg?q=50\n",
      "https://rukminim1.flixcart.com/image/309/371/k1b1bbk0/trouser/r/v/q/36-pmtq05559-b7-park-avenue-original-imafkvmbwupmgxfw.jpeg?q=50\n",
      "https://rukminim1.flixcart.com/image/309/371/k5r2mq80/trouser/n/3/h/32-afyotr0006-arrow-original-imafzazkfregte8g.jpeg?q=50\n",
      "https://rukminim1.flixcart.com/image/309/371/k251k7k0/trouser/c/z/9/32-rmts03535-g9-raymond-original-imafhh3gw8frrhrr.jpeg?q=50\n"
     ]
    }
   ],
   "source": [
    "urls= []\n",
    "for image in images:\n",
    "    source= image.get_attribute('src')\n",
    "    urls.append(source)\n",
    "    print(source)"
   ]
  },
  {
   "cell_type": "code",
   "execution_count": 21,
   "metadata": {},
   "outputs": [
    {
     "name": "stdout",
     "output_type": "stream",
     "text": [
      "Downloading 1 of 40 images from page 3\n",
      "Downloading 2 of 40 images from page 3\n",
      "Downloading 3 of 40 images from page 3\n",
      "Downloading 4 of 40 images from page 3\n",
      "Downloading 5 of 40 images from page 3\n",
      "Downloading 6 of 40 images from page 3\n",
      "Downloading 7 of 40 images from page 3\n",
      "Downloading 8 of 40 images from page 3\n",
      "Downloading 9 of 40 images from page 3\n",
      "Downloading 10 of 40 images from page 3\n",
      "Downloading 11 of 40 images from page 3\n",
      "Downloading 12 of 40 images from page 3\n",
      "Downloading 13 of 40 images from page 3\n",
      "Downloading 14 of 40 images from page 3\n",
      "Downloading 15 of 40 images from page 3\n",
      "Downloading 16 of 40 images from page 3\n",
      "Downloading 17 of 40 images from page 3\n",
      "Downloading 18 of 40 images from page 3\n",
      "Downloading 19 of 40 images from page 3\n",
      "Downloading 20 of 40 images from page 3\n",
      "Downloading 21 of 40 images from page 3\n",
      "Downloading 22 of 40 images from page 3\n",
      "Downloading 23 of 40 images from page 3\n",
      "Downloading 24 of 40 images from page 3\n",
      "Downloading 25 of 40 images from page 3\n",
      "Downloading 26 of 40 images from page 3\n",
      "Downloading 27 of 40 images from page 3\n",
      "Downloading 28 of 40 images from page 3\n",
      "Downloading 29 of 40 images from page 3\n",
      "Downloading 30 of 40 images from page 3\n",
      "Downloading 31 of 40 images from page 3\n",
      "Downloading 32 of 40 images from page 3\n",
      "Downloading 33 of 40 images from page 3\n",
      "Downloading 34 of 40 images from page 3\n",
      "Downloading 35 of 40 images from page 3\n",
      "Downloading 36 of 40 images from page 3\n",
      "Downloading 37 of 40 images from page 3\n",
      "Downloading 38 of 40 images from page 3\n",
      "Downloading 39 of 40 images from page 3\n",
      "Downloading 40 of 40 images from page 3\n"
     ]
    }
   ],
   "source": [
    "# Changing for page 3\n",
    "page=3\n",
    "for index, link in enumerate(urls):\n",
    "    print(\"Downloading {0} of {1} images from page 3\".format(index+1, len(urls)))\n",
    "    response= requests.get(link)\n",
    "    with open('trousers/img_{0}{1}.jpeg'.format(index, page), \"wb\") as file:\n",
    "        file.write(response.content)"
   ]
  },
  {
   "cell_type": "code",
   "execution_count": 22,
   "metadata": {},
   "outputs": [],
   "source": [
    "# Now we find the 'Next' button using x_path and using selenium we click it\n",
    "next_page= driver.find_element_by_xpath(\"//a[@class='_3fVaIS']\").click()"
   ]
  },
  {
   "cell_type": "code",
   "execution_count": 23,
   "metadata": {},
   "outputs": [],
   "source": [
    "# Following the same steps from step 3 onwards.\n",
    "images= driver.find_elements_by_xpath(\"//img[@class='_3togXc']\")"
   ]
  },
  {
   "cell_type": "code",
   "execution_count": 24,
   "metadata": {},
   "outputs": [
    {
     "name": "stdout",
     "output_type": "stream",
     "text": [
      "https://rukminim1.flixcart.com/image/309/371/k687wy80/trouser/v/z/u/32-rmts03564-k8-raymond-original-imafzbs7hfzzjy2w.jpeg?q=50\n",
      "https://rukminim1.flixcart.com/image/309/371/k76ihe80/trouser/s/q/q/28-t338-tr-ss-lycra-olivegreen-aa-ad-av-original-imafpggjknxsgsfz.jpeg?q=50\n",
      "https://rukminim1.flixcart.com/image/309/371/k5wse4w0/trouser/h/q/r/28-uu2-inwixa-original-imafzhp2nmadc5p5.jpeg?q=50\n",
      "https://rukminim1.flixcart.com/image/309/371/k5e7o280/trouser/u/d/j/32-rmts03630-o6-raymond-original-imafz3ybembspbr8.jpeg?q=50\n",
      "https://rukminim1.flixcart.com/image/309/371/k1dw70w0/trouser/k/v/v/40-combo-double-classio-fashion-original-imafkevq33qwemb8.jpeg?q=50\n",
      "https://rukminim1.flixcart.com/image/309/371/k5pn6vk0/trouser/d/m/n/34-rmts03560-k8-raymond-original-imafzbw6uhyzmsz9.jpeg?q=50\n",
      "https://rukminim1.flixcart.com/image/309/371/k7285u80/trouser/n/d/z/32-mss20ftr009f-metronaut-original-imafpdya6axnah7s.jpeg?q=50\n",
      "https://rukminim1.flixcart.com/image/309/371/k0tw13k0/trouser/n/f/z/40-bp-tisot-navy-blackberrys-original-imafkjgbmtcarvcc.jpeg?q=50\n",
      "https://rukminim1.flixcart.com/image/309/371/jtg44nk0/trouser/d/s/w/36-bp-benito-grey-blackberrys-original-imafery8j2jythzf.jpeg?q=50\n",
      "https://rukminim1.flixcart.com/image/309/371/k55n0y80/trouser/x/k/e/32-rmts03546-o7-raymond-original-imafnmkhhuzxd2rh.jpeg?q=50\n",
      "https://rukminim1.flixcart.com/image/309/371/k76ihe80/trouser/s/k/y/36-t340-tr-ss-lycra-royal-blue-aa-ad-av-original-imafpggjgxdfpnry.jpeg?q=50\n",
      "https://rukminim1.flixcart.com/image/309/371/jv44mfk0/trouser/2/9/4/46-whitetrouserf-hangup-original-imaffbfkha9xgqgz.jpeg?q=50\n",
      "https://rukminim1.flixcart.com/image/309/371/k7285u80/trouser/4/x/r/32-mss20ftr009a-metronaut-original-imafpdybf8yygha2.jpeg?q=50\n",
      "https://rukminim1.flixcart.com/image/309/371/k5e7o280/trouser/y/a/t/32-rmts03629-f2-raymond-original-imafzfmyvh9kbjqh.jpeg?q=50\n",
      "https://rukminim1.flixcart.com/image/309/371/k1dw70w0/trouser/y/s/d/40-combo-double-classio-fashion-original-imafkevzwhrbty9x.jpeg?q=50\n",
      "https://rukminim1.flixcart.com/image/309/371/k66sh3k0/trouser/f/y/4/32-afyotr0001-arrow-original-imafz4p4nxrxukeh.jpeg?q=50\n",
      "https://rukminim1.flixcart.com/image/309/371/k5lcvbk0/trouser/g/u/g/32-astfwnsfo49289-allen-solly-original-imafz2g2putmwsey.jpeg?q=50\n",
      "https://rukminim1.flixcart.com/image/309/371/k5pn6vk0/trouser/h/z/q/32-rmts03572-o8-raymond-original-imafzatttyjwtvyh.jpeg?q=50\n",
      "https://rukminim1.flixcart.com/image/309/371/k76ihe80/trouser/r/e/s/30-t339-tr-ss-lycra-pgreen-aa-ad-av-original-imafpggjzgjwpg3w.jpeg?q=50\n",
      "https://rukminim1.flixcart.com/image/309/371/k5e7o280/trouser/5/6/k/36-rmts03627-o6-raymond-original-imafz3yxrpq5r6a9.jpeg?q=50\n",
      "https://rukminim1.flixcart.com/image/309/371/jydaqa80/trouser/5/d/k/32-afxtr2063-arrow-original-imafgmuhmzrwjcrp.jpeg?q=50\n",
      "https://rukminim1.flixcart.com/image/309/371/k4x2du80/trouser/q/2/t/32-rmts03549-b6-raymond-original-imafnmkh7nsdydkh.jpeg?q=50\n",
      "https://rukminim1.flixcart.com/image/309/371/k7m8brk0/trouser/z/k/a/32-afyotr0113-arrow-original-imafpzh8hb4xhfkr.jpeg?q=50\n",
      "https://rukminim1.flixcart.com/image/309/371/k572gsw0/trouser/y/g/m/32-rmts03554-o8-raymond-original-imafnzmyg3qmn2kp.jpeg?q=50\n",
      "https://rukminim1.flixcart.com/image/309/371/k5lcvbk0/trouser/r/g/b/32-astpwsrfu89716-allen-solly-original-imafz2g2zyf6ys4x.jpeg?q=50\n",
      "https://rukminim1.flixcart.com/image/309/371/k55n0y80/trouser/y/h/9/38-petfmslpe92066-peter-england-original-imafnwa2gw9fsy56.jpeg?q=50\n",
      "https://rukminim1.flixcart.com/image/309/371/k5h2jrk0/trouser/d/3/9/32-afyotr0031-arrow-original-imafz4p4atwcgzx8.jpeg?q=50\n",
      "https://rukminim1.flixcart.com/image/309/371/k83dlzk0/trouser/t/b/q/32-rmts03621-g6-raymond-original-imafq6zhur5jynkv.jpeg?q=50\n",
      "https://rukminim1.flixcart.com/image/309/371/k79dd3k0/trouser/5/7/z/32-pmty06124-k8-park-avenue-original-imafpjcnghgutyaa.jpeg?q=50\n",
      "https://rukminim1.flixcart.com/image/309/371/k3erngw0/trouser/z/e/6/30-rmts03536-b6-raymond-original-imafmjd6vxg4kkan.jpeg?q=50\n",
      "https://rukminim1.flixcart.com/image/309/371/k4irzbk0/trouser/d/k/f/32-lytfcctpt60982-louis-philippe-ath-work-original-imafndhyhswgf23z.jpeg?q=50\n",
      "https://rukminim1.flixcart.com/image/309/371/kb6tyfk0/trouser/a/s/a/42-setof3-baleno-blue-blak-sgrey-aa-ad-av-original-imafshmzdrkcbzms.jpeg?q=50\n",
      "https://rukminim1.flixcart.com/image/309/371/jrf8o7k0/trouser/d/f/d/32-anxtr2270-arrow-new-york-original-imafd83tnqhyad5v.jpeg?q=50\n",
      "https://rukminim1.flixcart.com/image/309/371/k4vmxzk0/trouser/n/b/m/32-rmts03554-g8-raymond-original-imafnz5jsshmmhcv.jpeg?q=50\n",
      "https://rukminim1.flixcart.com/image/309/371/jwuzzww0/trouser/n/p/u/34-anxtr2268-navy-arrow-new-york-original-imafefhrnfzaxnvs.jpeg?q=50\n",
      "https://rukminim1.flixcart.com/image/309/371/jzblaq80/trouser/a/w/d/28-pitfensfg90767-peter-england-original-imafjcs238zagaga.jpeg?q=50\n",
      "https://rukminim1.flixcart.com/image/309/371/jwtkk280/trouser/b/r/h/42-rmts02827-k7-raymond-original-imafhf96fk8jrzen.jpeg?q=50\n",
      "https://rukminim1.flixcart.com/image/309/371/jpr86fk0/trouser/3/q/a/m-rmts02829-g6-raymond-original-imafbx9kazj6ucxg.jpeg?q=50\n",
      "https://rukminim1.flixcart.com/image/309/371/k3ahbww0/trouser/x/d/g/28-vdtfeskf577560-van-heusen-original-imafmfz2ej4vtgqh.jpeg?q=50\n",
      "https://rukminim1.flixcart.com/image/309/371/k5pn6vk0/trouser/z/x/z/32-rmts03567-g6-raymond-original-imafzax6zsgztrp9.jpeg?q=50\n"
     ]
    }
   ],
   "source": [
    "urls= []\n",
    "for image in images:\n",
    "    source= image.get_attribute('src')\n",
    "    urls.append(source)\n",
    "    print(source)"
   ]
  },
  {
   "cell_type": "code",
   "execution_count": 25,
   "metadata": {},
   "outputs": [
    {
     "name": "stdout",
     "output_type": "stream",
     "text": [
      "Downloading 1 of 40 images from page 4\n",
      "Downloading 2 of 40 images from page 4\n",
      "Downloading 3 of 40 images from page 4\n",
      "Downloading 4 of 40 images from page 4\n",
      "Downloading 5 of 40 images from page 4\n",
      "Downloading 6 of 40 images from page 4\n",
      "Downloading 7 of 40 images from page 4\n",
      "Downloading 8 of 40 images from page 4\n",
      "Downloading 9 of 40 images from page 4\n",
      "Downloading 10 of 40 images from page 4\n",
      "Downloading 11 of 40 images from page 4\n",
      "Downloading 12 of 40 images from page 4\n",
      "Downloading 13 of 40 images from page 4\n",
      "Downloading 14 of 40 images from page 4\n",
      "Downloading 15 of 40 images from page 4\n",
      "Downloading 16 of 40 images from page 4\n",
      "Downloading 17 of 40 images from page 4\n",
      "Downloading 18 of 40 images from page 4\n",
      "Downloading 19 of 40 images from page 4\n",
      "Downloading 20 of 40 images from page 4\n",
      "Downloading 21 of 40 images from page 4\n",
      "Downloading 22 of 40 images from page 4\n",
      "Downloading 23 of 40 images from page 4\n",
      "Downloading 24 of 40 images from page 4\n",
      "Downloading 25 of 40 images from page 4\n",
      "Downloading 26 of 40 images from page 4\n",
      "Downloading 27 of 40 images from page 4\n",
      "Downloading 28 of 40 images from page 4\n",
      "Downloading 29 of 40 images from page 4\n",
      "Downloading 30 of 40 images from page 4\n",
      "Downloading 31 of 40 images from page 4\n",
      "Downloading 32 of 40 images from page 4\n",
      "Downloading 33 of 40 images from page 4\n",
      "Downloading 34 of 40 images from page 4\n",
      "Downloading 35 of 40 images from page 4\n",
      "Downloading 36 of 40 images from page 4\n",
      "Downloading 37 of 40 images from page 4\n",
      "Downloading 38 of 40 images from page 4\n",
      "Downloading 39 of 40 images from page 4\n",
      "Downloading 40 of 40 images from page 4\n"
     ]
    }
   ],
   "source": [
    "# Changing for page 4\n",
    "page=4\n",
    "for index, link in enumerate(urls):\n",
    "    print(\"Downloading {0} of {1} images from page 4\".format(index+1, len(urls)))\n",
    "    response= requests.get(link)\n",
    "    with open('trousers/img_{0}{1}.jpeg'.format(index, page), \"wb\") as file:\n",
    "        file.write(response.content)"
   ]
  },
  {
   "cell_type": "code",
   "execution_count": 26,
   "metadata": {},
   "outputs": [],
   "source": [
    "# Now we find the 'Next' button using x_path and using selenium we click it\n",
    "next_page= driver.find_element_by_xpath(\"//a[@class='_3fVaIS']\").click()"
   ]
  },
  {
   "cell_type": "code",
   "execution_count": 27,
   "metadata": {},
   "outputs": [],
   "source": [
    "# Following the same steps from step 3 onwards.\n",
    "images= driver.find_elements_by_xpath(\"//img[@class='_3togXc']\")"
   ]
  },
  {
   "cell_type": "code",
   "execution_count": 28,
   "metadata": {},
   "outputs": [
    {
     "name": "stdout",
     "output_type": "stream",
     "text": [
      "https://rukminim1.flixcart.com/image/309/371/k12go7k0/trouser/h/2/7/32-aw19ftr002d-metronaut-original-imafkphpusbst8zh.jpeg?q=50\n",
      "https://rukminim1.flixcart.com/image/309/371/jrntbbk0/trouser/p/5/7/34-mj415v2xpog-arrow-original-imafdensg3rtqduu.jpeg?q=50\n",
      "https://rukminim1.flixcart.com/image/309/371/k83dlzk0/trouser/h/a/e/30-rmts03638-o6-raymond-original-imafq6zh9mjg8h2f.jpeg?q=50\n",
      "https://rukminim1.flixcart.com/image/309/371/k5e7o280/trouser/u/d/j/32-rmts03630-o6-raymond-original-imafz3ybembspbr8.jpeg?q=50\n",
      "https://rukminim1.flixcart.com/image/309/371/jbs96kw0/trouser/r/h/3/32-packof-3-2by2-cream-black-coffi-aa-ad-av-original-imafff6wm4uasjyd.jpeg?q=50\n",
      "https://rukminim1.flixcart.com/image/309/371/kbdz5ow0/trouser/r/7/q/32-new-double000-classio-fashion-original-imafsr32humhmy75.jpeg?q=50\n",
      "https://rukminim1.flixcart.com/image/309/371/k44hksw0/trouser/t/t/w/32-rmts03552-k8-raymond-original-imafnyrfgrvbr8se.jpeg?q=50\n",
      "https://rukminim1.flixcart.com/image/309/371/k0sgl8w0/trouser/z/6/n/32-aw19ftr002a-metronaut-original-imafkfc7fjcfyjyn.jpeg?q=50\n",
      "https://rukminim1.flixcart.com/image/309/371/k1tm1e80/trouser/j/p/f/32-aw19ftr001b-metronaut-original-imafh8zh7rer5fkh.jpeg?q=50\n",
      "https://rukminim1.flixcart.com/image/309/371/k55n0y80/trouser/x/k/e/32-rmts03546-o7-raymond-original-imafnmkhhuzxd2rh.jpeg?q=50\n",
      "https://rukminim1.flixcart.com/image/309/371/k687wy80/trouser/v/z/u/32-rmts03564-k8-raymond-original-imafzbs7hfzzjy2w.jpeg?q=50\n",
      "https://rukminim1.flixcart.com/image/309/371/k76ihe80/trouser/s/q/q/28-t338-tr-ss-lycra-olivegreen-aa-ad-av-original-imafpggjknxsgsfz.jpeg?q=50\n",
      "https://rukminim1.flixcart.com/image/309/371/k5wse4w0/trouser/h/q/r/28-uu2-inwixa-original-imafzhp2nmadc5p5.jpeg?q=50\n",
      "https://rukminim1.flixcart.com/image/309/371/k5e7o280/trouser/y/a/t/32-rmts03629-f2-raymond-original-imafzfmyvh9kbjqh.jpeg?q=50\n",
      "https://rukminim1.flixcart.com/image/309/371/k1dw70w0/trouser/k/v/v/40-combo-double-classio-fashion-original-imafkevq33qwemb8.jpeg?q=50\n",
      "https://rukminim1.flixcart.com/image/309/371/k5pn6vk0/trouser/d/m/n/34-rmts03560-k8-raymond-original-imafzbw6uhyzmsz9.jpeg?q=50\n",
      "https://rukminim1.flixcart.com/image/309/371/k7285u80/trouser/n/d/z/32-mss20ftr009f-metronaut-original-imafpdya6axnah7s.jpeg?q=50\n",
      "https://rukminim1.flixcart.com/image/309/371/k0tw13k0/trouser/n/f/z/40-bp-tisot-navy-blackberrys-original-imafkjgbmtcarvcc.jpeg?q=50\n",
      "https://rukminim1.flixcart.com/image/309/371/jtg44nk0/trouser/d/s/w/36-bp-benito-grey-blackberrys-original-imafery8j2jythzf.jpeg?q=50\n",
      "https://rukminim1.flixcart.com/image/309/371/k5e7o280/trouser/5/6/k/36-rmts03627-o6-raymond-original-imafz3yxrpq5r6a9.jpeg?q=50\n",
      "https://rukminim1.flixcart.com/image/309/371/k76ihe80/trouser/s/k/y/36-t340-tr-ss-lycra-royal-blue-aa-ad-av-original-imafpggjgxdfpnry.jpeg?q=50\n",
      "https://rukminim1.flixcart.com/image/309/371/jv44mfk0/trouser/2/9/4/46-whitetrouserf-hangup-original-imaffbfkha9xgqgz.jpeg?q=50\n",
      "https://rukminim1.flixcart.com/image/309/371/k7285u80/trouser/4/x/r/32-mss20ftr009a-metronaut-original-imafpdybf8yygha2.jpeg?q=50\n",
      "https://rukminim1.flixcart.com/image/309/371/k572gsw0/trouser/y/g/m/32-rmts03554-o8-raymond-original-imafnzmyg3qmn2kp.jpeg?q=50\n",
      "https://rukminim1.flixcart.com/image/309/371/k1dw70w0/trouser/y/s/d/40-combo-double-classio-fashion-original-imafkevzwhrbty9x.jpeg?q=50\n",
      "https://rukminim1.flixcart.com/image/309/371/k66sh3k0/trouser/f/y/4/32-afyotr0001-arrow-original-imafz4p4nxrxukeh.jpeg?q=50\n",
      "https://rukminim1.flixcart.com/image/309/371/k5lcvbk0/trouser/g/u/g/32-astfwnsfo49289-allen-solly-original-imafz2g2putmwsey.jpeg?q=50\n",
      "https://rukminim1.flixcart.com/image/309/371/k5pn6vk0/trouser/h/z/q/32-rmts03572-o8-raymond-original-imafzatttyjwtvyh.jpeg?q=50\n",
      "https://rukminim1.flixcart.com/image/309/371/k76ihe80/trouser/r/e/s/30-t339-tr-ss-lycra-pgreen-aa-ad-av-original-imafpggjzgjwpg3w.jpeg?q=50\n",
      "https://rukminim1.flixcart.com/image/309/371/k3erngw0/trouser/z/e/6/30-rmts03536-b6-raymond-original-imafmjd6vxg4kkan.jpeg?q=50\n",
      "https://rukminim1.flixcart.com/image/309/371/jydaqa80/trouser/5/d/k/32-afxtr2063-arrow-original-imafgmuhmzrwjcrp.jpeg?q=50\n",
      "https://rukminim1.flixcart.com/image/309/371/k4x2du80/trouser/q/2/t/32-rmts03549-b6-raymond-original-imafnmkh7nsdydkh.jpeg?q=50\n",
      "https://rukminim1.flixcart.com/image/309/371/k7m8brk0/trouser/z/k/a/32-afyotr0113-arrow-original-imafpzh8hb4xhfkr.jpeg?q=50\n",
      "https://rukminim1.flixcart.com/image/309/371/k4vmxzk0/trouser/n/b/m/32-rmts03554-g8-raymond-original-imafnz5jsshmmhcv.jpeg?q=50\n",
      "https://rukminim1.flixcart.com/image/309/371/jzblaq80/trouser/a/w/d/28-pitfensfg90767-peter-england-original-imafjcs238zagaga.jpeg?q=50\n",
      "https://rukminim1.flixcart.com/image/309/371/k5lcvbk0/trouser/r/g/b/32-astpwsrfu89716-allen-solly-original-imafz2g2zyf6ys4x.jpeg?q=50\n",
      "https://rukminim1.flixcart.com/image/309/371/k55n0y80/trouser/y/h/9/38-petfmslpe92066-peter-england-original-imafnwa2gw9fsy56.jpeg?q=50\n",
      "https://rukminim1.flixcart.com/image/309/371/k5h2jrk0/trouser/d/3/9/32-afyotr0031-arrow-original-imafz4p4atwcgzx8.jpeg?q=50\n",
      "https://rukminim1.flixcart.com/image/309/371/k83dlzk0/trouser/t/b/q/32-rmts03621-g6-raymond-original-imafq6zhur5jynkv.jpeg?q=50\n",
      "https://rukminim1.flixcart.com/image/309/371/k5pn6vk0/trouser/z/x/z/32-rmts03567-g6-raymond-original-imafzax6zsgztrp9.jpeg?q=50\n"
     ]
    }
   ],
   "source": [
    "urls= []\n",
    "for image in images:\n",
    "    source= image.get_attribute('src')\n",
    "    urls.append(source)\n",
    "    print(source)"
   ]
  },
  {
   "cell_type": "code",
   "execution_count": 29,
   "metadata": {},
   "outputs": [
    {
     "name": "stdout",
     "output_type": "stream",
     "text": [
      "Downloading 1 of 40 images from page 5\n",
      "Downloading 2 of 40 images from page 5\n",
      "Downloading 3 of 40 images from page 5\n",
      "Downloading 4 of 40 images from page 5\n",
      "Downloading 5 of 40 images from page 5\n",
      "Downloading 6 of 40 images from page 5\n",
      "Downloading 7 of 40 images from page 5\n",
      "Downloading 8 of 40 images from page 5\n",
      "Downloading 9 of 40 images from page 5\n",
      "Downloading 10 of 40 images from page 5\n",
      "Downloading 11 of 40 images from page 5\n",
      "Downloading 12 of 40 images from page 5\n",
      "Downloading 13 of 40 images from page 5\n",
      "Downloading 14 of 40 images from page 5\n",
      "Downloading 15 of 40 images from page 5\n",
      "Downloading 16 of 40 images from page 5\n",
      "Downloading 17 of 40 images from page 5\n",
      "Downloading 18 of 40 images from page 5\n",
      "Downloading 19 of 40 images from page 5\n",
      "Downloading 20 of 40 images from page 5\n",
      "Downloading 21 of 40 images from page 5\n",
      "Downloading 22 of 40 images from page 5\n",
      "Downloading 23 of 40 images from page 5\n",
      "Downloading 24 of 40 images from page 5\n",
      "Downloading 25 of 40 images from page 5\n",
      "Downloading 26 of 40 images from page 5\n",
      "Downloading 27 of 40 images from page 5\n",
      "Downloading 28 of 40 images from page 5\n",
      "Downloading 29 of 40 images from page 5\n",
      "Downloading 30 of 40 images from page 5\n",
      "Downloading 31 of 40 images from page 5\n",
      "Downloading 32 of 40 images from page 5\n",
      "Downloading 33 of 40 images from page 5\n",
      "Downloading 34 of 40 images from page 5\n",
      "Downloading 35 of 40 images from page 5\n",
      "Downloading 36 of 40 images from page 5\n",
      "Downloading 37 of 40 images from page 5\n",
      "Downloading 38 of 40 images from page 5\n",
      "Downloading 39 of 40 images from page 5\n",
      "Downloading 40 of 40 images from page 5\n"
     ]
    }
   ],
   "source": [
    "# Changing for page 5\n",
    "page=5\n",
    "for index, link in enumerate(urls):\n",
    "    print(\"Downloading {0} of {1} images from page 5\".format(index+1, len(urls)))\n",
    "    response= requests.get(link)\n",
    "    with open('trousers/img_{0}{1}.jpeg'.format(index, page), \"wb\") as file:\n",
    "        file.write(response.content)"
   ]
  }
 ],
 "metadata": {
  "kernelspec": {
   "display_name": "Python 3",
   "language": "python",
   "name": "python3"
  },
  "language_info": {
   "codemirror_mode": {
    "name": "ipython",
    "version": 3
   },
   "file_extension": ".py",
   "mimetype": "text/x-python",
   "name": "python",
   "nbconvert_exporter": "python",
   "pygments_lexer": "ipython3",
   "version": "3.7.6"
  }
 },
 "nbformat": 4,
 "nbformat_minor": 4
}
