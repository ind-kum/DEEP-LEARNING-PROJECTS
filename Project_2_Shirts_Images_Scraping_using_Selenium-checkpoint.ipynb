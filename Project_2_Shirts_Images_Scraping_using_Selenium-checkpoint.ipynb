{
 "cells": [
  {
   "cell_type": "markdown",
   "metadata": {},
   "source": [
    "# Scraping images from flipkart"
   ]
  },
  {
   "cell_type": "markdown",
   "metadata": {},
   "source": [
    "Step 1: import the libraries and get the URL of the webpage"
   ]
  },
  {
   "cell_type": "code",
   "execution_count": 2,
   "metadata": {},
   "outputs": [],
   "source": [
    "from selenium import webdriver\n",
    "import os"
   ]
  },
  {
   "cell_type": "code",
   "execution_count": 3,
   "metadata": {},
   "outputs": [],
   "source": [
    "driver= webdriver.Chrome('E:\\\\chrome_driver\\\\chromedriver.exe')"
   ]
  },
  {
   "cell_type": "code",
   "execution_count": 4,
   "metadata": {},
   "outputs": [],
   "source": [
    "my_page= driver.get('https://www.flipkart.com/clothing-and-accessories/topwear/shirt/men-shirt/formal-shirt/pr?sid=clo,ash,axc,mmk,bk1&otracker=categorytree&otracker=nmenu_sub_Men_0_Formal%20Shirts')"
   ]
  },
  {
   "cell_type": "markdown",
   "metadata": {},
   "source": [
    "Step 2: Making the directory to store images"
   ]
  },
  {
   "cell_type": "code",
   "execution_count": 5,
   "metadata": {},
   "outputs": [],
   "source": [
    "# Optional step\n",
    "def make_directory(dirname):\n",
    "    current_path= os.getcwd()\n",
    "    path= os.path.join(current_path, dirname)\n",
    "    if not os.path.exists(path):\n",
    "        os.makedirs(path)"
   ]
  },
  {
   "cell_type": "code",
   "execution_count": 6,
   "metadata": {},
   "outputs": [],
   "source": [
    "make_directory(\"Shirts\")"
   ]
  },
  {
   "cell_type": "markdown",
   "metadata": {},
   "source": [
    "Step 3: Scraping URLs of images"
   ]
  },
  {
   "cell_type": "code",
   "execution_count": 7,
   "metadata": {},
   "outputs": [],
   "source": [
    "images= driver.find_elements_by_xpath(\"//img[@class='_3togXc']\")"
   ]
  },
  {
   "cell_type": "code",
   "execution_count": 8,
   "metadata": {},
   "outputs": [
    {
     "name": "stdout",
     "output_type": "stream",
     "text": [
      "40\n"
     ]
    }
   ],
   "source": [
    "print(len(images))"
   ]
  },
  {
   "cell_type": "code",
   "execution_count": 9,
   "metadata": {},
   "outputs": [
    {
     "data": {
      "text/plain": [
       "<selenium.webdriver.remote.webelement.WebElement (session=\"b650d667c3b285d9b7bdcaa8ee96dee7\", element=\"3efb8928-3eb7-4eb6-8131-1e8b7b8f7940\")>"
      ]
     },
     "execution_count": 9,
     "metadata": {},
     "output_type": "execute_result"
    }
   ],
   "source": [
    "images[0]"
   ]
  },
  {
   "cell_type": "code",
   "execution_count": 10,
   "metadata": {},
   "outputs": [
    {
     "name": "stdout",
     "output_type": "stream",
     "text": [
      "https://rukminim1.flixcart.com/image/329/395/k2z1t3k0/shirt/c/r/k/38-vhsfcslpx24876-van-heusen-original-imafm7hrzxgxcdzh.jpeg?q=50\n",
      "https://rukminim1.flixcart.com/image/329/395/kddf6a80/shirt/s/1/r/44-vhsfbslp584479-van-heusen-original-imafuaexjcbvzphk.jpeg?q=50\n",
      "https://rukminim1.flixcart.com/image/329/395/jievpu80/shirt/p/q/z/xl-shirt-196-deeksha-original-imaf67nthqazxugu.jpeg?q=50\n",
      "https://rukminim1.flixcart.com/image/329/395/jqtt2fk0/shirt/r/4/h/s-fo-499-grn-5th-anfold-original-imafcr75ad4zhanb.jpeg?q=50\n",
      "https://rukminim1.flixcart.com/image/329/395/jmdrr0w0/shirt/d/p/8/3xl-fo-shrt-499-wht-5th-anfold-original-imaf9ajwdfp3qdwg.jpeg?q=50\n",
      "https://rukminim1.flixcart.com/image/329/395/k1pbpu80/shirt/h/a/s/3xl-fo-shrt-499-skyblu-5th-anfold-original-imafkhhrgtwyheda.jpeg?q=50\n",
      "https://rukminim1.flixcart.com/image/329/395/k1pbpu80/shirt/h/a/s/3xl-fo-shrt-499-skyblu-5th-anfold-original-imafkhhrgtwyheda.jpeg?q=50\n",
      "https://rukminim1.flixcart.com/image/329/395/k3orqfk0/shirt/p/5/g/40-camsfpd002-000618-cavallo-by-linen-club-original-imafmrhxdwgrnhz5.jpeg?q=50\n",
      "https://rukminim1.flixcart.com/image/329/395/jievpu80/shirt/e/y/z/s-shirt-194-deeksha-original-imaf67ntcnvx8qsc.jpeg?q=50\n",
      "https://rukminim1.flixcart.com/image/329/395/j6s7p8w0/shirt/e/j/s/46-hs2045-mr-human-steps-original-imaer6yfhyagfpu9.jpeg?q=50\n",
      "https://rukminim1.flixcart.com/image/329/395/k6dxocw0/shirt/v/5/q/46-whitehalf-avistar-original-imafzv6cevhwgyvg.jpeg?q=50\n",
      "https://rukminim1.flixcart.com/image/329/395/jmdrr0w0/shirt/g/k/e/xs-fo-shrt-499-blk-5th-anfold-original-imaf9ajwgj7hcpfv.jpeg?q=50\n",
      "https://rukminim1.flixcart.com/image/329/395/jf5plzk0/shirt/w/c/8/46-half-parrot-desh-bandhu-khadi-original-imaevg58nh5hvcps.jpeg?q=50\n",
      "https://rukminim1.flixcart.com/image/329/395/kdga1zk0/shirt/o/y/k/38-vhsfcslpr92089-van-heusen-original-imafucqcjhpggfqf.jpeg?q=50\n",
      "https://rukminim1.flixcart.com/image/329/395/jur9nrk0/shirt/t/t/u/40-rmsz08842-f4-raymond-original-imaffnc7mdjzh5fm.jpeg?q=50\n",
      "https://rukminim1.flixcart.com/image/329/395/k4vmxzk0/shirt/k/4/e/44-lpsfmclbh81169-louis-philippe-original-imafnzz22zdb27hg.jpeg?q=50\n",
      "https://rukminim1.flixcart.com/image/329/395/shirt/8/x/8/rc-42-orange-rose-wear-m-original-imaehudmzunc47x9.jpeg?q=50\n",
      "https://rukminim1.flixcart.com/image/329/395/kcgk1ow0/shirt/w/g/b/40-go471-accox-original-imafth3avwvnvsmx.jpeg?q=50\n",
      "https://rukminim1.flixcart.com/image/329/395/k0tw13k0/shirt/9/h/r/s-fo-shrt-499-drkgry-5th-anfold-original-imafkhhbgunukf9s.jpeg?q=50\n",
      "https://rukminim1.flixcart.com/image/329/395/kdga1zk0/shirt/h/m/d/38-vhsfbslbn55571-van-heusen-original-imafuczjecg8xcxx.jpeg?q=50\n",
      "https://rukminim1.flixcart.com/image/329/395/jjhglu80/shirt/x/p/a/xl-shirt-161-deeksha-original-imaf7fxfuh68gw2a.jpeg?q=50\n",
      "https://rukminim1.flixcart.com/image/329/395/jievpu80/shirt/y/p/a/m-shirt-192-deeksha-original-imaf67ntrpk5em9b.jpeg?q=50\n",
      "https://rukminim1.flixcart.com/image/329/395/k1nw9zk0/shirt/x/v/a/xl-fo-shrt-499-coper-5th-anfold-original-imafkhg4yvvjyhvr.jpeg?q=50\n",
      "https://rukminim1.flixcart.com/image/329/395/kdga1zk0/shirt/p/c/1/38-vhsfbslbw35852-van-heusen-original-imafucpgw6fm4zhz.jpeg?q=50\n",
      "https://rukminim1.flixcart.com/image/329/395/jy1v7gw0/shirt/n/h/t/42-go163-accox-original-imafgdgrzguxvmq6.jpeg?q=50\n",
      "https://rukminim1.flixcart.com/image/329/395/jf5plzk0/shirt/h/g/e/42-half-orange-desh-bandhu-khadi-original-imaevtgyv95dbtz8.jpeg?q=50\n",
      "https://rukminim1.flixcart.com/image/329/395/k7531jk0/shirt/f/f/3/36-pcsfcslpt74740-peter-england-original-imafpgeeabgzgzxz.jpeg?q=50\n",
      "https://rukminim1.flixcart.com/image/329/395/jyj0how0/shirt/u/a/q/xl-hlsh010859-highlander-original-imafgqe2hwe7jrqy.jpeg?q=50\n",
      "https://rukminim1.flixcart.com/image/329/395/kdeum4w0/shirt/b/f/s/42-pmsk11908-b5-park-avenue-original-imafubdyjfqwbfwt.jpeg?q=50\n",
      "https://rukminim1.flixcart.com/image/329/395/kdga1zk0/shirt/t/e/h/40-vhsfbslbx25586-van-heusen-original-imafucpxk92fc3pc.jpeg?q=50\n",
      "https://rukminim1.flixcart.com/image/329/395/jyafukw0/shirt/h/b/y/40-go225-accox-original-imafgjkz4ggkevkk.jpeg?q=50\n",
      "https://rukminim1.flixcart.com/image/329/395/jy4q3680/shirt/s/q/2/36-pesfmnupn97514-peter-england-original-imafgf9yj9hqk8bj.jpeg?q=50\n",
      "https://rukminim1.flixcart.com/image/329/395/juk4gi80/shirt/t/r/g/40-rmsz08843-n2-raymond-original-imaffnc6watsxvdg.jpeg?q=50\n",
      "https://rukminim1.flixcart.com/image/329/395/kcc9q4w0/shirt/i/2/d/l-ts20-youth-eleven-original-imafthzwk4cv2brc.jpeg?q=50\n",
      "https://rukminim1.flixcart.com/image/329/395/kdga1zk0/shirt/c/w/y/38-vhsfbslbd99206-van-heusen-original-imafucqyut7khjeh.jpeg?q=50\n",
      "https://rukminim1.flixcart.com/image/329/395/k391w280/shirt/9/5/x/42-lpsfmclbn35544-louis-philippe-original-imafmenfffmumphv.jpeg?q=50\n",
      "https://rukminim1.flixcart.com/image/329/395/jyafukw0/shirt/4/a/n/38-go161-accox-original-imafgkj9he3mhngf.jpeg?q=50\n",
      "https://rukminim1.flixcart.com/image/329/395/jmccb680/shirt/q/r/n/39-bp-dofc89-blue-blackberrys-original-imaf98yqff2bfzsj.jpeg?q=50\n",
      "https://rukminim1.flixcart.com/image/329/395/jydaqa80/shirt/d/h/s/44-ms-manq-original-imafgmjkfzzzwcpe.jpeg?q=50\n",
      "https://rukminim1.flixcart.com/image/329/395/k6s82vk0/shirt/g/p/q/40-vhsfbslbo98485-van-heusen-original-imafpyhpp5th3ugk.jpeg?q=50\n"
     ]
    }
   ],
   "source": [
    "urls= []\n",
    "for image in images:\n",
    "    source= image.get_attribute('src')\n",
    "    urls.append(source)\n",
    "    print(source)"
   ]
  },
  {
   "cell_type": "code",
   "execution_count": 11,
   "metadata": {},
   "outputs": [
    {
     "data": {
      "text/plain": [
       "40"
      ]
     },
     "execution_count": 11,
     "metadata": {},
     "output_type": "execute_result"
    }
   ],
   "source": [
    "len(urls)"
   ]
  },
  {
   "cell_type": "markdown",
   "metadata": {},
   "source": [
    "Step 4: Using the URLs to download images"
   ]
  },
  {
   "cell_type": "code",
   "execution_count": 12,
   "metadata": {},
   "outputs": [],
   "source": [
    "import shutil\n",
    "import requests"
   ]
  },
  {
   "cell_type": "code",
   "execution_count": 13,
   "metadata": {},
   "outputs": [
    {
     "name": "stdout",
     "output_type": "stream",
     "text": [
      "Downloading 1 of 40 images from page 1\n",
      "Downloading 2 of 40 images from page 1\n",
      "Downloading 3 of 40 images from page 1\n",
      "Downloading 4 of 40 images from page 1\n",
      "Downloading 5 of 40 images from page 1\n",
      "Downloading 6 of 40 images from page 1\n",
      "Downloading 7 of 40 images from page 1\n",
      "Downloading 8 of 40 images from page 1\n",
      "Downloading 9 of 40 images from page 1\n",
      "Downloading 10 of 40 images from page 1\n",
      "Downloading 11 of 40 images from page 1\n",
      "Downloading 12 of 40 images from page 1\n",
      "Downloading 13 of 40 images from page 1\n",
      "Downloading 14 of 40 images from page 1\n",
      "Downloading 15 of 40 images from page 1\n",
      "Downloading 16 of 40 images from page 1\n",
      "Downloading 17 of 40 images from page 1\n",
      "Downloading 18 of 40 images from page 1\n",
      "Downloading 19 of 40 images from page 1\n",
      "Downloading 20 of 40 images from page 1\n",
      "Downloading 21 of 40 images from page 1\n",
      "Downloading 22 of 40 images from page 1\n",
      "Downloading 23 of 40 images from page 1\n",
      "Downloading 24 of 40 images from page 1\n",
      "Downloading 25 of 40 images from page 1\n",
      "Downloading 26 of 40 images from page 1\n",
      "Downloading 27 of 40 images from page 1\n",
      "Downloading 28 of 40 images from page 1\n",
      "Downloading 29 of 40 images from page 1\n",
      "Downloading 30 of 40 images from page 1\n",
      "Downloading 31 of 40 images from page 1\n",
      "Downloading 32 of 40 images from page 1\n",
      "Downloading 33 of 40 images from page 1\n",
      "Downloading 34 of 40 images from page 1\n",
      "Downloading 35 of 40 images from page 1\n",
      "Downloading 36 of 40 images from page 1\n",
      "Downloading 37 of 40 images from page 1\n",
      "Downloading 38 of 40 images from page 1\n",
      "Downloading 39 of 40 images from page 1\n",
      "Downloading 40 of 40 images from page 1\n"
     ]
    }
   ],
   "source": [
    "page=1\n",
    "for index, link in enumerate(urls):\n",
    "    print(\"Downloading {0} of {1} images from page 1\".format(index+1, len(urls)))\n",
    "    response= requests.get(link)\n",
    "    with open('Shirts/img_{0}{1}.jpeg'.format(index, page), \"wb\") as file:\n",
    "        file.write(response.content)"
   ]
  },
  {
   "cell_type": "markdown",
   "metadata": {},
   "source": [
    "Step 5: Moving to the next page"
   ]
  },
  {
   "cell_type": "code",
   "execution_count": 14,
   "metadata": {},
   "outputs": [],
   "source": [
    "# Now we find the 'Next' button using x_path and using selenium we click it\n",
    "next_page= driver.find_element_by_xpath(\"//a[@class='_3fVaIS']\").click()"
   ]
  },
  {
   "cell_type": "code",
   "execution_count": 15,
   "metadata": {},
   "outputs": [],
   "source": [
    "# Following the same steps from step 3 onwards.\n",
    "images= driver.find_elements_by_xpath(\"//img[@class='_3togXc']\")"
   ]
  },
  {
   "cell_type": "code",
   "execution_count": 16,
   "metadata": {},
   "outputs": [
    {
     "name": "stdout",
     "output_type": "stream",
     "text": [
      "https://rukminim1.flixcart.com/image/329/395/k12go7k0/shirt/q/g/d/44-vhsftslfg38660-van-heusen-original-imafkzshganr2yfa.jpeg?q=50\n",
      "https://rukminim1.flixcart.com/image/329/395/k2p1q4w0/shirt/w/v/6/44-go29-accox-original-imafhzpshmx6ffht.jpeg?q=50\n",
      "https://rukminim1.flixcart.com/image/329/395/k0tw13k0/shirt/9/h/r/s-fo-shrt-499-drkgry-5th-anfold-original-imafkhhbgunukf9s.jpeg?q=50\n",
      "https://rukminim1.flixcart.com/image/329/395/k2z1t3k0/shirt/c/r/k/38-vhsfcslpx24876-van-heusen-original-imafm7hrzxgxcdzh.jpeg?q=50\n",
      "https://rukminim1.flixcart.com/image/329/395/j7w813k0/shirt/a/k/8/40-vhsh1m100212-van-heusen-original-imaeyf6hah52f9pv.jpeg?q=50\n",
      "https://rukminim1.flixcart.com/image/329/395/jy4q3680/shirt/a/g/h/40-afxsh0351-arrow-original-imafgfuzqs6ye5eb.jpeg?q=50\n",
      "https://rukminim1.flixcart.com/image/329/395/kcrzki80/shirt/v/b/o/38-pcsfcslp062506-peter-england-original-imaftufxbd64srhw.jpeg?q=50\n",
      "https://rukminim1.flixcart.com/image/329/395/kdhphu80/shirt/d/o/t/40-441001779-darkred40-john-players-original-imafudt8pp3r9hde.jpeg?q=50\n",
      "https://rukminim1.flixcart.com/image/329/395/k8ndrww0/shirt/9/g/2/m-pz-3144-peppyzone-original-imafqhkjswexzg2f.jpeg?q=50\n",
      "https://rukminim1.flixcart.com/image/329/395/kddf6a80/shirt/s/1/r/44-vhsfbslp584479-van-heusen-original-imafuaexjcbvzphk.jpeg?q=50\n",
      "https://rukminim1.flixcart.com/image/329/395/k5wse4w0/shirt/y/w/d/39-bfdrkgrnsht02ab-being-fab-original-imaf575h3grgazha.jpeg?q=50\n",
      "https://rukminim1.flixcart.com/image/329/395/jz1l7rk0/shirt/f/b/h/36-pesfmnupm62450-peter-england-original-imafj595pnygsggq.jpeg?q=50\n",
      "https://rukminim1.flixcart.com/image/329/395/jx257680/shirt/b/8/q/40-rmsz09226-w0-raymond-original-imafhm5ygsumh3qg.jpeg?q=50\n",
      "https://rukminim1.flixcart.com/image/329/395/kdga1zk0/shirt/o/y/k/38-vhsfcslpr92089-van-heusen-original-imafucqcjhpggfqf.jpeg?q=50\n",
      "https://rukminim1.flixcart.com/image/329/395/jr0y9ow0/shirt/8/z/h/40-psf318008366-peter-england-original-imafcwyduetf4b4h.jpeg?q=50\n",
      "https://rukminim1.flixcart.com/image/329/395/jur9nrk0/shirt/j/h/z/39-pmsx12580-b4-park-avenue-original-imaffnc6nugj39dv.jpeg?q=50\n",
      "https://rukminim1.flixcart.com/image/329/395/ju4em4w0/shirt/c/e/s/40-rmsz08918-n3-raymond-original-imaff8m6ebqzhd7y.jpeg?q=50\n",
      "https://rukminim1.flixcart.com/image/329/395/k4x2du80/shirt/v/s/7/40-rmsz09952-g5-raymond-original-imafnpn7zvkkzbdk.jpeg?q=50\n",
      "https://rukminim1.flixcart.com/image/329/395/k1v1h8w0/shirt/x/a/j/44-lysfmsspt64675-louis-philippe-original-imafhb8vey5h8mdt.jpeg?q=50\n",
      "https://rukminim1.flixcart.com/image/329/395/kdga1zk0/shirt/h/m/d/38-vhsfbslbn55571-van-heusen-original-imafuczjecg8xcxx.jpeg?q=50\n",
      "https://rukminim1.flixcart.com/image/329/395/k13w4280/shirt/q/7/m/38-pesfmnupp42067-peter-england-original-imafknkfcjwkk6pp.jpeg?q=50\n",
      "https://rukminim1.flixcart.com/image/329/395/kdeum4w0/shirt/s/b/6/39-pmsk11906-w1-park-avenue-original-imafubkzux3duv28.jpeg?q=50\n",
      "https://rukminim1.flixcart.com/image/329/395/jmdrr0w0/shirt/n/u/j/xs-fo-shrt-499-nav-5th-anfold-original-imaf9ajw36pfnyvf.jpeg?q=50\n",
      "https://rukminim1.flixcart.com/image/329/395/kdga1zk0/shirt/p/c/1/38-vhsfbslbw35852-van-heusen-original-imafucpgw6fm4zhz.jpeg?q=50\n",
      "https://rukminim1.flixcart.com/image/329/395/jh9fy4w0/shirt/8/g/c/s-pblue39-trendz-deeksha-original-imaenq8jg9fsssnk.jpeg?q=50\n",
      "https://rukminim1.flixcart.com/image/329/395/k3orqfk0/shirt/z/r/y/48-pesfmslfw34491-peter-england-original-imafmr59y7hdyhcb.jpeg?q=50\n",
      "https://rukminim1.flixcart.com/image/329/395/ju4em4w0/shirt/j/f/8/40-rmsz08863-b4-raymond-original-imaff8m6xpmghttf.jpeg?q=50\n",
      "https://rukminim1.flixcart.com/image/329/395/k5e7o280/shirt/u/4/v/40-afyosh1018-arrow-original-imafz2q79maxgtgz.jpeg?q=50\n",
      "https://rukminim1.flixcart.com/image/329/395/jpvihzk0/shirt/d/8/g/xs-fo-shrt-499-ltblu-5th-anfold-original-imafbzk65zfm976m.jpeg?q=50\n",
      "https://rukminim1.flixcart.com/image/329/395/kdga1zk0/shirt/t/e/h/40-vhsfbslbx25586-van-heusen-original-imafucpxk92fc3pc.jpeg?q=50\n",
      "https://rukminim1.flixcart.com/image/329/395/k687wy80/shirt/d/e/2/50-bfbbluesht02a-being-fab-original-imaf575habh6ghng.jpeg?q=50\n",
      "https://rukminim1.flixcart.com/image/329/395/kd7pevk0/shirt/3/y/o/xl-ufsh0773-u-s-polo-association-original-imafu5rhmyk7x72t.jpeg?q=50\n",
      "https://rukminim1.flixcart.com/image/329/395/shirt/g/h/s/501-pink-mint-mesh-42-original-imaeh9yzfdpgdzxc.jpeg?q=50\n",
      "https://rukminim1.flixcart.com/image/329/395/k6s82vk0/shirt/g/p/q/40-vhsfbslbo98485-van-heusen-original-imafpyhpp5th3ugk.jpeg?q=50\n",
      "https://rukminim1.flixcart.com/image/329/395/juljwcw0/shirt/2/h/n/40-rmsz08848-b6-raymond-original-imaffzzjmf2ec5kj.jpeg?q=50\n",
      "https://rukminim1.flixcart.com/image/329/395/k79dd3k0/shirt/h/w/g/44-pesfmslpx15813-peter-england-original-imafpjk2mvmyeyst.jpeg?q=50\n",
      "https://rukminim1.flixcart.com/image/329/395/k0y6cnk0/shirt/k/v/y/5xl-fo-hlf-cmnt-5th-anfold-original-imafkg6xr6zr5kpq.jpeg?q=50\n",
      "https://rukminim1.flixcart.com/image/329/395/k868how0/shirt/d/w/f/36-pesfmnups25854-peter-england-original-imafq8xt6zg4gcby.jpeg?q=50\n",
      "https://rukminim1.flixcart.com/image/329/395/jv19qq80/shirt/w/c/z/l-dhs-combo-100-deeksha-clothing-original-imaffyz4dykyg3az.jpeg?q=50\n",
      "https://rukminim1.flixcart.com/image/329/395/kcc9q4w0/shirt/i/2/d/l-ts20-youth-eleven-original-imafthzwk4cv2brc.jpeg?q=50\n"
     ]
    }
   ],
   "source": [
    "urls= []\n",
    "for image in images:\n",
    "    source= image.get_attribute('src')\n",
    "    urls.append(source)\n",
    "    print(source)"
   ]
  },
  {
   "cell_type": "code",
   "execution_count": 17,
   "metadata": {
    "scrolled": false
   },
   "outputs": [
    {
     "name": "stdout",
     "output_type": "stream",
     "text": [
      "Downloading 1 of 40 images from page 2\n",
      "Downloading 2 of 40 images from page 2\n",
      "Downloading 3 of 40 images from page 2\n",
      "Downloading 4 of 40 images from page 2\n",
      "Downloading 5 of 40 images from page 2\n",
      "Downloading 6 of 40 images from page 2\n",
      "Downloading 7 of 40 images from page 2\n",
      "Downloading 8 of 40 images from page 2\n",
      "Downloading 9 of 40 images from page 2\n",
      "Downloading 10 of 40 images from page 2\n",
      "Downloading 11 of 40 images from page 2\n",
      "Downloading 12 of 40 images from page 2\n",
      "Downloading 13 of 40 images from page 2\n",
      "Downloading 14 of 40 images from page 2\n",
      "Downloading 15 of 40 images from page 2\n",
      "Downloading 16 of 40 images from page 2\n",
      "Downloading 17 of 40 images from page 2\n",
      "Downloading 18 of 40 images from page 2\n",
      "Downloading 19 of 40 images from page 2\n",
      "Downloading 20 of 40 images from page 2\n",
      "Downloading 21 of 40 images from page 2\n",
      "Downloading 22 of 40 images from page 2\n",
      "Downloading 23 of 40 images from page 2\n",
      "Downloading 24 of 40 images from page 2\n",
      "Downloading 25 of 40 images from page 2\n",
      "Downloading 26 of 40 images from page 2\n",
      "Downloading 27 of 40 images from page 2\n",
      "Downloading 28 of 40 images from page 2\n",
      "Downloading 29 of 40 images from page 2\n",
      "Downloading 30 of 40 images from page 2\n",
      "Downloading 31 of 40 images from page 2\n",
      "Downloading 32 of 40 images from page 2\n",
      "Downloading 33 of 40 images from page 2\n",
      "Downloading 34 of 40 images from page 2\n",
      "Downloading 35 of 40 images from page 2\n",
      "Downloading 36 of 40 images from page 2\n",
      "Downloading 37 of 40 images from page 2\n",
      "Downloading 38 of 40 images from page 2\n",
      "Downloading 39 of 40 images from page 2\n",
      "Downloading 40 of 40 images from page 2\n"
     ]
    }
   ],
   "source": [
    "# Changing for page 2\n",
    "page=2\n",
    "for index, link in enumerate(urls):\n",
    "    print(\"Downloading {0} of {1} images from page 2\".format(index+1, len(urls)))\n",
    "    response= requests.get(link)\n",
    "    with open('Shirts/img_{0}{1}.jpeg'.format(index, page), \"wb\") as file:\n",
    "        file.write(response.content)"
   ]
  },
  {
   "cell_type": "markdown",
   "metadata": {},
   "source": [
    "Step 6: Moving to the next page"
   ]
  },
  {
   "cell_type": "code",
   "execution_count": 18,
   "metadata": {},
   "outputs": [],
   "source": [
    "# Now we find the 'Next' button using x_path and using selenium we click it\n",
    "next_page= driver.find_element_by_xpath(\"//a[@class='_3fVaIS']\").click()"
   ]
  },
  {
   "cell_type": "code",
   "execution_count": 19,
   "metadata": {},
   "outputs": [],
   "source": [
    "# Following the same steps from step 3 onwards.\n",
    "images= driver.find_elements_by_xpath(\"//img[@class='_3togXc']\")"
   ]
  },
  {
   "cell_type": "code",
   "execution_count": 20,
   "metadata": {},
   "outputs": [
    {
     "name": "stdout",
     "output_type": "stream",
     "text": [
      "https://rukminim1.flixcart.com/image/329/395/k0plpjk0/shirt/z/y/b/5xl-fo-hlf-skyblu-5th-anfold-original-imafkg2mqjavcesz.jpeg?q=50\n",
      "https://rukminim1.flixcart.com/image/329/395/jyj0how0/shirt/e/f/n/44-pcsfcsspe65452-peter-england-original-imafgjzftcgxyhhd.jpeg?q=50\n",
      "https://rukminim1.flixcart.com/image/329/395/jxw5g280/shirt/w/b/2/40-pesfmnupm82637-peter-england-original-imafg9gnw6shjrh9.jpeg?q=50\n",
      "https://rukminim1.flixcart.com/image/329/395/kcdp5zk0/shirt/f/h/n/l-ts28-youth-eleven-original-imafsu7xttn6tsaf.jpeg?q=50\n",
      "https://rukminim1.flixcart.com/image/329/395/k3j1z0w0/shirt/x/f/z/4xl-fo-chns-pnk-5th-anfold-original-imafmmughtqshwdv.jpeg?q=50\n",
      "https://rukminim1.flixcart.com/image/329/395/k4hcjgw0/shirt/h/2/d/40-rmsz09933-b4-raymond-original-imafnaccvu5hcyz5.jpeg?q=50\n",
      "https://rukminim1.flixcart.com/image/329/395/k5e7o280/shirt/y/r/4/42-pmsx13645-b2-park-avenue-original-imafz3yw6hfgccra.jpeg?q=50\n",
      "https://rukminim1.flixcart.com/image/329/395/k4324y80/shirt/r/m/z/38-fq120-finivo-fashion-original-imafn2gfyxehnekh.jpeg?q=50\n",
      "https://rukminim1.flixcart.com/image/329/395/k12go7k0/shirt/r/4/x/36-areis0362a-arrow-original-imafj428cddh4ghb.jpeg?q=50\n",
      "https://rukminim1.flixcart.com/image/329/395/kcc9q4w0/shirt/o/r/d/m-ts21-youth-eleven-original-imafthpuyde45hmv.jpeg?q=50\n",
      "https://rukminim1.flixcart.com/image/329/395/k79dd3k0/shirt/n/f/b/42-peshmnufv20476-peter-england-original-imafpjjyywadaq46.jpeg?q=50\n",
      "https://rukminim1.flixcart.com/image/329/395/k79dd3k0/shirt/2/5/h/39-pesfmslpz63173-peter-england-original-imafpjk89huzywgh.jpeg?q=50\n",
      "https://rukminim1.flixcart.com/image/329/395/k612pow0/shirt/7/6/j/39-pesfmslp428984-peter-england-original-imafzkqkyjykadjs.jpeg?q=50\n",
      "https://rukminim1.flixcart.com/image/329/395/k40798w0/shirt/g/2/x/s-ufsh0701-u-s-polo-assn-original-imafmzxcnknp8h4p.jpeg?q=50\n",
      "https://rukminim1.flixcart.com/image/329/395/k0o69ow0/shirt/d/r/x/40-pesfmslp936924-peter-england-original-imafkffxd9crctsd.jpeg?q=50\n",
      "https://rukminim1.flixcart.com/image/329/395/shirt/u/v/y/rc-28-musturd-rose-wear-xl-original-imaehudmm8ghuqpz.jpeg?q=50\n",
      "https://rukminim1.flixcart.com/image/329/395/k6zda4w0/shirt/8/9/z/38-pesfmslp035701-peter-england-original-imafpbmbekyvh68q.jpeg?q=50\n",
      "https://rukminim1.flixcart.com/image/329/395/j6s7p8w0/shirt/f/j/h/44-hs2045-pr-human-steps-original-imaer6ydazpwkwph.jpeg?q=50\n",
      "https://rukminim1.flixcart.com/image/329/395/k2urhjk0/shirt/f/e/c/39-lpsfmclb242986-louis-philippe-original-imafm32s47pvsufz.jpeg?q=50\n",
      "https://rukminim1.flixcart.com/image/329/395/k41mp3k0/shirt/y/v/8/xl-ufsh0656-u-s-polo-assn-original-imafmzsbdjgdyegg.jpeg?q=50\n",
      "https://rukminim1.flixcart.com/image/329/395/k37mg7k0/shirt/v/c/d/l-rmsz09613-b6-raymond-original-imafme4tggs4etef.jpeg?q=50\n",
      "https://rukminim1.flixcart.com/image/329/395/k47cgi80/shirt/u/x/s/40-go372-accox-original-imafn5zhthhvfmzx.jpeg?q=50\n",
      "https://rukminim1.flixcart.com/image/329/395/jt7jhjk0/shirt/h/k/7/40-vhsf1m100275-van-heusen-original-imafem3mcczmy6zm.jpeg?q=50\n",
      "https://rukminim1.flixcart.com/image/329/395/k41mp3k0/shirt/z/z/z/xxl-ufsh0639-u-s-polo-assn-original-imafmzs2kkyfrqrm.jpeg?q=50\n",
      "https://rukminim1.flixcart.com/image/329/395/jjd6aa80/shirt/j/x/s/38-bfcoffisht02ab-being-fab-original-imaf6yg9ufxbpfsz.jpeg?q=50\n",
      "https://rukminim1.flixcart.com/image/329/395/kdeum4w0/shirt/m/v/y/44-440968055-camelia-john-players-original-imafubd7vghwh9rp.jpeg?q=50\n",
      "https://rukminim1.flixcart.com/image/329/395/k4ehnrk0/shirt/a/z/a/40-rmsz09829-w3-raymond-original-imafna99qyut8f2z.jpeg?q=50\n",
      "https://rukminim1.flixcart.com/image/329/395/jq5iky80/shirt/k/k/g/44-bfyelwsht02ab-being-fab-original-imaefhtgua5ydzue.jpeg?q=50\n",
      "https://rukminim1.flixcart.com/image/329/395/kcxpbww0/shirt/c/v/f/40-go474-accox-original-imaftxnyuymwtrpc.jpeg?q=50\n",
      "https://rukminim1.flixcart.com/image/329/395/k41mp3k0/shirt/8/k/u/3xl-ufsh0705-u-s-polo-assn-original-imafmztg8yyat9n2.jpeg?q=50\n",
      "https://rukminim1.flixcart.com/image/329/395/k4irzbk0/shirt/r/z/n/42-pcsfcslpk21134-peter-england-original-imafnettfrwtgwrt.jpeg?q=50\n",
      "https://rukminim1.flixcart.com/image/329/395/k5wse4w0/shirt/6/8/g/48-bfnbsht02ab-being-fab-original-imaf575hw2ffewyb.jpeg?q=50\n",
      "https://rukminim1.flixcart.com/image/329/395/k1pbpu80/shirt/h/g/v/l-fo-shrt-499-cmnt-5th-anfold-original-imafkhgxzg9dfmwk.jpeg?q=50\n",
      "https://rukminim1.flixcart.com/image/329/395/k40798w0/shirt/q/n/v/3xl-ufsh0663-u-s-polo-assn-original-imafmzvxudgqmc6x.jpeg?q=50\n",
      "https://rukminim1.flixcart.com/image/329/395/ju04akw0/shirt/2/p/x/40-pmsx12643-b8-park-avenue-original-imaff8hxj66dp8hh.jpeg?q=50\n",
      "https://rukminim1.flixcart.com/image/329/395/jvy4vbk0/shirt/m/c/b/40-peshmslfo25642-peter-england-original-imafgqgmarfnmhgu.jpeg?q=50\n",
      "https://rukminim1.flixcart.com/image/329/395/kdga1zk0/shirt/j/a/n/46-vhsfcslpy27314-van-heusen-original-imafucqfyhcunk53.jpeg?q=50\n",
      "https://rukminim1.flixcart.com/image/329/395/jksm4y80/shirt/f/z/6/xl-fo-hlf-wht-5th-anfold-original-imaf7z8fku2uyfb9.jpeg?q=50\n",
      "https://rukminim1.flixcart.com/image/329/395/js23pu80/shirt/u/u/c/m-vr-fm04-vero-lie-original-imafdm7bu75hffx3.jpeg?q=50\n",
      "https://rukminim1.flixcart.com/image/329/395/jsm3vrk0/shirt/c/f/e/42-ms-manq-original-imafe5k8uu3zcx54.jpeg?q=50\n"
     ]
    }
   ],
   "source": [
    "urls= []\n",
    "for image in images:\n",
    "    source= image.get_attribute('src')\n",
    "    urls.append(source)\n",
    "    print(source)"
   ]
  },
  {
   "cell_type": "code",
   "execution_count": 21,
   "metadata": {
    "scrolled": false
   },
   "outputs": [
    {
     "name": "stdout",
     "output_type": "stream",
     "text": [
      "Downloading 1 of 40 images from page 3\n",
      "Downloading 2 of 40 images from page 3\n",
      "Downloading 3 of 40 images from page 3\n",
      "Downloading 4 of 40 images from page 3\n",
      "Downloading 5 of 40 images from page 3\n",
      "Downloading 6 of 40 images from page 3\n",
      "Downloading 7 of 40 images from page 3\n",
      "Downloading 8 of 40 images from page 3\n",
      "Downloading 9 of 40 images from page 3\n",
      "Downloading 10 of 40 images from page 3\n",
      "Downloading 11 of 40 images from page 3\n",
      "Downloading 12 of 40 images from page 3\n",
      "Downloading 13 of 40 images from page 3\n",
      "Downloading 14 of 40 images from page 3\n",
      "Downloading 15 of 40 images from page 3\n",
      "Downloading 16 of 40 images from page 3\n",
      "Downloading 17 of 40 images from page 3\n",
      "Downloading 18 of 40 images from page 3\n",
      "Downloading 19 of 40 images from page 3\n",
      "Downloading 20 of 40 images from page 3\n",
      "Downloading 21 of 40 images from page 3\n",
      "Downloading 22 of 40 images from page 3\n",
      "Downloading 23 of 40 images from page 3\n",
      "Downloading 24 of 40 images from page 3\n",
      "Downloading 25 of 40 images from page 3\n",
      "Downloading 26 of 40 images from page 3\n",
      "Downloading 27 of 40 images from page 3\n",
      "Downloading 28 of 40 images from page 3\n",
      "Downloading 29 of 40 images from page 3\n",
      "Downloading 30 of 40 images from page 3\n",
      "Downloading 31 of 40 images from page 3\n",
      "Downloading 32 of 40 images from page 3\n",
      "Downloading 33 of 40 images from page 3\n",
      "Downloading 34 of 40 images from page 3\n",
      "Downloading 35 of 40 images from page 3\n",
      "Downloading 36 of 40 images from page 3\n",
      "Downloading 37 of 40 images from page 3\n",
      "Downloading 38 of 40 images from page 3\n",
      "Downloading 39 of 40 images from page 3\n",
      "Downloading 40 of 40 images from page 3\n"
     ]
    }
   ],
   "source": [
    "# Changing for page 3\n",
    "page=3\n",
    "for index, link in enumerate(urls):\n",
    "    print(\"Downloading {0} of {1} images from page 3\".format(index+1, len(urls)))\n",
    "    response= requests.get(link)\n",
    "    with open('Shirts/img_{0}{1}.jpeg'.format(index, page), \"wb\") as file:\n",
    "        file.write(response.content)"
   ]
  },
  {
   "cell_type": "code",
   "execution_count": 22,
   "metadata": {},
   "outputs": [],
   "source": [
    "# Now we find the 'Next' button using x_path and using selenium we click it\n",
    "next_page= driver.find_element_by_xpath(\"//a[@class='_3fVaIS']\").click()"
   ]
  },
  {
   "cell_type": "code",
   "execution_count": 25,
   "metadata": {},
   "outputs": [],
   "source": [
    "# Following the same steps from step 3 onwards.\n",
    "images= driver.find_elements_by_xpath(\"//img[@class='_3togXc']\")"
   ]
  },
  {
   "cell_type": "code",
   "execution_count": 26,
   "metadata": {},
   "outputs": [
    {
     "name": "stdout",
     "output_type": "stream",
     "text": [
      "https://rukminim1.flixcart.com/image/329/395/jkim1zk0/shirt/s/g/b/xl-hstrrwhite-dgnt-denim-original-imaf4zyeacaaayte.jpeg?q=50\n",
      "https://rukminim1.flixcart.com/image/329/395/shirt/j/b/s/rc-33-sky-rose-wear-s-original-imaehudm7fze8bpq.jpeg?q=50\n",
      "https://rukminim1.flixcart.com/image/329/395/j2ur3ww0/shirt/t/m/j/40-9336tblue-hancock-original-imaeuytw7mxftgma.jpeg?q=50\n",
      "https://rukminim1.flixcart.com/image/329/395/k41mp3k0/shirt/a/x/t/l-ufsh0696-u-s-polo-assn-original-imafmzs6hbfzhwjv.jpeg?q=50\n",
      "https://rukminim1.flixcart.com/image/329/395/jvgzl3k0/shirt/6/y/w/42-pjsfjssfg80336-peter-england-original-imafgdhyapz33tvs.jpeg?q=50\n",
      "https://rukminim1.flixcart.com/image/329/395/jjbqufk0/shirt/c/v/s/l-black1248-royal-attire-original-imaf3csrrfctyzfr.jpeg?q=50\n",
      "https://rukminim1.flixcart.com/image/329/395/k4hcjgw0/shirt/w/a/k/40-rmsz09835-e4-raymond-original-imafnactgm7gwrwb.jpeg?q=50\n",
      "https://rukminim1.flixcart.com/image/329/395/k4x2du80/shirt/p/q/8/40-rmsz09860-p4-raymond-original-imafnp3avrsnxpkz.jpeg?q=50\n",
      "https://rukminim1.flixcart.com/image/329/395/jxuq07k0/shirt/s/x/m/40-pesfmnuph88565-peter-england-original-imafg7fknhhdnjua.jpeg?q=50\n",
      "https://rukminim1.flixcart.com/image/329/395/jzsqky80/shirt/4/t/g/44-276227741-excalibur-original-imafjprdhy2b2uv4.jpeg?q=50\n",
      "https://rukminim1.flixcart.com/image/329/395/ju1jqfk0/shirt/q/z/a/40-rmsz08866-e6-raymond-original-imaff9pbansy7gyh.jpeg?q=50\n",
      "https://rukminim1.flixcart.com/image/329/395/js23pu80/shirt/u/u/c/m-vr-fm04-vero-lie-original-imafdm7bu75hffx3.jpeg?q=50\n",
      "https://rukminim1.flixcart.com/image/329/395/jmmce4w0/shirt/e/h/8/xl-dcs-13-deeksha-original-imaf99hnhgxkt6bj.jpeg?q=50\n",
      "https://rukminim1.flixcart.com/image/329/395/jnc2bgw0/shirt/e/v/h/42-276432779-white-excalibur-original-imafafshwfxms3pm.jpeg?q=50\n",
      "https://rukminim1.flixcart.com/image/329/395/ka5oia80/shirt/h/t/j/44-ar739810-arihant-original-imafrsp9dfhbbr4t.jpeg?q=50\n",
      "https://rukminim1.flixcart.com/image/329/395/kc9eufk0/shirt/c/k/b/40-afyosh1040-arrow-original-imaftfgtd8jfdz2u.jpeg?q=50\n",
      "https://rukminim1.flixcart.com/image/329/395/kc29n680/shirt/d/o/s/40-10-manq-original-imaft9x38vywgkxm.jpeg?q=50\n",
      "https://rukminim1.flixcart.com/image/329/395/jo62kcw0/shirt/k/9/r/46-rmsx05909-w3-raymond-original-imafazpqa7dafjgj.jpeg?q=50\n",
      "https://rukminim1.flixcart.com/image/329/395/k7gikcw0/shirt/g/y/q/xxl-1af-p2-purple-2020-one-abovefashion-original-imafpz7c5ht7m8fg.jpeg?q=50\n",
      "https://rukminim1.flixcart.com/image/329/395/k40798w0/shirt/7/r/e/xl-ufsh0646-u-s-polo-assn-original-imafmzsfw7wvrypd.jpeg?q=50\n",
      "https://rukminim1.flixcart.com/image/329/395/jjn6d8w0/shirt/r/q/p/46-psf1041601012-peter-england-original-imaeduzhxyqg9ac6.jpeg?q=50\n",
      "https://rukminim1.flixcart.com/image/329/395/ju4em4w0/shirt/2/e/g/40-rmsz08875-n3-raymond-original-imaff8nautyvzwvt.jpeg?q=50\n",
      "https://rukminim1.flixcart.com/image/329/395/k4x2du80/shirt/r/s/h/40-rmsz09951-b5-raymond-original-imafnp8ntnungedh.jpeg?q=50\n",
      "https://rukminim1.flixcart.com/image/329/395/k40798w0/shirt/n/d/z/3xl-ufsh0608-u-s-polo-assn-original-imafmzseyufyy7cu.jpeg?q=50\n",
      "https://rukminim1.flixcart.com/image/329/395/k0plpjk0/shirt/q/e/b/42-pesfmslpx53878-peter-england-original-imafkfbgyb2tufpn.jpeg?q=50\n",
      "https://rukminim1.flixcart.com/image/329/395/jvsf3ww0/shirt/2/d/y/s-shirt-817-dikshaa-original-imafdve5qfzhhyhg.jpeg?q=50\n",
      "https://rukminim1.flixcart.com/image/329/395/kcxpbww0/shirt/e/1/9/42-go472-accox-original-imaftxzzdmpjf6rd.jpeg?q=50\n",
      "https://rukminim1.flixcart.com/image/329/395/ka5oia80/shirt/q/m/c/44-ar739823-arihant-original-imafrsp9a7yhfju5.jpeg?q=50\n",
      "https://rukminim1.flixcart.com/image/329/395/jxf05u80/shirt/e/7/s/46-pmsx11996-w1-park-avenue-original-imafhvzgchtvvuqz.jpeg?q=50\n",
      "https://rukminim1.flixcart.com/image/329/395/kb3z2q80/shirt/2/y/v/xl-afsh001wh42-a-forean-original-imafsggcxbhjzxzj.jpeg?q=50\n",
      "https://rukminim1.flixcart.com/image/329/395/k6wiefk0/shirt/3/m/s/46-g0162-accox-original-imafp9bbjhhdygvr.jpeg?q=50\n",
      "https://rukminim1.flixcart.com/image/329/395/k13w4280/shirt/v/g/u/46-pesfmnufk06126-peter-england-original-imafkngz6zwyhwzd.jpeg?q=50\n",
      "https://rukminim1.flixcart.com/image/329/395/k55n0y80/shirt/h/z/f/44-pesfmslfw63079-peter-england-original-imafn73ffygnauww.jpeg?q=50\n",
      "https://rukminim1.flixcart.com/image/329/395/jmwch3k0/shirt/y/7/f/m-ufsh0385-u-s-polo-assn-original-imaf9peqepm5thpv.jpeg?q=50\n",
      "https://rukminim1.flixcart.com/image/329/395/k3orqfk0/shirt/e/d/m/40-rmsz09645-b2-raymond-original-imafmqd3jxnwzfkx.jpeg?q=50\n",
      "https://rukminim1.flixcart.com/image/329/395/jmux18w0/shirt/t/w/s/42-anwsh1079-arrow-new-york-original-imaf9zjgq9zpja8b.jpeg?q=50\n",
      "https://rukminim1.flixcart.com/image/329/395/k2krekw0/shirt/z/t/g/40-rmsz07929-b9-raymond-original-imafhrfydfzkdcg7.jpeg?q=50\n",
      "https://rukminim1.flixcart.com/image/329/395/k55n0y80/shirt/n/b/g/40-rmsz09955-g4-raymond-original-imafnunc7cdm3tyn.jpeg?q=50\n",
      "https://rukminim1.flixcart.com/image/329/395/jyhl1u80/shirt/v/e/h/42-lysfwslpb08793-louis-philippe-original-imafggb7cwcfmqba.jpeg?q=50\n",
      "https://rukminim1.flixcart.com/image/329/395/k41mp3k0/shirt/b/h/5/s-ufsh0662-u-s-polo-assn-original-imafmzsfjnu8ww5s.jpeg?q=50\n"
     ]
    }
   ],
   "source": [
    "urls= []\n",
    "for image in images:\n",
    "    source= image.get_attribute('src')\n",
    "    urls.append(source)\n",
    "    print(source)"
   ]
  },
  {
   "cell_type": "code",
   "execution_count": 27,
   "metadata": {},
   "outputs": [
    {
     "name": "stdout",
     "output_type": "stream",
     "text": [
      "Downloading 1 of 40 images from page 4\n",
      "Downloading 2 of 40 images from page 4\n",
      "Downloading 3 of 40 images from page 4\n",
      "Downloading 4 of 40 images from page 4\n",
      "Downloading 5 of 40 images from page 4\n",
      "Downloading 6 of 40 images from page 4\n",
      "Downloading 7 of 40 images from page 4\n",
      "Downloading 8 of 40 images from page 4\n",
      "Downloading 9 of 40 images from page 4\n",
      "Downloading 10 of 40 images from page 4\n",
      "Downloading 11 of 40 images from page 4\n",
      "Downloading 12 of 40 images from page 4\n",
      "Downloading 13 of 40 images from page 4\n",
      "Downloading 14 of 40 images from page 4\n",
      "Downloading 15 of 40 images from page 4\n",
      "Downloading 16 of 40 images from page 4\n",
      "Downloading 17 of 40 images from page 4\n",
      "Downloading 18 of 40 images from page 4\n",
      "Downloading 19 of 40 images from page 4\n",
      "Downloading 20 of 40 images from page 4\n",
      "Downloading 21 of 40 images from page 4\n",
      "Downloading 22 of 40 images from page 4\n",
      "Downloading 23 of 40 images from page 4\n",
      "Downloading 24 of 40 images from page 4\n",
      "Downloading 25 of 40 images from page 4\n",
      "Downloading 26 of 40 images from page 4\n",
      "Downloading 27 of 40 images from page 4\n",
      "Downloading 28 of 40 images from page 4\n",
      "Downloading 29 of 40 images from page 4\n",
      "Downloading 30 of 40 images from page 4\n",
      "Downloading 31 of 40 images from page 4\n",
      "Downloading 32 of 40 images from page 4\n",
      "Downloading 33 of 40 images from page 4\n",
      "Downloading 34 of 40 images from page 4\n",
      "Downloading 35 of 40 images from page 4\n",
      "Downloading 36 of 40 images from page 4\n",
      "Downloading 37 of 40 images from page 4\n",
      "Downloading 38 of 40 images from page 4\n",
      "Downloading 39 of 40 images from page 4\n",
      "Downloading 40 of 40 images from page 4\n"
     ]
    }
   ],
   "source": [
    "# Changing for page 4\n",
    "page=4\n",
    "for index, link in enumerate(urls):\n",
    "    print(\"Downloading {0} of {1} images from page 4\".format(index+1, len(urls)))\n",
    "    response= requests.get(link)\n",
    "    with open('Shirts/img_{0}{1}.jpeg'.format(index, page), \"wb\") as file:\n",
    "        file.write(response.content)"
   ]
  },
  {
   "cell_type": "code",
   "execution_count": 30,
   "metadata": {},
   "outputs": [],
   "source": [
    "# Now we find the 'Next' button using x_path and using selenium we click it\n",
    "next_page= driver.find_element_by_xpath(\"//a[@class='_3fVaIS']\").click()"
   ]
  },
  {
   "cell_type": "code",
   "execution_count": 31,
   "metadata": {},
   "outputs": [],
   "source": [
    "# Following the same steps from step 3 onwards.\n",
    "images= driver.find_elements_by_xpath(\"//img[@class='_3togXc']\")"
   ]
  },
  {
   "cell_type": "code",
   "execution_count": 32,
   "metadata": {},
   "outputs": [
    {
     "name": "stdout",
     "output_type": "stream",
     "text": [
      "https://rukminim1.flixcart.com/image/329/395/kdeum4w0/shirt/o/q/f/42-440968052-placid-blue-john-players-original-imafubd27xftzthg.jpeg?q=50\n",
      "https://rukminim1.flixcart.com/image/329/395/kctf0cw0/shirt/i/k/n/46-pesfmnupp76752-peter-england-original-imaftuxkyxj2c9fy.jpeg?q=50\n",
      "https://rukminim1.flixcart.com/image/329/395/k6s82vk0/shirt/x/s/s/40-vhsfbslbb37489-van-heusen-original-imafp3m29aj8ypgp.jpeg?q=50\n",
      "https://rukminim1.flixcart.com/image/329/395/kcdp5zk0/shirt/l/q/o/l-ts35-youth-eleven-original-imaftgnkc4dchfzb.jpeg?q=50\n",
      "https://rukminim1.flixcart.com/image/329/395/k05ljm80/shirt/d/t/h/46-pesfmslpf69862-peter-england-original-imafjzygd6uvrcdd.jpeg?q=50\n",
      "https://rukminim1.flixcart.com/image/329/395/k5h2jrk0/shirt/p/k/p/46-lpsfmslfj16519-louis-philippe-original-imafz4u834cbxg32.jpeg?q=50\n",
      "https://rukminim1.flixcart.com/image/329/395/ju4em4w0/shirt/y/h/m/40-pmsx12544-r5-park-avenue-original-imaff8ncck2x6mnh.jpeg?q=50\n",
      "https://rukminim1.flixcart.com/image/329/395/jksm4y80/shirt/b/c/s/5xl-fo-hlf-blk-5th-anfold-original-imaf7z8fjyqanymz.jpeg?q=50\n",
      "https://rukminim1.flixcart.com/image/329/395/k70spzk0/shirt/3/a/z/m-hlsh010763-highlander-original-imafpchtrw4khwdd.jpeg?q=50\n",
      "https://rukminim1.flixcart.com/image/329/395/k2arbm80/shirt/c/q/y/s-ufsh0652-u-s-polo-assn-original-imafhnzqrhnvuamv.jpeg?q=50\n",
      "https://rukminim1.flixcart.com/image/329/395/k79dd3k0/shirt/p/h/y/42-pesfmslpa29755-peter-england-original-imafpjkyksvfxxdk.jpeg?q=50\n",
      "https://rukminim1.flixcart.com/image/329/395/k0vbgy80/shirt/r/m/y/40-pesfmslpv04394-peter-england-original-imafkjfzugjwqqme.jpeg?q=50\n",
      "https://rukminim1.flixcart.com/image/329/395/k55n0y80/shirt/4/u/a/40-rmsz09862-b8-raymond-original-imafnuncgsnn4eub.jpeg?q=50\n",
      "https://rukminim1.flixcart.com/image/329/395/jyxaw7k0/shirt/m/9/h/s-men-shirt-2-pink-ronexss-original-imafjy6792cczmaw.jpeg?q=50\n",
      "https://rukminim1.flixcart.com/image/329/395/shirt/k/e/c/rc-37-sky-rose-wear-m-original-imaehudmsbq5adwz.jpeg?q=50\n",
      "https://rukminim1.flixcart.com/image/329/395/jeokbrk0/shirt/g/f/z/s-shirt-102-deekshaclothing-original-imaf3bzd52fvhvyz.jpeg?q=50\n",
      "https://rukminim1.flixcart.com/image/329/395/k4vmxzk0/shirt/m/u/n/39-lpsfmclbu03306-louis-philippe-original-imafnzsebrathfg7.jpeg?q=50\n",
      "https://rukminim1.flixcart.com/image/329/395/k0wqwsw0/shirt/h/a/y/40-pesfmslpk99361-peter-england-original-imafkhjhnhtqurja.jpeg?q=50\n",
      "https://rukminim1.flixcart.com/image/329/395/k6zda4w0/shirt/a/k/w/38-pesfmslfh24757-peter-england-original-imafpbnf693xx9uw.jpeg?q=50\n",
      "https://rukminim1.flixcart.com/image/329/395/kb89ea80/shirt/d/3/e/xl-afsh002gy42-a-forean-original-imafsm4rguggfzsp.jpeg?q=50\n",
      "https://rukminim1.flixcart.com/image/329/395/jbv42a80/shirt/8/r/z/38-bfcoprsht02ab-being-fab-original-imaff4bkgd628vuc.jpeg?q=50\n",
      "https://rukminim1.flixcart.com/image/329/395/kcdp5zk0/shirt/8/e/z/m-maw19fsh002cc-metronaut-original-imaftgnvhcfgxync.jpeg?q=50\n",
      "https://rukminim1.flixcart.com/image/329/395/kddf6a80/shirt/0/c/l/40-rqsx00183-w0-raymond-original-imafuagqpg88fzfg.jpeg?q=50\n",
      "https://rukminim1.flixcart.com/image/329/395/k41mp3k0/shirt/u/8/h/xl-ufsh0649-u-s-polo-assn-original-imafmzs76fhsytgn.jpeg?q=50\n",
      "https://rukminim1.flixcart.com/image/329/395/jmmce4w0/shirt/j/k/h/l-dcs-17-the-rich-clothing-original-imaf9ahfhpszcx4v.jpeg?q=50\n",
      "https://rukminim1.flixcart.com/image/329/395/k4x2du80/shirt/r/x/9/40-rmsz09967-b4-raymond-original-imafnp3amedn5rh5.jpeg?q=50\n",
      "https://rukminim1.flixcart.com/image/329/395/kdga1zk0/shirt/h/m/d/38-vhsfbslbn55571-van-heusen-original-imafuczjecg8xcxx.jpeg?q=50\n",
      "https://rukminim1.flixcart.com/image/329/395/k40798w0/shirt/h/d/m/40-pisfergfr75536-peter-england-original-imafnyb6ngfqbpy3.jpeg?q=50\n",
      "https://rukminim1.flixcart.com/image/329/395/kdga1zk0/shirt/t/z/w/40-441001780-med-grey40-john-players-original-imafucy5qqkrxmxq.jpeg?q=50\n",
      "https://rukminim1.flixcart.com/image/329/395/k40798w0/shirt/w/3/a/l-ufsh0605-u-s-polo-assn-original-imafmzvcmhgg85vk.jpeg?q=50\n",
      "https://rukminim1.flixcart.com/image/329/395/jvzkb680/shirt/r/z/n/m-shirt-824-dikshaa-original-imafgpgbfhz6fe5z.jpeg?q=50\n",
      "https://rukminim1.flixcart.com/image/329/395/k6jnfrk0/shirt/z/x/e/38-pesfmslfy62269-peter-england-original-imafzzjybjharnwt.jpeg?q=50\n",
      "https://rukminim1.flixcart.com/image/329/395/ju1jqfk0/shirt/b/w/2/40-rmsz08918-r3-raymond-original-imaff9p59nkhzpwv.jpeg?q=50\n",
      "https://rukminim1.flixcart.com/image/329/395/k41mp3k0/shirt/5/9/s/xxl-ufsh0604-u-s-polo-assn-original-imafmztwfuts9g83.jpeg?q=50\n",
      "https://rukminim1.flixcart.com/image/329/395/k15bjww0/shirt/r/q/f/44-pesfmnufe76446-peter-england-original-imafknuybbnge5um.jpeg?q=50\n",
      "https://rukminim1.flixcart.com/image/329/395/k0wqwsw0/shirt/d/z/b/m-m-ss19-c-csh-001b-metronaut-original-imafkkwb6h4hzpnf.jpeg?q=50\n",
      "https://rukminim1.flixcart.com/image/329/395/k2jbyq80/shirt/6/g/e/42-vhsfccup500796-van-heusen-original-imafhv9zfzxhzhhf.jpeg?q=50\n",
      "https://rukminim1.flixcart.com/image/329/395/juljwcw0/shirt/z/b/n/39-pmsx12640-b4-park-avenue-original-imaffzh5rgbhrvgz.jpeg?q=50\n",
      "https://rukminim1.flixcart.com/image/329/395/k4u7i4w0/shirt/g/g/k/38-lpsfmslfh45198-louis-philippe-original-imafnmzevbqf834h.jpeg?q=50\n",
      "https://rukminim1.flixcart.com/image/329/395/jqmnv680/shirt/m/g/x/xxl-ussh5701-u-s-polo-assn-original-imafchzeygfqfqfg.jpeg?q=50\n"
     ]
    }
   ],
   "source": [
    "urls= []\n",
    "for image in images:\n",
    "    source= image.get_attribute('src')\n",
    "    urls.append(source)\n",
    "    print(source)"
   ]
  },
  {
   "cell_type": "code",
   "execution_count": 33,
   "metadata": {},
   "outputs": [
    {
     "name": "stdout",
     "output_type": "stream",
     "text": [
      "Downloading 1 of 40 images from page 5\n",
      "Downloading 2 of 40 images from page 5\n",
      "Downloading 3 of 40 images from page 5\n",
      "Downloading 4 of 40 images from page 5\n",
      "Downloading 5 of 40 images from page 5\n",
      "Downloading 6 of 40 images from page 5\n",
      "Downloading 7 of 40 images from page 5\n",
      "Downloading 8 of 40 images from page 5\n",
      "Downloading 9 of 40 images from page 5\n",
      "Downloading 10 of 40 images from page 5\n",
      "Downloading 11 of 40 images from page 5\n",
      "Downloading 12 of 40 images from page 5\n",
      "Downloading 13 of 40 images from page 5\n",
      "Downloading 14 of 40 images from page 5\n",
      "Downloading 15 of 40 images from page 5\n",
      "Downloading 16 of 40 images from page 5\n",
      "Downloading 17 of 40 images from page 5\n",
      "Downloading 18 of 40 images from page 5\n",
      "Downloading 19 of 40 images from page 5\n",
      "Downloading 20 of 40 images from page 5\n",
      "Downloading 21 of 40 images from page 5\n",
      "Downloading 22 of 40 images from page 5\n",
      "Downloading 23 of 40 images from page 5\n",
      "Downloading 24 of 40 images from page 5\n",
      "Downloading 25 of 40 images from page 5\n",
      "Downloading 26 of 40 images from page 5\n",
      "Downloading 27 of 40 images from page 5\n",
      "Downloading 28 of 40 images from page 5\n",
      "Downloading 29 of 40 images from page 5\n",
      "Downloading 30 of 40 images from page 5\n",
      "Downloading 31 of 40 images from page 5\n",
      "Downloading 32 of 40 images from page 5\n",
      "Downloading 33 of 40 images from page 5\n",
      "Downloading 34 of 40 images from page 5\n",
      "Downloading 35 of 40 images from page 5\n",
      "Downloading 36 of 40 images from page 5\n",
      "Downloading 37 of 40 images from page 5\n",
      "Downloading 38 of 40 images from page 5\n",
      "Downloading 39 of 40 images from page 5\n",
      "Downloading 40 of 40 images from page 5\n"
     ]
    }
   ],
   "source": [
    "# Changing for page 5\n",
    "page=5\n",
    "for index, link in enumerate(urls):\n",
    "    print(\"Downloading {0} of {1} images from page 5\".format(index+1, len(urls)))\n",
    "    response= requests.get(link)\n",
    "    with open('Shirts/img_{0}{1}.jpeg'.format(index, page), \"wb\") as file:\n",
    "        file.write(response.content)"
   ]
  }
 ],
 "metadata": {
  "kernelspec": {
   "display_name": "Python 3",
   "language": "python",
   "name": "python3"
  },
  "language_info": {
   "codemirror_mode": {
    "name": "ipython",
    "version": 3
   },
   "file_extension": ".py",
   "mimetype": "text/x-python",
   "name": "python",
   "nbconvert_exporter": "python",
   "pygments_lexer": "ipython3",
   "version": "3.7.7"
  }
 },
 "nbformat": 4,
 "nbformat_minor": 4
}
